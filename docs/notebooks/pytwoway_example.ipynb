{
 "cells": [
  {
   "cell_type": "markdown",
   "metadata": {},
   "source": [
    "# pytwoway example"
   ]
  },
  {
   "cell_type": "code",
   "execution_count": 1,
   "metadata": {},
   "outputs": [],
   "source": [
    "# Add pytwoway to system path, do not run this\n",
    "# import sys\n",
    "# sys.path.append('../../..')"
   ]
  },
  {
   "cell_type": "code",
   "execution_count": 2,
   "metadata": {
    "ExecuteTime": {
     "end_time": "2021-01-15T23:38:19.123052Z",
     "start_time": "2021-01-15T23:38:18.565950Z"
    }
   },
   "outputs": [],
   "source": [
    "# Import the pytwoway package \n",
    "# (Make sure you have installed it using pip install pytwoway)\n",
    "import pytwoway as tw"
   ]
  },
  {
   "cell_type": "markdown",
   "metadata": {},
   "source": [
    "## Simulate some data\n",
    "\n",
    "The package contains functions to simulate data. We use this here to keep things simple. If you have your own data, you can import it. Load it as a pandas dataframe and use it as an input. \n",
    "\n",
    "As you can see, we will need the following required columns in our data: \n",
    "\n",
    " - `wid`: the worker identifier\n",
    " - `fid`: the firm identifier\n",
    " - `year`: the time\n",
    " - `comp`: the outcome variable, in our case compensation"
   ]
  },
  {
   "cell_type": "code",
   "execution_count": 3,
   "metadata": {
    "ExecuteTime": {
     "end_time": "2021-01-15T23:38:20.546690Z",
     "start_time": "2021-01-15T23:38:20.254142Z"
    }
   },
   "outputs": [
    {
     "data": {
      "text/html": [
       "<div>\n",
       "<style scoped>\n",
       "    .dataframe tbody tr th:only-of-type {\n",
       "        vertical-align: middle;\n",
       "    }\n",
       "\n",
       "    .dataframe tbody tr th {\n",
       "        vertical-align: top;\n",
       "    }\n",
       "\n",
       "    .dataframe thead th {\n",
       "        text-align: right;\n",
       "    }\n",
       "</style>\n",
       "<table border=\"1\" class=\"dataframe\">\n",
       "  <thead>\n",
       "    <tr style=\"text-align: right;\">\n",
       "      <th></th>\n",
       "      <th>wid</th>\n",
       "      <th>year</th>\n",
       "      <th>k</th>\n",
       "      <th>alpha</th>\n",
       "      <th>psi</th>\n",
       "      <th>spell</th>\n",
       "      <th>freq</th>\n",
       "      <th>fid</th>\n",
       "      <th>move</th>\n",
       "      <th>comp</th>\n",
       "    </tr>\n",
       "  </thead>\n",
       "  <tbody>\n",
       "    <tr>\n",
       "      <th>0</th>\n",
       "      <td>1</td>\n",
       "      <td>1</td>\n",
       "      <td>5</td>\n",
       "      <td>0.430727</td>\n",
       "      <td>0.114185</td>\n",
       "      <td>1</td>\n",
       "      <td>3</td>\n",
       "      <td>84</td>\n",
       "      <td>False</td>\n",
       "      <td>1.920632</td>\n",
       "    </tr>\n",
       "    <tr>\n",
       "      <th>1</th>\n",
       "      <td>1</td>\n",
       "      <td>2</td>\n",
       "      <td>5</td>\n",
       "      <td>0.430727</td>\n",
       "      <td>0.114185</td>\n",
       "      <td>1</td>\n",
       "      <td>3</td>\n",
       "      <td>84</td>\n",
       "      <td>False</td>\n",
       "      <td>0.527406</td>\n",
       "    </tr>\n",
       "    <tr>\n",
       "      <th>2</th>\n",
       "      <td>1</td>\n",
       "      <td>3</td>\n",
       "      <td>5</td>\n",
       "      <td>0.430727</td>\n",
       "      <td>0.114185</td>\n",
       "      <td>1</td>\n",
       "      <td>3</td>\n",
       "      <td>84</td>\n",
       "      <td>False</td>\n",
       "      <td>-0.714207</td>\n",
       "    </tr>\n",
       "    <tr>\n",
       "      <th>3</th>\n",
       "      <td>1</td>\n",
       "      <td>4</td>\n",
       "      <td>6</td>\n",
       "      <td>0.430727</td>\n",
       "      <td>0.348756</td>\n",
       "      <td>2</td>\n",
       "      <td>2</td>\n",
       "      <td>115</td>\n",
       "      <td>True</td>\n",
       "      <td>0.375877</td>\n",
       "    </tr>\n",
       "    <tr>\n",
       "      <th>4</th>\n",
       "      <td>1</td>\n",
       "      <td>5</td>\n",
       "      <td>6</td>\n",
       "      <td>0.430727</td>\n",
       "      <td>0.348756</td>\n",
       "      <td>2</td>\n",
       "      <td>2</td>\n",
       "      <td>115</td>\n",
       "      <td>False</td>\n",
       "      <td>0.843413</td>\n",
       "    </tr>\n",
       "    <tr>\n",
       "      <th>...</th>\n",
       "      <td>...</td>\n",
       "      <td>...</td>\n",
       "      <td>...</td>\n",
       "      <td>...</td>\n",
       "      <td>...</td>\n",
       "      <td>...</td>\n",
       "      <td>...</td>\n",
       "      <td>...</td>\n",
       "      <td>...</td>\n",
       "      <td>...</td>\n",
       "    </tr>\n",
       "    <tr>\n",
       "      <th>49995</th>\n",
       "      <td>10000</td>\n",
       "      <td>1</td>\n",
       "      <td>8</td>\n",
       "      <td>0.000000</td>\n",
       "      <td>0.908458</td>\n",
       "      <td>1</td>\n",
       "      <td>1</td>\n",
       "      <td>150</td>\n",
       "      <td>False</td>\n",
       "      <td>1.267188</td>\n",
       "    </tr>\n",
       "    <tr>\n",
       "      <th>49996</th>\n",
       "      <td>10000</td>\n",
       "      <td>2</td>\n",
       "      <td>7</td>\n",
       "      <td>0.000000</td>\n",
       "      <td>0.604585</td>\n",
       "      <td>2</td>\n",
       "      <td>4</td>\n",
       "      <td>137</td>\n",
       "      <td>True</td>\n",
       "      <td>0.672805</td>\n",
       "    </tr>\n",
       "    <tr>\n",
       "      <th>49997</th>\n",
       "      <td>10000</td>\n",
       "      <td>3</td>\n",
       "      <td>7</td>\n",
       "      <td>0.000000</td>\n",
       "      <td>0.604585</td>\n",
       "      <td>2</td>\n",
       "      <td>4</td>\n",
       "      <td>137</td>\n",
       "      <td>False</td>\n",
       "      <td>-0.623615</td>\n",
       "    </tr>\n",
       "    <tr>\n",
       "      <th>49998</th>\n",
       "      <td>10000</td>\n",
       "      <td>4</td>\n",
       "      <td>7</td>\n",
       "      <td>0.000000</td>\n",
       "      <td>0.604585</td>\n",
       "      <td>2</td>\n",
       "      <td>4</td>\n",
       "      <td>137</td>\n",
       "      <td>False</td>\n",
       "      <td>0.291969</td>\n",
       "    </tr>\n",
       "    <tr>\n",
       "      <th>49999</th>\n",
       "      <td>10000</td>\n",
       "      <td>5</td>\n",
       "      <td>7</td>\n",
       "      <td>0.000000</td>\n",
       "      <td>0.604585</td>\n",
       "      <td>2</td>\n",
       "      <td>4</td>\n",
       "      <td>137</td>\n",
       "      <td>False</td>\n",
       "      <td>0.454164</td>\n",
       "    </tr>\n",
       "  </tbody>\n",
       "</table>\n",
       "<p>50000 rows × 10 columns</p>\n",
       "</div>"
      ],
      "text/plain": [
       "         wid  year  k     alpha       psi  spell  freq  fid   move      comp\n",
       "0          1     1  5  0.430727  0.114185      1     3   84  False  1.920632\n",
       "1          1     2  5  0.430727  0.114185      1     3   84  False  0.527406\n",
       "2          1     3  5  0.430727  0.114185      1     3   84  False -0.714207\n",
       "3          1     4  6  0.430727  0.348756      2     2  115   True  0.375877\n",
       "4          1     5  6  0.430727  0.348756      2     2  115  False  0.843413\n",
       "...      ...   ... ..       ...       ...    ...   ...  ...    ...       ...\n",
       "49995  10000     1  8  0.000000  0.908458      1     1  150  False  1.267188\n",
       "49996  10000     2  7  0.000000  0.604585      2     4  137   True  0.672805\n",
       "49997  10000     3  7  0.000000  0.604585      2     4  137  False -0.623615\n",
       "49998  10000     4  7  0.000000  0.604585      2     4  137  False  0.291969\n",
       "49999  10000     5  7  0.000000  0.604585      2     4  137  False  0.454164\n",
       "\n",
       "[50000 rows x 10 columns]"
      ]
     },
     "metadata": {},
     "output_type": "display_data"
    }
   ],
   "source": [
    "# For the example, we simulate data\n",
    "sim_data = tw.SimTwoWay().sim_network()\n",
    "display(sim_data)"
   ]
  },
  {
   "cell_type": "markdown",
   "metadata": {},
   "source": [
    "## Create a TwoWay object using your data"
   ]
  },
  {
   "cell_type": "code",
   "execution_count": 4,
   "metadata": {
    "ExecuteTime": {
     "end_time": "2021-01-15T23:38:23.409822Z",
     "start_time": "2021-01-15T23:38:23.405804Z"
    }
   },
   "outputs": [],
   "source": [
    "# We need to specify a column dictionary to make sure columns are named correctly\n",
    "# You can also manually update column names yourself\n",
    "col_name_dict = {\n",
    "    'fid': 'fid',    # Specify the column name for the firm identifier \n",
    "    'wid': 'wid',    # Specify the column name for the worker identifier \n",
    "    'year': 'year',  # Specify the column name for the year\n",
    "    'comp': 'comp'   # Specify the column name for the outcome variable\n",
    "}\n",
    "\n",
    "# Create the TwoWay object that will do all the heavy lifting\n",
    "tw_net = tw.TwoWay(data=sim_data, formatting='long', col_dict=col_name_dict)"
   ]
  },
  {
   "cell_type": "markdown",
   "metadata": {},
   "source": [
    "## Now we can run the FE estimator"
   ]
  },
  {
   "cell_type": "code",
   "execution_count": 5,
   "metadata": {
    "ExecuteTime": {
     "end_time": "2020-12-22T21:42:49.482723Z",
     "start_time": "2020-12-22T21:42:49.357210Z"
    }
   },
   "outputs": [
    {
     "name": "stderr",
     "output_type": "stream",
     "text": [
      "100%|██████████| 5/5 [00:00<00:00, 249.65it/s]\n"
     ]
    }
   ],
   "source": [
    "## Optional Parameters ##\n",
    "fe_params = {\n",
    "    'ncore': 1, # Number of cores to use\n",
    "    'batch': 1, # Batch size to send in parallel\n",
    "    'ndraw_pii': 50, # Number of draw to use in approximation for leverages\n",
    "    'ndraw_tr': 5, # Number of draws to use in approximation for traces\n",
    "    'check': False, # Whether to compute the non-approximated estimates as well\n",
    "    'hetero': False, # Whether to compute the heteroskedastic estimates\n",
    "    'out': 'res_fe.json', # Filepath for fe results\n",
    "    'con': False, # Computes the smallest eigen values, this is the filepath where these results are saved\n",
    "    'logfile': '', # Log output to a logfile\n",
    "    'levfile': '', # File to load precomputed leverages\n",
    "    'statsonly': False # Save data statistics only\n",
    "}\n",
    "\n",
    "# Compute the fixed effect decomposition\n",
    "fe_res = tw_net.fit_fe(user_fe=fe_params)"
   ]
  },
  {
   "cell_type": "markdown",
   "metadata": {},
   "source": [
    "## We can also run the CRE estimator"
   ]
  },
  {
   "cell_type": "code",
   "execution_count": 6,
   "metadata": {
    "ExecuteTime": {
     "end_time": "2020-12-22T21:42:51.485812Z",
     "start_time": "2020-12-22T21:42:51.144952Z"
    }
   },
   "outputs": [],
   "source": [
    "## Optional Parameters ##\n",
    "cre_params = {\n",
    "    'ncore': 1, # Number of cores to use\n",
    "    'ndraw_tr': 5, # Number of draws to use in approximation for traces\n",
    "    'ndp': 50, # Number of draw to use in approximation for leverages\n",
    "    'out': 'res_cre.json', # Filepath for cre results\n",
    "    'posterior': False, # Whether to compute the posterior variance\n",
    "    'wobtw': False # Sets between variation to 0, pure RE when computing cre\n",
    "}\n",
    "KMeans_params = { # These parameters are specifically for the KMeans algorithm\n",
    "                  # Read more at https://scikit-learn.org/stable/modules/generated/sklearn.cluster.KMeans.html\n",
    "    'n_clusters': 10,\n",
    "    'init': 'k-means++',\n",
    "    'n_init': 500,\n",
    "    'max_iter': 300,\n",
    "    'tol': 0.0001,\n",
    "    'precompute_distances': 'deprecated',\n",
    "    'verbose': 0,\n",
    "    'random_state': None,\n",
    "    'copy_x': True,\n",
    "    'n_jobs': 'deprecated',\n",
    "    'algorithm': 'auto'\n",
    "}\n",
    "cluster_params = {\n",
    "    'cdf_resolution': 10, # How many values to use to approximate the cdf when clustering\n",
    "    'grouping': 'quantile_all',\n",
    "        # How to group the cdfs when clustering\n",
    "        # ('quantile_all' to get quantiles from entire set of data,\n",
    "        #     then have firm-level values between 0 and 1;\n",
    "        # 'quantile_firm_small' to get quantiles at the firm-level\n",
    "        #     and have values be compensations if small data;\n",
    "        # 'quantile_firm_large' to get quantiles at the firm-level\n",
    "        #     and have values be compensations if large data,\n",
    "        #     note that this is up to 50 times slower than 'quantile_firm_small'\n",
    "        #     and should only be used if the dataset is too large to copy\n",
    "        #     into a dictionary)\n",
    "    'year': None, # If None, uses entire dataset when clustering;\n",
    "                  # If int, gives year of data to consider when clustering\n",
    "    'user_KMeans': KMeans_params\n",
    "}\n",
    "\n",
    "# Compute the cre model\n",
    "cre_res = tw_net.fit_cre(user_cre=cre_params, user_cluster=cluster_params)"
   ]
  },
  {
   "cell_type": "markdown",
   "metadata": {},
   "source": [
    "## Finally, we can investigate the results"
   ]
  },
  {
   "cell_type": "code",
   "execution_count": 7,
   "metadata": {
    "ExecuteTime": {
     "end_time": "2020-12-22T21:42:51.498849Z",
     "start_time": "2020-12-22T21:42:51.489723Z"
    },
    "scrolled": true
   },
   "outputs": [
    {
     "data": {
      "text/plain": [
       "{'cores': '1',\n",
       " 'ndp': '50',\n",
       " 'ndt': '5',\n",
       " 'n_firms': '196',\n",
       " 'n_workers': '10000',\n",
       " 'n_movers': '9344',\n",
       " 'n_stayers': '656',\n",
       " 'mover_quantiles': '[157.0, 181.0, 187.92894736842106, 195.0, 200.7450980392157, 206.0, 210.0, 214.0, 217.0, 228.0, 255.0]',\n",
       " 'size_quantiles': '[161.0, 185.50404312668465, 191.0, 198.0, 204.0, 209.0, 213.0, 217.0, 221.76975169300226, 231.61555075593952, 261.0]',\n",
       " 'between_firm_var': '0.9891734496234688',\n",
       " 'var_y': '1.9550009807689568',\n",
       " 'solver_time': '0.003079912000000018',\n",
       " 'tot_var': '1.9599014840913969',\n",
       " 'eps_var_ho': '0.6962512205591249',\n",
       " 'eps_var_fe': '0.5205946703586726',\n",
       " 'tr_var_ho': '0.00863868934254388',\n",
       " 'tr_cov_ho': '-0.004786864415815065',\n",
       " 'var_fe': '0.6109407805741677',\n",
       " 'cov_fe': '0.16480214211415423',\n",
       " 'var_ho': '0.6049260825753904',\n",
       " 'cov_ho': '0.1681350023063165',\n",
       " 'total_time': '0.07845926284790039'}"
      ]
     },
     "metadata": {},
     "output_type": "display_data"
    },
    {
     "data": {
      "text/plain": [
       "{'cores': '1',\n",
       " 'ndt': '5',\n",
       " 'n_firms': '196',\n",
       " 'n_workers': '10000',\n",
       " 'n_movers': '9344',\n",
       " 'n_stayers': '656',\n",
       " 'y1s_y1s': '0.02229858598031033',\n",
       " 'y1s_y1s_count': '620',\n",
       " 'y1s_var': '0.43221433361635203',\n",
       " 'y1s_var_count': '656',\n",
       " 'y1m_var': '0.9638887986375038',\n",
       " 'y1m_var_count': '19877',\n",
       " 'y2m_var': '0.9733870015979674',\n",
       " 'y2m_var_count': '19877',\n",
       " 'y1s_y1m1': '-0.0006583412937040781',\n",
       " 'y1s_y1m1_count': '656',\n",
       " 'y1s_y2m1': '-0.00024645058225545305',\n",
       " 'y1s_y2m1_count': '656',\n",
       " 'y1m1_y1m1': '-0.0013848178450396778',\n",
       " 'y1m1_y1m1_count': '19877',\n",
       " 'y2m1_y1m1': '-0.00042964278133828876',\n",
       " 'y2m1_y1m1_count': '19877',\n",
       " 'y2m1_y2m1': '-0.00019569228326585966',\n",
       " 'y2m1_y2m1_count': '19877',\n",
       " 'y1s_y1m2': '0.0028913676531741777',\n",
       " 'y1s_y1m2_count': '656',\n",
       " 'y1s_y2m2': '0.00041021309905162924',\n",
       " 'y1s_y2m2_count': '656',\n",
       " 'y1m2_y1m2': '0.0009235715713498977',\n",
       " 'y1m2_y1m2_count': '19877',\n",
       " 'y2m2_y1m2': '-0.00047052000676044045',\n",
       " 'y2m2_y1m2_count': '19877',\n",
       " 'y2m2_y2m2': '-0.0024230242553870823',\n",
       " 'y2m2_y2m2_count': '19877',\n",
       " 'dym_dym': '1.5663549895290279',\n",
       " 'dym_dym_count': '16517',\n",
       " 'y1m_y2m': '0.1924235851198149',\n",
       " 'y1m_y2m_count': '16517',\n",
       " 'cov_Am1Am1': '-0.00019569228326585966',\n",
       " 'cov_Am1Psi1': '-0.0002339504980724291',\n",
       " 'var_psi_m1': '-0.0007212245656289598',\n",
       " 'cov_Am2Am2': '0.0009235715713498977',\n",
       " 'cov_Am2Psi2': '-0.0013940915781103381',\n",
       " 'var_psi_m2': '-0.0005584126705163038',\n",
       " 'cov_AsAm1': '-1.2500084183023947e-05',\n",
       " 'cov_AsAm2': '0.004285459231284516',\n",
       " 'psi_plus_cov1': '-0.00041189071144862504',\n",
       " 'psi_plus_cov2': '-0.0024811545541225484',\n",
       " 'var_psi': '-0.0006398186180726318',\n",
       " 'cov_AsPsi1': '-0.0022532266474985414',\n",
       " 'cov_AsAs': '0.027444857893380043',\n",
       " 'var_eps': '1.567634626765173',\n",
       " 'var_y': '1.9550009807689568',\n",
       " 'var_bw': '0.6071808800494524',\n",
       " 'cov_bw': '0.167157390383125',\n",
       " 'var_wt': '-0.0006398186180726318',\n",
       " 'cov_wt': '-0.0002984634846805005',\n",
       " 'tot_var': '0.6065410614313798',\n",
       " 'total_time': '0.20052409172058105'}"
      ]
     },
     "metadata": {},
     "output_type": "display_data"
    }
   ],
   "source": [
    "display(fe_res)\n",
    "display(cre_res)"
   ]
  }
 ],
 "metadata": {
  "celltoolbar": "Tags",
  "hide_input": false,
  "kernelspec": {
   "display_name": "Python 3",
   "language": "python",
   "name": "python3"
  },
  "language_info": {
   "codemirror_mode": {
    "name": "ipython",
    "version": 3
   },
   "file_extension": ".py",
   "mimetype": "text/x-python",
   "name": "python",
   "nbconvert_exporter": "python",
   "pygments_lexer": "ipython3",
   "version": "3.7.9"
  },
  "latex_envs": {
   "LaTeX_envs_menu_present": true,
   "autoclose": false,
   "autocomplete": true,
   "bibliofile": "biblio.bib",
   "cite_by": "apalike",
   "current_citInitial": 1,
   "eqLabelWithNumbers": true,
   "eqNumInitial": 1,
   "hotkeys": {
    "equation": "Ctrl-E",
    "itemize": "Ctrl-I"
   },
   "labels_anchors": false,
   "latex_user_defs": false,
   "report_style_numbering": false,
   "user_envs_cfg": false
  },
  "nbsphinx-toctree": {
   "hidden": true,
   "maxdepth": 1,
   "titlesonly": true
  },
  "toc": {
   "base_numbering": 1,
   "nav_menu": {},
   "number_sections": true,
   "sideBar": true,
   "skip_h1_title": false,
   "title_cell": "Table of Contents",
   "title_sidebar": "Contents",
   "toc_cell": false,
   "toc_position": {},
   "toc_section_display": true,
   "toc_window_display": false
  },
  "varInspector": {
   "cols": {
    "lenName": 16,
    "lenType": 16,
    "lenVar": 40
   },
   "kernels_config": {
    "python": {
     "delete_cmd_postfix": "",
     "delete_cmd_prefix": "del ",
     "library": "var_list.py",
     "varRefreshCmd": "print(var_dic_list())"
    },
    "r": {
     "delete_cmd_postfix": ") ",
     "delete_cmd_prefix": "rm(",
     "library": "var_list.r",
     "varRefreshCmd": "cat(var_dic_list()) "
    }
   },
   "types_to_exclude": [
    "module",
    "function",
    "builtin_function_or_method",
    "instance",
    "_Feature"
   ],
   "window_display": false
  }
 },
 "nbformat": 4,
 "nbformat_minor": 4
}
