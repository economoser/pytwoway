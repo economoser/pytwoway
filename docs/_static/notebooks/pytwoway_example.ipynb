{
 "cells": [
  {
   "cell_type": "markdown",
   "metadata": {},
   "source": [
    "# pytwoway example"
   ]
  },
  {
   "cell_type": "code",
   "execution_count": 1,
   "metadata": {
    "ExecuteTime": {
     "end_time": "2020-12-22T21:42:48.755172Z",
     "start_time": "2020-12-22T21:42:47.334825Z"
    }
   },
   "outputs": [],
   "source": [
    "import os, sys\n",
    "# Navigate to parent folder for import\n",
    "os.chdir('../../..')\n",
    "from pytwoway import sim_twfe_network\n",
    "sn = sim_twfe_network.sim_twfe_network\n",
    "from pytwoway import twfe_network\n",
    "tn = twfe_network.twfe_network\n",
    "\n",
    "# Weird code needed for output to show\n",
    "os.chdir('docs-src/source/notebooks')\n",
    "stdout = sys.stdout\n",
    "sys.path.insert(1, os.path.join(sys.path[0], '..'))\n",
    "sys.stdout = stdout"
   ]
  },
  {
   "cell_type": "markdown",
   "metadata": {},
   "source": [
    "## First, get your data"
   ]
  },
  {
   "cell_type": "code",
   "execution_count": 2,
   "metadata": {
    "ExecuteTime": {
     "end_time": "2020-12-22T21:42:49.104469Z",
     "start_time": "2020-12-22T21:42:48.757459Z"
    }
   },
   "outputs": [
    {
     "data": {
      "text/html": [
       "<div>\n",
       "<style scoped>\n",
       "    .dataframe tbody tr th:only-of-type {\n",
       "        vertical-align: middle;\n",
       "    }\n",
       "\n",
       "    .dataframe tbody tr th {\n",
       "        vertical-align: top;\n",
       "    }\n",
       "\n",
       "    .dataframe thead th {\n",
       "        text-align: right;\n",
       "    }\n",
       "</style>\n",
       "<table border=\"1\" class=\"dataframe\">\n",
       "  <thead>\n",
       "    <tr style=\"text-align: right;\">\n",
       "      <th></th>\n",
       "      <th>wid</th>\n",
       "      <th>year</th>\n",
       "      <th>k</th>\n",
       "      <th>alpha</th>\n",
       "      <th>psi</th>\n",
       "      <th>spell</th>\n",
       "      <th>freq</th>\n",
       "      <th>fid</th>\n",
       "      <th>move</th>\n",
       "      <th>comp</th>\n",
       "    </tr>\n",
       "  </thead>\n",
       "  <tbody>\n",
       "    <tr>\n",
       "      <th>0</th>\n",
       "      <td>1</td>\n",
       "      <td>1</td>\n",
       "      <td>4</td>\n",
       "      <td>0.430727</td>\n",
       "      <td>-0.114185</td>\n",
       "      <td>1</td>\n",
       "      <td>2</td>\n",
       "      <td>73</td>\n",
       "      <td>False</td>\n",
       "      <td>0.771214</td>\n",
       "    </tr>\n",
       "    <tr>\n",
       "      <th>1</th>\n",
       "      <td>1</td>\n",
       "      <td>2</td>\n",
       "      <td>4</td>\n",
       "      <td>0.430727</td>\n",
       "      <td>-0.114185</td>\n",
       "      <td>1</td>\n",
       "      <td>2</td>\n",
       "      <td>73</td>\n",
       "      <td>False</td>\n",
       "      <td>0.035170</td>\n",
       "    </tr>\n",
       "    <tr>\n",
       "      <th>2</th>\n",
       "      <td>1</td>\n",
       "      <td>3</td>\n",
       "      <td>9</td>\n",
       "      <td>0.430727</td>\n",
       "      <td>1.335178</td>\n",
       "      <td>2</td>\n",
       "      <td>3</td>\n",
       "      <td>173</td>\n",
       "      <td>True</td>\n",
       "      <td>1.890424</td>\n",
       "    </tr>\n",
       "    <tr>\n",
       "      <th>3</th>\n",
       "      <td>1</td>\n",
       "      <td>4</td>\n",
       "      <td>9</td>\n",
       "      <td>0.430727</td>\n",
       "      <td>1.335178</td>\n",
       "      <td>2</td>\n",
       "      <td>3</td>\n",
       "      <td>173</td>\n",
       "      <td>False</td>\n",
       "      <td>2.293282</td>\n",
       "    </tr>\n",
       "    <tr>\n",
       "      <th>4</th>\n",
       "      <td>1</td>\n",
       "      <td>5</td>\n",
       "      <td>9</td>\n",
       "      <td>0.430727</td>\n",
       "      <td>1.335178</td>\n",
       "      <td>2</td>\n",
       "      <td>3</td>\n",
       "      <td>173</td>\n",
       "      <td>False</td>\n",
       "      <td>1.031803</td>\n",
       "    </tr>\n",
       "    <tr>\n",
       "      <th>...</th>\n",
       "      <td>...</td>\n",
       "      <td>...</td>\n",
       "      <td>...</td>\n",
       "      <td>...</td>\n",
       "      <td>...</td>\n",
       "      <td>...</td>\n",
       "      <td>...</td>\n",
       "      <td>...</td>\n",
       "      <td>...</td>\n",
       "      <td>...</td>\n",
       "    </tr>\n",
       "    <tr>\n",
       "      <th>49995</th>\n",
       "      <td>10000</td>\n",
       "      <td>1</td>\n",
       "      <td>7</td>\n",
       "      <td>0.967422</td>\n",
       "      <td>0.604585</td>\n",
       "      <td>1</td>\n",
       "      <td>2</td>\n",
       "      <td>128</td>\n",
       "      <td>False</td>\n",
       "      <td>2.375694</td>\n",
       "    </tr>\n",
       "    <tr>\n",
       "      <th>49996</th>\n",
       "      <td>10000</td>\n",
       "      <td>2</td>\n",
       "      <td>7</td>\n",
       "      <td>0.967422</td>\n",
       "      <td>0.604585</td>\n",
       "      <td>1</td>\n",
       "      <td>2</td>\n",
       "      <td>128</td>\n",
       "      <td>False</td>\n",
       "      <td>1.844047</td>\n",
       "    </tr>\n",
       "    <tr>\n",
       "      <th>49997</th>\n",
       "      <td>10000</td>\n",
       "      <td>3</td>\n",
       "      <td>5</td>\n",
       "      <td>0.967422</td>\n",
       "      <td>0.114185</td>\n",
       "      <td>2</td>\n",
       "      <td>2</td>\n",
       "      <td>96</td>\n",
       "      <td>True</td>\n",
       "      <td>1.167899</td>\n",
       "    </tr>\n",
       "    <tr>\n",
       "      <th>49998</th>\n",
       "      <td>10000</td>\n",
       "      <td>4</td>\n",
       "      <td>5</td>\n",
       "      <td>0.967422</td>\n",
       "      <td>0.114185</td>\n",
       "      <td>2</td>\n",
       "      <td>2</td>\n",
       "      <td>96</td>\n",
       "      <td>False</td>\n",
       "      <td>0.088703</td>\n",
       "    </tr>\n",
       "    <tr>\n",
       "      <th>49999</th>\n",
       "      <td>10000</td>\n",
       "      <td>5</td>\n",
       "      <td>6</td>\n",
       "      <td>0.967422</td>\n",
       "      <td>0.348756</td>\n",
       "      <td>3</td>\n",
       "      <td>1</td>\n",
       "      <td>117</td>\n",
       "      <td>True</td>\n",
       "      <td>2.512437</td>\n",
       "    </tr>\n",
       "  </tbody>\n",
       "</table>\n",
       "<p>50000 rows × 10 columns</p>\n",
       "</div>"
      ],
      "text/plain": [
       "         wid  year  k     alpha       psi  spell  freq  fid   move      comp\n",
       "0          1     1  4  0.430727 -0.114185      1     2   73  False  0.771214\n",
       "1          1     2  4  0.430727 -0.114185      1     2   73  False  0.035170\n",
       "2          1     3  9  0.430727  1.335178      2     3  173   True  1.890424\n",
       "3          1     4  9  0.430727  1.335178      2     3  173  False  2.293282\n",
       "4          1     5  9  0.430727  1.335178      2     3  173  False  1.031803\n",
       "...      ...   ... ..       ...       ...    ...   ...  ...    ...       ...\n",
       "49995  10000     1  7  0.967422  0.604585      1     2  128  False  2.375694\n",
       "49996  10000     2  7  0.967422  0.604585      1     2  128  False  1.844047\n",
       "49997  10000     3  5  0.967422  0.114185      2     2   96   True  1.167899\n",
       "49998  10000     4  5  0.967422  0.114185      2     2   96  False  0.088703\n",
       "49999  10000     5  6  0.967422  0.348756      3     1  117   True  2.512437\n",
       "\n",
       "[50000 rows x 10 columns]"
      ]
     },
     "metadata": {},
     "output_type": "display_data"
    }
   ],
   "source": [
    "# For the example, we simulate data\n",
    "sim_data = sn().sim_network()\n",
    "display(sim_data)"
   ]
  },
  {
   "cell_type": "markdown",
   "metadata": {},
   "source": [
    "## Second, create a twfe_network object using your data"
   ]
  },
  {
   "cell_type": "code",
   "execution_count": 3,
   "metadata": {
    "ExecuteTime": {
     "end_time": "2020-12-22T21:42:49.112350Z",
     "start_time": "2020-12-22T21:42:49.108320Z"
    }
   },
   "outputs": [],
   "source": [
    "# We need to specify a column dictionary to make sure columns are named correctly. You can also manually update column names yourself\n",
    "col_dict = {'fid': 'fid', 'wid': 'wid', 'year': 'year', 'comp': 'comp'}\n",
    "tw_net = tn(data=sim_data, col_dict=col_dict) # tw_net for two-way network"
   ]
  },
  {
   "cell_type": "markdown",
   "metadata": {},
   "source": [
    "## Third, clean your data"
   ]
  },
  {
   "cell_type": "code",
   "execution_count": 4,
   "metadata": {
    "ExecuteTime": {
     "end_time": "2020-12-22T21:42:49.296291Z",
     "start_time": "2020-12-22T21:42:49.116284Z"
    }
   },
   "outputs": [],
   "source": [
    "tw_net.clean_data()"
   ]
  },
  {
   "cell_type": "markdown",
   "metadata": {
    "ExecuteTime": {
     "end_time": "2020-10-19T22:50:29.782669Z",
     "start_time": "2020-10-19T22:50:29.773749Z"
    }
   },
   "source": [
    "## Fourth, refactor your data into event study format"
   ]
  },
  {
   "cell_type": "code",
   "execution_count": 5,
   "metadata": {
    "ExecuteTime": {
     "end_time": "2020-12-22T21:42:49.355021Z",
     "start_time": "2020-12-22T21:42:49.299570Z"
    }
   },
   "outputs": [],
   "source": [
    "tw_net.refactor_es()"
   ]
  },
  {
   "cell_type": "markdown",
   "metadata": {},
   "source": [
    "## Now we can run AKM"
   ]
  },
  {
   "cell_type": "code",
   "execution_count": 6,
   "metadata": {
    "ExecuteTime": {
     "end_time": "2020-12-22T21:42:49.482723Z",
     "start_time": "2020-12-22T21:42:49.357210Z"
    }
   },
   "outputs": [
    {
     "name": "stderr",
     "output_type": "stream",
     "text": [
      "100%|██████████| 5/5 [00:00<00:00, 157.13it/s]\n"
     ]
    }
   ],
   "source": [
    "# Optional parameters\n",
    "akm_params = {'ncore': 1, 'batch': 1, 'ndraw_pii': 50, 'ndraw_tr': 5, 'check': False, 'hetero': False, 'out': 'res_akm.json', 'con': False, 'logfile': '', 'levfile': '', 'statsonly': False}\n",
    "akm_res = tw_net.run_akm_corrected(user_akm=akm_params)"
   ]
  },
  {
   "cell_type": "markdown",
   "metadata": {},
   "source": [
    "## Fifth, cluster your data for CRE estimates"
   ]
  },
  {
   "cell_type": "code",
   "execution_count": 7,
   "metadata": {
    "ExecuteTime": {
     "end_time": "2020-12-22T21:42:51.138871Z",
     "start_time": "2020-12-22T21:42:49.485380Z"
    }
   },
   "outputs": [],
   "source": [
    "# Optional parameters\n",
    "KMeans_params = {'n_clusters': 10, 'init': 'k-means++', 'n_init': 500, 'max_iter': 300, 'tol': 0.0001, 'precompute_distances': 'deprecated', 'verbose': 0, 'random_state': None, 'copy_x': True, 'n_jobs': 'deprecated', 'algorithm': 'auto'} # These parameters are specifically for the KMeans algorithm\n",
    "cluster_params = {'cdf_resolution': 10, 'grouping': 'quantile_all', 'year': None, 'user_KMeans': KMeans_params}\n",
    "tw_net.cluster()"
   ]
  },
  {
   "cell_type": "markdown",
   "metadata": {},
   "source": [
    "## Now we can run CRE"
   ]
  },
  {
   "cell_type": "code",
   "execution_count": 8,
   "metadata": {
    "ExecuteTime": {
     "end_time": "2020-12-22T21:42:51.485812Z",
     "start_time": "2020-12-22T21:42:51.144952Z"
    }
   },
   "outputs": [],
   "source": [
    "# Optional parameters\n",
    "cre_params = {'ncore': 1, 'ndraw_tr': 5, 'ndp': 50, 'out': 'res_cre.json', 'posterior': False, 'wobtw': False}\n",
    "cre_res = tw_net.run_cre(cre_params)"
   ]
  },
  {
   "cell_type": "markdown",
   "metadata": {},
   "source": [
    "## Finally, we can investigate the results"
   ]
  },
  {
   "cell_type": "code",
   "execution_count": 9,
   "metadata": {
    "ExecuteTime": {
     "end_time": "2020-12-22T21:42:51.498849Z",
     "start_time": "2020-12-22T21:42:51.489723Z"
    },
    "scrolled": true
   },
   "outputs": [
    {
     "data": {
      "text/plain": [
       "{'cores': '1',\n",
       " 'ndp': '50',\n",
       " 'ndt': '5',\n",
       " 'nm': '19891',\n",
       " 'ns': '628',\n",
       " 'n_firms': '195',\n",
       " 'n_workers': '10000',\n",
       " 'n_movers': '9372',\n",
       " 'mover_quantiles': '[142.0, 183.2860962566845, 192.0, 196.0, 202.0, 206.0, 209.0, 216.0, 220.0, 229.0, 248.0]',\n",
       " 'size_quantiles': '[146.0, 187.0, 194.0, 200.02992518703243, 204.96332518337408, 209.0, 212.0, 218.0, 224.0, 231.56803455723542, 248.0]',\n",
       " 'between_firm_var': '0.9883837155569579',\n",
       " 'var_y': '1.9784975745432956',\n",
       " 'solver_time': '0.00286392599999985',\n",
       " 'tot_var': '1.99383740928026',\n",
       " 'eps_var_ho': '0.7993938788120438',\n",
       " 'eps_var_fe': '0.3896476424390207',\n",
       " 'tr_var_ho': '0.010469772537502465',\n",
       " 'tr_cov_ho': '-0.005917196869515334',\n",
       " 'var_fe': '0.5709000088563824',\n",
       " 'cov_fe': '0.17504710641965776',\n",
       " 'var_ho': '0.5625305367773484',\n",
       " 'cov_ho': '0.1797772773768741',\n",
       " 'total_time': '0.12003612518310547'}"
      ]
     },
     "metadata": {},
     "output_type": "display_data"
    },
    {
     "data": {
      "text/plain": [
       "{'ndt': '5',\n",
       " 'nm': '19891',\n",
       " 'ns': '628',\n",
       " 'n_firms': '195',\n",
       " 'n_workers': '10000',\n",
       " 'var_y': '1.9784975745432956',\n",
       " 'y1s_y1s': '0.035297464535563886',\n",
       " 'y1s_y1s_count': '610',\n",
       " 'y1s_var': '0.3868875328015895',\n",
       " 'y1s_var_count': '628',\n",
       " 'y1m_var': '0.9974726215360628',\n",
       " 'y1m_var_count': '19891',\n",
       " 'y2m_var': '1.000243303764853',\n",
       " 'y2m_var_count': '19891',\n",
       " 'y1s_y1m1': '-0.00017031517812941057',\n",
       " 'y1s_y1m1_count': '628',\n",
       " 'y1s_y2m1': '-0.0005330669520971693',\n",
       " 'y1s_y2m1_count': '628',\n",
       " 'y1m1_y1m1': '-0.0015467229192112247',\n",
       " 'y1m1_y1m1_count': '19891',\n",
       " 'y2m1_y1m1': '-0.0009852650046617345',\n",
       " 'y2m1_y1m1_count': '19891',\n",
       " 'y2m1_y2m1': '-0.00028585089793406107',\n",
       " 'y2m1_y2m1_count': '19891',\n",
       " 'y1s_y1m2': '-0.001155578904117844',\n",
       " 'y1s_y1m2_count': '628',\n",
       " 'y1s_y2m2': '-0.00042701030842446773',\n",
       " 'y1s_y2m2_count': '628',\n",
       " 'y1m2_y1m2': '0.00146974744668433',\n",
       " 'y1m2_y1m2_count': '19891',\n",
       " 'y2m2_y1m2': '0.0004047538102877139',\n",
       " 'y2m2_y1m2_count': '19891',\n",
       " 'y2m2_y2m2': '-0.0008278402395265007',\n",
       " 'y2m2_y2m2_count': '19891',\n",
       " 'dym_dym': '1.6115147381235342',\n",
       " 'dym_dym_count': '16657',\n",
       " 'y1m_y2m': '0.20036338478603144',\n",
       " 'y1m_y2m_count': '16657',\n",
       " 'cov_Am1Am1': '-0.00028585089793406107',\n",
       " 'cov_Am1Psi1': '-0.0006994141067276733',\n",
       " 'var_psi_m1': '0.00013795619217818315',\n",
       " 'cov_Am2Am2': '0.00146974744668433',\n",
       " 'cov_Am2Psi2': '-0.001064993636396616',\n",
       " 'var_psi_m2': '-0.00016760041341759872',\n",
       " 'cov_AsAm1': '0.000166347154630504',\n",
       " 'cov_AsAm2': '-9.058526772122801e-05',\n",
       " 'psi_plus_cov1': '0.0003627517739677588',\n",
       " 'psi_plus_cov2': '0.0007285685956933762',\n",
       " 'var_psi': '-1.4822110619707785e-05',\n",
       " 'cov_AsPsi1': '0.001106142480280843',\n",
       " 'cov_AsAs': '0.0331000016856219',\n",
       " 'var_eps': '1.6115443823447737',\n",
       " 'var_bw': '0.5609297982957496',\n",
       " 'cov_bw': '0.1793111654409875',\n",
       " 'var_wt': '-1.4822110619707785e-05',\n",
       " 'cov_wt': '-0.0006441536390323009',\n",
       " 'tot_var': '0.5609149761851299'}"
      ]
     },
     "metadata": {},
     "output_type": "display_data"
    }
   ],
   "source": [
    "display(akm_res)\n",
    "display(cre_res)"
   ]
  }
 ],
 "metadata": {
  "celltoolbar": "Tags",
  "hide_input": false,
  "kernelspec": {
   "display_name": "Python 3",
   "language": "python",
   "name": "python3"
  },
  "language_info": {
   "codemirror_mode": {
    "name": "ipython",
    "version": 3
   },
   "file_extension": ".py",
   "mimetype": "text/x-python",
   "name": "python",
   "nbconvert_exporter": "python",
   "pygments_lexer": "ipython3",
   "version": "3.9.1"
  },
  "latex_envs": {
   "LaTeX_envs_menu_present": true,
   "autoclose": false,
   "autocomplete": true,
   "bibliofile": "biblio.bib",
   "cite_by": "apalike",
   "current_citInitial": 1,
   "eqLabelWithNumbers": true,
   "eqNumInitial": 1,
   "hotkeys": {
    "equation": "Ctrl-E",
    "itemize": "Ctrl-I"
   },
   "labels_anchors": false,
   "latex_user_defs": false,
   "report_style_numbering": false,
   "user_envs_cfg": false
  },
  "nbsphinx-toctree": {
   "hidden": true,
   "maxdepth": 1,
   "titlesonly": true
  },
  "toc": {
   "base_numbering": 1,
   "nav_menu": {},
   "number_sections": true,
   "sideBar": true,
   "skip_h1_title": false,
   "title_cell": "Table of Contents",
   "title_sidebar": "Contents",
   "toc_cell": false,
   "toc_position": {},
   "toc_section_display": true,
   "toc_window_display": false
  },
  "varInspector": {
   "cols": {
    "lenName": 16,
    "lenType": 16,
    "lenVar": 40
   },
   "kernels_config": {
    "python": {
     "delete_cmd_postfix": "",
     "delete_cmd_prefix": "del ",
     "library": "var_list.py",
     "varRefreshCmd": "print(var_dic_list())"
    },
    "r": {
     "delete_cmd_postfix": ") ",
     "delete_cmd_prefix": "rm(",
     "library": "var_list.r",
     "varRefreshCmd": "cat(var_dic_list()) "
    }
   },
   "types_to_exclude": [
    "module",
    "function",
    "builtin_function_or_method",
    "instance",
    "_Feature"
   ],
   "window_display": false
  }
 },
 "nbformat": 4,
 "nbformat_minor": 4
}
