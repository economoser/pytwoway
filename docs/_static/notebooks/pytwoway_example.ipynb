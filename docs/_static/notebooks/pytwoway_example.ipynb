{
 "cells": [
  {
   "cell_type": "markdown",
   "metadata": {},
   "source": [
    "# pytwoway example"
   ]
  },
  {
   "cell_type": "code",
   "execution_count": 2,
   "metadata": {
    "ExecuteTime": {
     "end_time": "2021-01-15T23:38:19.123052Z",
     "start_time": "2021-01-15T23:38:18.565950Z"
    }
   },
   "outputs": [],
   "source": [
    "#  we import the pytwoway package \n",
    "# (make sure you have installed it using pip install pytwoway)\n",
    "import pytwoway as tw"
   ]
  },
  {
   "cell_type": "markdown",
   "metadata": {},
   "source": [
    "## Simulate some data\n",
    "\n",
    "The package contains function to simulate data. We use this here to keep things simple. If you have your own data, you can import it. Load it as a pandas dataframe and use it as an input. \n",
    "\n",
    "As you can see, we will need the following required columns in our data: \n",
    "\n",
    " - `wid`: the worker identifier\n",
    " - `fid`: the firm identifier\n",
    " - `year`: the time\n",
    " - `comp`: the outcome variable, in our case the compensation"
   ]
  },
  {
   "cell_type": "code",
   "execution_count": 3,
   "metadata": {
    "ExecuteTime": {
     "end_time": "2021-01-15T23:38:20.546690Z",
     "start_time": "2021-01-15T23:38:20.254142Z"
    }
   },
   "outputs": [
    {
     "data": {
      "text/html": [
       "<div>\n",
       "<style scoped>\n",
       "    .dataframe tbody tr th:only-of-type {\n",
       "        vertical-align: middle;\n",
       "    }\n",
       "\n",
       "    .dataframe tbody tr th {\n",
       "        vertical-align: top;\n",
       "    }\n",
       "\n",
       "    .dataframe thead th {\n",
       "        text-align: right;\n",
       "    }\n",
       "</style>\n",
       "<table border=\"1\" class=\"dataframe\">\n",
       "  <thead>\n",
       "    <tr style=\"text-align: right;\">\n",
       "      <th></th>\n",
       "      <th>wid</th>\n",
       "      <th>year</th>\n",
       "      <th>k</th>\n",
       "      <th>alpha</th>\n",
       "      <th>psi</th>\n",
       "      <th>spell</th>\n",
       "      <th>freq</th>\n",
       "      <th>fid</th>\n",
       "      <th>move</th>\n",
       "      <th>comp</th>\n",
       "    </tr>\n",
       "  </thead>\n",
       "  <tbody>\n",
       "    <tr>\n",
       "      <th>0</th>\n",
       "      <td>1</td>\n",
       "      <td>1</td>\n",
       "      <td>5</td>\n",
       "      <td>0.967422</td>\n",
       "      <td>0.114185</td>\n",
       "      <td>1</td>\n",
       "      <td>1</td>\n",
       "      <td>84</td>\n",
       "      <td>False</td>\n",
       "      <td>1.644341</td>\n",
       "    </tr>\n",
       "    <tr>\n",
       "      <th>1</th>\n",
       "      <td>1</td>\n",
       "      <td>2</td>\n",
       "      <td>8</td>\n",
       "      <td>0.967422</td>\n",
       "      <td>0.908458</td>\n",
       "      <td>2</td>\n",
       "      <td>3</td>\n",
       "      <td>152</td>\n",
       "      <td>True</td>\n",
       "      <td>-0.109389</td>\n",
       "    </tr>\n",
       "    <tr>\n",
       "      <th>2</th>\n",
       "      <td>1</td>\n",
       "      <td>3</td>\n",
       "      <td>8</td>\n",
       "      <td>0.967422</td>\n",
       "      <td>0.908458</td>\n",
       "      <td>2</td>\n",
       "      <td>3</td>\n",
       "      <td>152</td>\n",
       "      <td>False</td>\n",
       "      <td>1.955849</td>\n",
       "    </tr>\n",
       "    <tr>\n",
       "      <th>3</th>\n",
       "      <td>1</td>\n",
       "      <td>4</td>\n",
       "      <td>8</td>\n",
       "      <td>0.967422</td>\n",
       "      <td>0.908458</td>\n",
       "      <td>2</td>\n",
       "      <td>3</td>\n",
       "      <td>152</td>\n",
       "      <td>False</td>\n",
       "      <td>1.034616</td>\n",
       "    </tr>\n",
       "    <tr>\n",
       "      <th>4</th>\n",
       "      <td>1</td>\n",
       "      <td>5</td>\n",
       "      <td>9</td>\n",
       "      <td>0.967422</td>\n",
       "      <td>1.335178</td>\n",
       "      <td>3</td>\n",
       "      <td>1</td>\n",
       "      <td>183</td>\n",
       "      <td>True</td>\n",
       "      <td>4.729998</td>\n",
       "    </tr>\n",
       "    <tr>\n",
       "      <th>...</th>\n",
       "      <td>...</td>\n",
       "      <td>...</td>\n",
       "      <td>...</td>\n",
       "      <td>...</td>\n",
       "      <td>...</td>\n",
       "      <td>...</td>\n",
       "      <td>...</td>\n",
       "      <td>...</td>\n",
       "      <td>...</td>\n",
       "      <td>...</td>\n",
       "    </tr>\n",
       "    <tr>\n",
       "      <th>49995</th>\n",
       "      <td>10000</td>\n",
       "      <td>1</td>\n",
       "      <td>1</td>\n",
       "      <td>-0.430727</td>\n",
       "      <td>-0.908458</td>\n",
       "      <td>1</td>\n",
       "      <td>1</td>\n",
       "      <td>22</td>\n",
       "      <td>False</td>\n",
       "      <td>-1.220417</td>\n",
       "    </tr>\n",
       "    <tr>\n",
       "      <th>49996</th>\n",
       "      <td>10000</td>\n",
       "      <td>2</td>\n",
       "      <td>4</td>\n",
       "      <td>-0.430727</td>\n",
       "      <td>-0.114185</td>\n",
       "      <td>2</td>\n",
       "      <td>1</td>\n",
       "      <td>67</td>\n",
       "      <td>True</td>\n",
       "      <td>0.341023</td>\n",
       "    </tr>\n",
       "    <tr>\n",
       "      <th>49997</th>\n",
       "      <td>10000</td>\n",
       "      <td>3</td>\n",
       "      <td>7</td>\n",
       "      <td>-0.430727</td>\n",
       "      <td>0.604585</td>\n",
       "      <td>3</td>\n",
       "      <td>3</td>\n",
       "      <td>136</td>\n",
       "      <td>True</td>\n",
       "      <td>-0.310735</td>\n",
       "    </tr>\n",
       "    <tr>\n",
       "      <th>49998</th>\n",
       "      <td>10000</td>\n",
       "      <td>4</td>\n",
       "      <td>7</td>\n",
       "      <td>-0.430727</td>\n",
       "      <td>0.604585</td>\n",
       "      <td>3</td>\n",
       "      <td>3</td>\n",
       "      <td>136</td>\n",
       "      <td>False</td>\n",
       "      <td>0.101317</td>\n",
       "    </tr>\n",
       "    <tr>\n",
       "      <th>49999</th>\n",
       "      <td>10000</td>\n",
       "      <td>5</td>\n",
       "      <td>7</td>\n",
       "      <td>-0.430727</td>\n",
       "      <td>0.604585</td>\n",
       "      <td>3</td>\n",
       "      <td>3</td>\n",
       "      <td>136</td>\n",
       "      <td>False</td>\n",
       "      <td>0.898169</td>\n",
       "    </tr>\n",
       "  </tbody>\n",
       "</table>\n",
       "<p>50000 rows × 10 columns</p>\n",
       "</div>"
      ],
      "text/plain": [
       "         wid  year  k     alpha       psi  spell  freq  fid   move      comp\n",
       "0          1     1  5  0.967422  0.114185      1     1   84  False  1.644341\n",
       "1          1     2  8  0.967422  0.908458      2     3  152   True -0.109389\n",
       "2          1     3  8  0.967422  0.908458      2     3  152  False  1.955849\n",
       "3          1     4  8  0.967422  0.908458      2     3  152  False  1.034616\n",
       "4          1     5  9  0.967422  1.335178      3     1  183   True  4.729998\n",
       "...      ...   ... ..       ...       ...    ...   ...  ...    ...       ...\n",
       "49995  10000     1  1 -0.430727 -0.908458      1     1   22  False -1.220417\n",
       "49996  10000     2  4 -0.430727 -0.114185      2     1   67   True  0.341023\n",
       "49997  10000     3  7 -0.430727  0.604585      3     3  136   True -0.310735\n",
       "49998  10000     4  7 -0.430727  0.604585      3     3  136  False  0.101317\n",
       "49999  10000     5  7 -0.430727  0.604585      3     3  136  False  0.898169\n",
       "\n",
       "[50000 rows x 10 columns]"
      ]
     },
     "metadata": {},
     "output_type": "display_data"
    }
   ],
   "source": [
    "# For the example, we simulate data\n",
    "sim_data = tw.SimTwoWay().sim_network()\n",
    "display(sim_data)"
   ]
  },
  {
   "cell_type": "markdown",
   "metadata": {},
   "source": [
    "## Create a TwoWay object using your data"
   ]
  },
  {
   "cell_type": "code",
   "execution_count": 4,
   "metadata": {
    "ExecuteTime": {
     "end_time": "2021-01-15T23:38:23.409822Z",
     "start_time": "2021-01-15T23:38:23.405804Z"
    }
   },
   "outputs": [],
   "source": [
    "# We need to specify a column dictionary to make sure columns are named correctly. \n",
    "# You can also manually update column names yourself\n",
    "col_name_dict = {\n",
    "    'fid': 'fid',    # specicy the column name for the firm identifier \n",
    "    'wid': 'wid',    # specicy the column name for the worker identifier \n",
    "    'year': 'year',  # specicy the column name for the year\n",
    "    'comp': 'comp'   # specicy the column name for the outcome variable\n",
    "}\n",
    "\n",
    "# create the TwoWay object that will do all the heavy lifting\n",
    "tw_net = tw.TwoWay(data=sim_data, formatting='long', col_dict=col_name_dict)"
   ]
  },
  {
   "cell_type": "markdown",
   "metadata": {},
   "source": [
    "## Now we can run the FE estimator"
   ]
  },
  {
   "cell_type": "code",
   "execution_count": 4,
   "metadata": {
    "ExecuteTime": {
     "end_time": "2020-12-22T21:42:49.482723Z",
     "start_time": "2020-12-22T21:42:49.357210Z"
    }
   },
   "outputs": [
    {
     "name": "stderr",
     "output_type": "stream",
     "text": [
      "100%|██████████| 5/5 [00:00<00:00, 223.77it/s]\n"
     ]
    }
   ],
   "source": [
    "# Optional parameters\n",
    "fe_params = {\n",
    "    'ncore': 1, \n",
    "    'batch': 1, \n",
    "    'ndraw_pii': 50, \n",
    "    'ndraw_tr': 5, \n",
    "    'check': False, \n",
    "    'hetero': False, \n",
    "    'out': 'res_fe.json', \n",
    "    'con': False, \n",
    "    'logfile': '', \n",
    "    'levfile': '', \n",
    "    'statsonly': False}\n",
    "\n",
    "\n",
    "# compute the fixed effect decomposition\n",
    "fe_res = tw_net.fit_fe(user_fe=fe_params)"
   ]
  },
  {
   "cell_type": "markdown",
   "metadata": {},
   "source": [
    "## We can also run the CRE estimator"
   ]
  },
  {
   "cell_type": "code",
   "execution_count": 5,
   "metadata": {
    "ExecuteTime": {
     "end_time": "2020-12-22T21:42:51.485812Z",
     "start_time": "2020-12-22T21:42:51.144952Z"
    }
   },
   "outputs": [],
   "source": [
    "# Optional parameters\n",
    "cre_params = {'ncore': 1, 'ndraw_tr': 5, 'ndp': 50, 'out': 'res_cre.json', 'posterior': False, 'wobtw': False}\n",
    "KMeans_params = {'n_clusters': 10, 'init': 'k-means++', 'n_init': 500, 'max_iter': 300, 'tol': 0.0001, 'precompute_distances': 'deprecated', 'verbose': 0, 'random_state': None, 'copy_x': True, 'n_jobs': 'deprecated', 'algorithm': 'auto'} # These parameters are specifically for the KMeans algorithm\n",
    "cluster_params = {'cdf_resolution': 10, 'grouping': 'quantile_all', 'year': None, 'user_KMeans': KMeans_params}\n",
    "cre_res = tw_net.fit_cre(user_cre=cre_params, user_cluster=cluster_params)"
   ]
  },
  {
   "cell_type": "markdown",
   "metadata": {},
   "source": [
    "## Finally, we can investigate the results"
   ]
  },
  {
   "cell_type": "code",
   "execution_count": 6,
   "metadata": {
    "ExecuteTime": {
     "end_time": "2020-12-22T21:42:51.498849Z",
     "start_time": "2020-12-22T21:42:51.489723Z"
    },
    "scrolled": true
   },
   "outputs": [
    {
     "data": {
      "text/plain": [
       "{'cores': '1',\n",
       " 'ndp': '50',\n",
       " 'ndt': '5',\n",
       " 'n_firms': '194',\n",
       " 'n_workers': '10000',\n",
       " 'n_movers': '9342',\n",
       " 'n_stayers': '658',\n",
       " 'mover_quantiles': '[169.0, 182.9018970189702, 191.0, 197.0, 201.4356968215159, 206.0, 210.0, 216.0, 221.0, 228.6442060085837, 252.0]',\n",
       " 'size_quantiles': '[169.0, 185.0, 195.0, 201.0, 205.0, 210.0, 213.0, 220.0, 225.91288888888892, 231.0, 255.0]',\n",
       " 'between_firm_var': '0.9952771137426026',\n",
       " 'var_y': '1.9674165885604504',\n",
       " 'solver_time': '0.003141746999999917',\n",
       " 'tot_var': '1.9749358615740908',\n",
       " 'eps_var_ho': '0.6944922089616817',\n",
       " 'eps_var_fe': '0.5190707120605959',\n",
       " 'tr_var_ho': '0.0063540842392182705',\n",
       " 'tr_cov_ho': '-0.0016462682768020403',\n",
       " 'var_fe': '0.5888298918123765',\n",
       " 'cov_fe': '0.17313564231257597',\n",
       " 'var_ho': '0.5844170298131532',\n",
       " 'cov_ho': '0.17427896280467575',\n",
       " 'total_time': '0.0749521255493164'}"
      ]
     },
     "metadata": {},
     "output_type": "display_data"
    },
    {
     "data": {
      "text/plain": [
       "{'cores': '1',\n",
       " 'ndt': '5',\n",
       " 'n_firms': '194',\n",
       " 'n_workers': '10000',\n",
       " 'n_movers': '9342',\n",
       " 'n_stayers': '658',\n",
       " 'y1s_y1s': '-0.022118075710381307',\n",
       " 'y1s_y1s_count': '634',\n",
       " 'y1s_var': '0.40822821774678264',\n",
       " 'y1s_var_count': '658',\n",
       " 'y1m_var': '0.9795200163981378',\n",
       " 'y1m_var_count': '19848',\n",
       " 'y2m_var': '0.9732388508738447',\n",
       " 'y2m_var_count': '19848',\n",
       " 'y1s_y1m1': '-0.0025762301226147227',\n",
       " 'y1s_y1m1_count': '658',\n",
       " 'y1s_y2m1': '-0.0021464529568242575',\n",
       " 'y1s_y2m1_count': '658',\n",
       " 'y1m1_y1m1': '5.685936069007484e-05',\n",
       " 'y1m1_y1m1_count': '19848',\n",
       " 'y2m1_y1m1': '0.00030242568545481286',\n",
       " 'y2m1_y1m1_count': '19848',\n",
       " 'y2m1_y2m1': '0.00040250824642047164',\n",
       " 'y2m1_y2m1_count': '19848',\n",
       " 'y1s_y1m2': '-0.0024265973436971783',\n",
       " 'y1s_y1m2_count': '658',\n",
       " 'y1s_y2m2': '-0.0037280420030730973',\n",
       " 'y1s_y2m2_count': '658',\n",
       " 'y1m2_y1m2': '-0.001117554552676051',\n",
       " 'y1m2_y1m2_count': '19848',\n",
       " 'y2m2_y1m2': '-0.0004995491492006349',\n",
       " 'y2m2_y1m2_count': '19848',\n",
       " 'y2m2_y2m2': '-0.0005076355338281374',\n",
       " 'y2m2_y2m2_count': '19848',\n",
       " 'dym_dym': '1.574506271995155',\n",
       " 'dym_dym_count': '16432',\n",
       " 'y1m_y2m': '0.19622584317882683',\n",
       " 'y1m_y2m_count': '16432',\n",
       " 'cov_Am1Am1': '0.00040250824642047164',\n",
       " 'cov_Am1Psi1': '-0.00010008256096565878',\n",
       " 'var_psi_m1': '-0.00014548376379907923',\n",
       " 'cov_Am2Am2': '-0.001117554552676051',\n",
       " 'cov_Am2Psi2': '0.0006180054034754161',\n",
       " 'var_psi_m2': '-0.0006260917881029186',\n",
       " 'cov_AsAm1': '-0.0020463703958585986',\n",
       " 'cov_AsAm2': '-0.003044602747172594',\n",
       " 'psi_plus_cov1': '-0.00042977716579046523',\n",
       " 'psi_plus_cov2': '-0.001301444659375919',\n",
       " 'var_psi': '-0.00038578777595099894',\n",
       " 'cov_AsPsi1': '-0.0013454340492153852',\n",
       " 'cov_AsAs': '-0.019041419835999537',\n",
       " 'var_eps': '1.575277847547057',\n",
       " 'var_y': '1.9674165885604504',\n",
       " 'var_bw': '0.578081628670516',\n",
       " 'cov_bw': '0.1759145210784208',\n",
       " 'var_wt': '-0.00038578777595099894',\n",
       " 'cov_wt': '-0.00014004361037891927',\n",
       " 'tot_var': '0.577695840894565',\n",
       " 'total_time': '0.22063398361206055'}"
      ]
     },
     "metadata": {},
     "output_type": "display_data"
    }
   ],
   "source": [
    "display(fe_res)\n",
    "display(cre_res)"
   ]
  }
 ],
 "metadata": {
  "celltoolbar": "Tags",
  "hide_input": false,
  "kernelspec": {
   "display_name": "Python 3",
   "language": "python",
   "name": "python3"
  },
  "language_info": {
   "codemirror_mode": {
    "name": "ipython",
    "version": 3
   },
   "file_extension": ".py",
   "mimetype": "text/x-python",
   "name": "python",
   "nbconvert_exporter": "python",
   "pygments_lexer": "ipython3",
   "version": "3.8.3"
  },
  "latex_envs": {
   "LaTeX_envs_menu_present": true,
   "autoclose": false,
   "autocomplete": true,
   "bibliofile": "biblio.bib",
   "cite_by": "apalike",
   "current_citInitial": 1,
   "eqLabelWithNumbers": true,
   "eqNumInitial": 1,
   "hotkeys": {
    "equation": "Ctrl-E",
    "itemize": "Ctrl-I"
   },
   "labels_anchors": false,
   "latex_user_defs": false,
   "report_style_numbering": false,
   "user_envs_cfg": false
  },
  "nbsphinx-toctree": {
   "hidden": true,
   "maxdepth": 1,
   "titlesonly": true
  },
  "toc": {
   "base_numbering": 1,
   "nav_menu": {},
   "number_sections": true,
   "sideBar": true,
   "skip_h1_title": false,
   "title_cell": "Table of Contents",
   "title_sidebar": "Contents",
   "toc_cell": false,
   "toc_position": {},
   "toc_section_display": true,
   "toc_window_display": false
  },
  "varInspector": {
   "cols": {
    "lenName": 16,
    "lenType": 16,
    "lenVar": 40
   },
   "kernels_config": {
    "python": {
     "delete_cmd_postfix": "",
     "delete_cmd_prefix": "del ",
     "library": "var_list.py",
     "varRefreshCmd": "print(var_dic_list())"
    },
    "r": {
     "delete_cmd_postfix": ") ",
     "delete_cmd_prefix": "rm(",
     "library": "var_list.r",
     "varRefreshCmd": "cat(var_dic_list()) "
    }
   },
   "types_to_exclude": [
    "module",
    "function",
    "builtin_function_or_method",
    "instance",
    "_Feature"
   ],
   "window_display": false
  }
 },
 "nbformat": 4,
 "nbformat_minor": 4
}
