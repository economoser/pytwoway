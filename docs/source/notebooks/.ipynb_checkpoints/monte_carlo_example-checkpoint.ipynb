{
 "cells": [
  {
   "cell_type": "markdown",
   "metadata": {},
   "source": [
    "# Monte Carlo example"
   ]
  },
  {
   "cell_type": "code",
   "execution_count": 1,
   "metadata": {},
   "outputs": [],
   "source": [
    "# Add PyTwoWay to system path, do not run this\n",
    "# import sys\n",
    "# sys.path.append('../../..')"
   ]
  },
  {
   "cell_type": "code",
   "execution_count": 2,
   "metadata": {
    "ExecuteTime": {
     "end_time": "2020-12-22T21:42:40.756437Z",
     "start_time": "2020-12-22T21:42:39.576929Z"
    }
   },
   "outputs": [],
   "source": [
    "# Import the PyTwoWay package \n",
    "# (Make sure you have installed it using pip install pytwoway)\n",
    "import pytwoway as tw\n",
    "import bipartitepandas as bpd"
   ]
  },
  {
   "cell_type": "markdown",
   "metadata": {},
   "source": [
    "## First, optionally set parameter values for the simulated data"
   ]
  },
  {
   "cell_type": "code",
   "execution_count": 3,
   "metadata": {
    "ExecuteTime": {
     "end_time": "2020-12-22T21:42:40.761257Z",
     "start_time": "2020-12-22T21:42:40.758033Z"
    }
   },
   "outputs": [],
   "source": [
    "## Optional Parameters ##\n",
    "sim_params = {\n",
    "    'num_ind': 10000, # Number of workers\n",
    "    'num_time': 5, # Time length of panel\n",
    "    'firm_size': 50, # Max number of individuals per firm\n",
    "    'nk': 10, # Number of firm types\n",
    "    'nl': 5, # Number of worker types\n",
    "    'alpha_sig': 1, # Standard error of individual fixed effect (volatility of worker effects)\n",
    "    'psi_sig': 1, # Standard error of firm fixed effect (volatility of firm effects)\n",
    "    'w_sig': 5, # Standard error of residual in AKM wage equation (volatility of wage shocks)\n",
    "    'csort': 1, # Sorting effect\n",
    "    'cnetw': 1, # Network effect\n",
    "    'csig': 1, # Standard error of sorting/network effects\n",
    "    'p_move': 0.5 # Probability a worker moves firms in any period\n",
    "}"
   ]
  },
  {
   "cell_type": "markdown",
   "metadata": {},
   "source": [
    "## Second, create a simulated Monte Carlo object using the parameter choices"
   ]
  },
  {
   "cell_type": "code",
   "execution_count": 4,
   "metadata": {
    "ExecuteTime": {
     "end_time": "2020-12-22T21:42:40.768940Z",
     "start_time": "2020-12-22T21:42:40.765231Z"
    }
   },
   "outputs": [],
   "source": [
    "# Create the TwoWayMonteCarlo object\n",
    "twmc_net = tw.TwoWayMonteCarlo(sim_params)"
   ]
  },
  {
   "cell_type": "markdown",
   "metadata": {},
   "source": [
    "## Third, optionally set parameter values for the Monte Carlo simulation"
   ]
  },
  {
   "cell_type": "code",
   "execution_count": 5,
   "metadata": {
    "ExecuteTime": {
     "end_time": "2020-12-22T21:42:40.777568Z",
     "start_time": "2020-12-22T21:42:40.772602Z"
    }
   },
   "outputs": [],
   "source": [
    "## Optional Parameters ##\n",
    "# For FE estimation\n",
    "fe_params = {\n",
    "    'ncore': 1, # Number of cores to use\n",
    "    'batch': 1, # Batch size to send in parallel\n",
    "    'ndraw_pii': 50, # Number of draw to use in approximation for leverages\n",
    "    'levfile': '', # File to load precomputed leverages\n",
    "    'ndraw_tr': 5, # Number of draws to use in approximation for traces\n",
    "    'h2': False, # If True, compute h2 correction\n",
    "    'out': 'res_fe.json', # Outputfile where FE results are saved    \n",
    "    'statsonly': False, # If True, return only basic statistics\n",
    "    'Q': 'cov(alpha, psi)' # Which Q matrix to consider. Options include 'cov(alpha, psi)' and 'cov(psi_t, psi_{t+1})'\n",
    "}\n",
    "# For CRE estimation\n",
    "cre_params = {\n",
    "    'ncore': 1, # Number of cores to use\n",
    "    'ndraw_tr': 5, # Number of draws to use in approximation for traces\n",
    "    'ndp': 50, # Number of draw to use in approximation for leverages\n",
    "    'out': 'res_cre.json', # Outputfile where CRE results are saved\n",
    "    'posterior': False, # If True, compute posterior variance\n",
    "    'wobtw': False # If True, sets between variation to 0, pure RE\n",
    "}\n",
    "# For clustering (specifically for the KMeans algorithm)\n",
    "KMeans_params = { # These parameters are specifically for the KMeans algorithm\n",
    "                  # Read more at https://scikit-learn.org/stable/modules/generated/sklearn.cluster.KMeans.html\n",
    "    'n_clusters': 10,\n",
    "    'init': 'k-means++',\n",
    "    'n_init': 500,\n",
    "    'max_iter': 300,\n",
    "    'tol': 0.0001,\n",
    "    'precompute_distances': 'deprecated',\n",
    "    'verbose': 0,\n",
    "    'random_state': None,\n",
    "    'copy_x': True,\n",
    "    'n_jobs': 'deprecated',\n",
    "    'algorithm': 'auto'\n",
    "}\n",
    "# For clustering\n",
    "cluster_params = {\n",
    "    'measures': bpd.measures.cdfs(\n",
    "        cdf_resolution=10, # How many values to use to approximate the cdfs\n",
    "        measure='quantile_all' # How to compute the cdfs (\n",
    "                               # 'quantile_all' to get quantiles from entire set of data,\n",
    "                                    # then have firm-level values between 0 and 1;\n",
    "                               # 'quantile_firm_small' to get quantiles at the firm-level\n",
    "                                    # and have values be compensations if small data;\n",
    "                               # 'quantile_firm_large' to get quantiles at the firm-level\n",
    "                                    # and have values be compensations if large data,\n",
    "                                    # note that this is up to 50 times slower than\n",
    "                                    # 'quantile_firm_small' and should only be used\n",
    "                                    # if the dataset is too large to copy into a dictionary\n",
    "    ),\n",
    "    'grouping': bpd.grouping.kmeans( # Read more at\n",
    "                                  # https://scikit-learn.org/stable/modules/generated/sklearn.cluster.KMeans.html\n",
    "        n_clusters=10,\n",
    "        init='k-means++',\n",
    "        n_init=500,\n",
    "        max_iter=300,\n",
    "        tol=0.0001,\n",
    "        precompute_distances='deprecated',\n",
    "        verbose=0,\n",
    "        random_state=None,\n",
    "        copy_x=True,\n",
    "        n_jobs='deprecated',\n",
    "        algorithm='auto'\n",
    "    ),\n",
    "    'stayers_movers': None, # If None, clusters on entire dataset;\n",
    "                         # If 'stayers', clusters on only stayers\n",
    "                         # If 'movers', clusters on only movers\n",
    "    't': None, # If None, clusters on entire dataset\n",
    "            # If int, gives period in data to consider (only valid for non-collapsed data)\n",
    "    'weighted': True, # If True, weight firm clusters by firm size\n",
    "                        # (if a weight column is included, firm weight is computed using this column;\n",
    "                        # otherwise, each observation has weight 1)\n",
    "    'dropna': False # If True, drop observations where firms aren't clustered;\n",
    "                 # If False, keep all observations\n",
    "}\n",
    "# For data cleaning\n",
    "clean_params = {\n",
    "    'i_t_how': 'max' # How to handle worker-year duplicates\n",
    "        # If 'max', keep max paying job;\n",
    "        # If 'sum', sum over duplicate worker-firm-year observations,\n",
    "            # then take the highest paying worker-firm sum;\n",
    "        # If 'mean', average over duplicate worker-firm-year observations,\n",
    "            # then take the highest paying worker-firm average.\n",
    "        # Note that if multiple time and/or firm columns are included\n",
    "            # (as in event study format), then data is converted to long,\n",
    "            # cleaned, then reconverted to its original format\n",
    "}"
   ]
  },
  {
   "cell_type": "markdown",
   "metadata": {},
   "source": [
    "## Fourth, run the Monte Carlo simulation using the parameter choices"
   ]
  },
  {
   "cell_type": "code",
   "execution_count": 6,
   "metadata": {
    "ExecuteTime": {
     "end_time": "2020-12-22T21:43:16.646468Z",
     "start_time": "2020-12-22T21:42:40.780053Z"
    },
    "scrolled": true
   },
   "outputs": [],
   "source": [
    "twmc_net.twfe_monte_carlo(\n",
    "    N=500, # Number of simulations\n",
    "    ncore=4, # Number of cores\n",
    "    fe_params=fe_params,\n",
    "    cre_params=cre_params,\n",
    "    cluster_params=cluster_params,\n",
    "    collapsed=True, # If True, collapse data by worker-firm spells for estimators\n",
    "    clean_params=clean_params\n",
    ")"
   ]
  },
  {
   "cell_type": "markdown",
   "metadata": {},
   "source": [
    "## Fifth and finally, plot parameter estimates (plots show the difference from the truth)"
   ]
  },
  {
   "cell_type": "code",
   "execution_count": 7,
   "metadata": {
    "ExecuteTime": {
     "end_time": "2020-12-22T21:43:17.415199Z",
     "start_time": "2020-12-22T21:43:16.649221Z"
    }
   },
   "outputs": [
    {
     "data": {
      "image/png": "[encoded data removed]",
      "text/plain": [
       "<Figure size 432x288 with 1 Axes>"
      ]
     },
     "metadata": {
      "needs_background": "light"
     },
     "output_type": "display_data"
    },
    {
     "data": {
      "image/png": "[encoded data removed]",
      "text/plain": [
       "<Figure size 432x288 with 1 Axes>"
      ]
     },
     "metadata": {
      "needs_background": "light"
     },
     "output_type": "display_data"
    }
   ],
   "source": [
    "twmc_net.plot_monte_carlo()"
   ]
  }
 ],
 "metadata": {
  "celltoolbar": "Tags",
  "hide_input": false,
  "kernelspec": {
   "display_name": "Python 3",
   "language": "python",
   "name": "python3"
  },
  "language_info": {
   "codemirror_mode": {
    "name": "ipython",
    "version": 3
   },
   "file_extension": ".py",
   "mimetype": "text/x-python",
   "name": "python",
   "nbconvert_exporter": "python",
   "pygments_lexer": "ipython3",
   "version": "3.9.2"
  },
  "latex_envs": {
   "LaTeX_envs_menu_present": true,
   "autoclose": false,
   "autocomplete": true,
   "bibliofile": "biblio.bib",
   "cite_by": "apalike",
   "current_citInitial": 1,
   "eqLabelWithNumbers": true,
   "eqNumInitial": 1,
   "hotkeys": {
    "equation": "Ctrl-E",
    "itemize": "Ctrl-I"
   },
   "labels_anchors": false,
   "latex_user_defs": false,
   "report_style_numbering": false,
   "user_envs_cfg": false
  },
  "nbsphinx-toctree": {
   "hidden": true,
   "maxdepth": 1,
   "titlesonly": true
  },
  "toc": {
   "base_numbering": 1,
   "nav_menu": {},
   "number_sections": true,
   "sideBar": true,
   "skip_h1_title": false,
   "title_cell": "Table of Contents",
   "title_sidebar": "Contents",
   "toc_cell": false,
   "toc_position": {},
   "toc_section_display": true,
   "toc_window_display": false
  },
  "varInspector": {
   "cols": {
    "lenName": 16,
    "lenType": 16,
    "lenVar": 40
   },
   "kernels_config": {
    "python": {
     "delete_cmd_postfix": "",
     "delete_cmd_prefix": "del ",
     "library": "var_list.py",
     "varRefreshCmd": "print(var_dic_list())"
    },
    "r": {
     "delete_cmd_postfix": ") ",
     "delete_cmd_prefix": "rm(",
     "library": "var_list.r",
     "varRefreshCmd": "cat(var_dic_list()) "
    }
   },
   "types_to_exclude": [
    "module",
    "function",
    "builtin_function_or_method",
    "instance",
    "_Feature"
   ],
   "window_display": false
  }
 },
 "nbformat": 4,
 "nbformat_minor": 4
}
