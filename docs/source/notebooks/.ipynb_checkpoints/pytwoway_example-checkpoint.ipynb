{
 "cells": [
  {
   "cell_type": "markdown",
   "metadata": {},
   "source": [
    "# PyTwoWay example"
   ]
  },
  {
   "cell_type": "code",
   "execution_count": 1,
   "metadata": {},
   "outputs": [],
   "source": [
    "# Add PyTwoWay to system path, do not run this\n",
    "# import sys\n",
    "# sys.path.append('../../..')"
   ]
  },
  {
   "cell_type": "code",
   "execution_count": 2,
   "metadata": {
    "ExecuteTime": {
     "end_time": "2021-01-15T23:38:19.123052Z",
     "start_time": "2021-01-15T23:38:18.565950Z"
    }
   },
   "outputs": [],
   "source": [
    "# Import the PyTwoWay package \n",
    "# (Make sure you have installed it using pip install pytwoway)\n",
    "import pytwoway as tw\n",
    "import bipartitepandas as bpd"
   ]
  },
  {
   "cell_type": "markdown",
   "metadata": {},
   "source": [
    "## Simulate some data\n",
    "\n",
    "The package contains functions to simulate data. We use this here to keep things simple. If you have your own data, you can import it. Load it as a pandas dataframe and use it as an input.\n",
    "\n",
    "As you can see, we will need the following required columns in our data:\n",
    "\n",
    " - `i`: worker identifier\n",
    " - `j`: firm identifier\n",
    " - `y`: compensation\n",
    " - `t`: time"
   ]
  },
  {
   "cell_type": "code",
   "execution_count": 3,
   "metadata": {
    "ExecuteTime": {
     "end_time": "2021-01-15T23:38:20.546690Z",
     "start_time": "2021-01-15T23:38:20.254142Z"
    },
    "scrolled": false
   },
   "outputs": [
    {
     "data": {
      "text/html": [
       "<div>\n",
       "<style scoped>\n",
       "    .dataframe tbody tr th:only-of-type {\n",
       "        vertical-align: middle;\n",
       "    }\n",
       "\n",
       "    .dataframe tbody tr th {\n",
       "        vertical-align: top;\n",
       "    }\n",
       "\n",
       "    .dataframe thead th {\n",
       "        text-align: right;\n",
       "    }\n",
       "</style>\n",
       "<table border=\"1\" class=\"dataframe\">\n",
       "  <thead>\n",
       "    <tr style=\"text-align: right;\">\n",
       "      <th></th>\n",
       "      <th>i</th>\n",
       "      <th>t</th>\n",
       "      <th>k</th>\n",
       "      <th>alpha</th>\n",
       "      <th>psi</th>\n",
       "      <th>spell</th>\n",
       "      <th>freq</th>\n",
       "      <th>j</th>\n",
       "      <th>move</th>\n",
       "      <th>y</th>\n",
       "    </tr>\n",
       "  </thead>\n",
       "  <tbody>\n",
       "    <tr>\n",
       "      <th>0</th>\n",
       "      <td>0</td>\n",
       "      <td>1</td>\n",
       "      <td>6</td>\n",
       "      <td>0.430727</td>\n",
       "      <td>0.348756</td>\n",
       "      <td>1</td>\n",
       "      <td>5</td>\n",
       "      <td>111</td>\n",
       "      <td>False</td>\n",
       "      <td>1.538809</td>\n",
       "    </tr>\n",
       "    <tr>\n",
       "      <th>1</th>\n",
       "      <td>0</td>\n",
       "      <td>2</td>\n",
       "      <td>6</td>\n",
       "      <td>0.430727</td>\n",
       "      <td>0.348756</td>\n",
       "      <td>1</td>\n",
       "      <td>5</td>\n",
       "      <td>111</td>\n",
       "      <td>False</td>\n",
       "      <td>0.821696</td>\n",
       "    </tr>\n",
       "    <tr>\n",
       "      <th>2</th>\n",
       "      <td>0</td>\n",
       "      <td>3</td>\n",
       "      <td>6</td>\n",
       "      <td>0.430727</td>\n",
       "      <td>0.348756</td>\n",
       "      <td>1</td>\n",
       "      <td>5</td>\n",
       "      <td>111</td>\n",
       "      <td>False</td>\n",
       "      <td>0.888712</td>\n",
       "    </tr>\n",
       "    <tr>\n",
       "      <th>3</th>\n",
       "      <td>0</td>\n",
       "      <td>4</td>\n",
       "      <td>6</td>\n",
       "      <td>0.430727</td>\n",
       "      <td>0.348756</td>\n",
       "      <td>1</td>\n",
       "      <td>5</td>\n",
       "      <td>111</td>\n",
       "      <td>False</td>\n",
       "      <td>0.048582</td>\n",
       "    </tr>\n",
       "    <tr>\n",
       "      <th>4</th>\n",
       "      <td>0</td>\n",
       "      <td>5</td>\n",
       "      <td>6</td>\n",
       "      <td>0.430727</td>\n",
       "      <td>0.348756</td>\n",
       "      <td>1</td>\n",
       "      <td>5</td>\n",
       "      <td>111</td>\n",
       "      <td>False</td>\n",
       "      <td>0.720645</td>\n",
       "    </tr>\n",
       "    <tr>\n",
       "      <th>...</th>\n",
       "      <td>...</td>\n",
       "      <td>...</td>\n",
       "      <td>...</td>\n",
       "      <td>...</td>\n",
       "      <td>...</td>\n",
       "      <td>...</td>\n",
       "      <td>...</td>\n",
       "      <td>...</td>\n",
       "      <td>...</td>\n",
       "      <td>...</td>\n",
       "    </tr>\n",
       "    <tr>\n",
       "      <th>49995</th>\n",
       "      <td>9999</td>\n",
       "      <td>1</td>\n",
       "      <td>2</td>\n",
       "      <td>-0.430727</td>\n",
       "      <td>-0.604585</td>\n",
       "      <td>1</td>\n",
       "      <td>1</td>\n",
       "      <td>30</td>\n",
       "      <td>False</td>\n",
       "      <td>-2.295800</td>\n",
       "    </tr>\n",
       "    <tr>\n",
       "      <th>49996</th>\n",
       "      <td>9999</td>\n",
       "      <td>2</td>\n",
       "      <td>0</td>\n",
       "      <td>-0.430727</td>\n",
       "      <td>-1.335178</td>\n",
       "      <td>2</td>\n",
       "      <td>1</td>\n",
       "      <td>9</td>\n",
       "      <td>True</td>\n",
       "      <td>-2.129870</td>\n",
       "    </tr>\n",
       "    <tr>\n",
       "      <th>49997</th>\n",
       "      <td>9999</td>\n",
       "      <td>3</td>\n",
       "      <td>4</td>\n",
       "      <td>-0.430727</td>\n",
       "      <td>-0.114185</td>\n",
       "      <td>3</td>\n",
       "      <td>1</td>\n",
       "      <td>65</td>\n",
       "      <td>True</td>\n",
       "      <td>-2.167106</td>\n",
       "    </tr>\n",
       "    <tr>\n",
       "      <th>49998</th>\n",
       "      <td>9999</td>\n",
       "      <td>4</td>\n",
       "      <td>5</td>\n",
       "      <td>-0.430727</td>\n",
       "      <td>0.114185</td>\n",
       "      <td>4</td>\n",
       "      <td>2</td>\n",
       "      <td>92</td>\n",
       "      <td>True</td>\n",
       "      <td>0.058889</td>\n",
       "    </tr>\n",
       "    <tr>\n",
       "      <th>49999</th>\n",
       "      <td>9999</td>\n",
       "      <td>5</td>\n",
       "      <td>5</td>\n",
       "      <td>-0.430727</td>\n",
       "      <td>0.114185</td>\n",
       "      <td>4</td>\n",
       "      <td>2</td>\n",
       "      <td>92</td>\n",
       "      <td>False</td>\n",
       "      <td>0.135987</td>\n",
       "    </tr>\n",
       "  </tbody>\n",
       "</table>\n",
       "<p>50000 rows × 10 columns</p>\n",
       "</div>"
      ],
      "text/plain": [
       "          i  t  k     alpha       psi  spell  freq    j   move         y\n",
       "0         0  1  6  0.430727  0.348756      1     5  111  False  1.538809\n",
       "1         0  2  6  0.430727  0.348756      1     5  111  False  0.821696\n",
       "2         0  3  6  0.430727  0.348756      1     5  111  False  0.888712\n",
       "3         0  4  6  0.430727  0.348756      1     5  111  False  0.048582\n",
       "4         0  5  6  0.430727  0.348756      1     5  111  False  0.720645\n",
       "...     ... .. ..       ...       ...    ...   ...  ...    ...       ...\n",
       "49995  9999  1  2 -0.430727 -0.604585      1     1   30  False -2.295800\n",
       "49996  9999  2  0 -0.430727 -1.335178      2     1    9   True -2.129870\n",
       "49997  9999  3  4 -0.430727 -0.114185      3     1   65   True -2.167106\n",
       "49998  9999  4  5 -0.430727  0.114185      4     2   92   True  0.058889\n",
       "49999  9999  5  5 -0.430727  0.114185      4     2   92  False  0.135987\n",
       "\n",
       "[50000 rows x 10 columns]"
      ]
     },
     "metadata": {},
     "output_type": "display_data"
    }
   ],
   "source": [
    "# For the example, we simulate data\n",
    "sim_data = bpd.SimBipartite().sim_network()\n",
    "display(sim_data)"
   ]
  },
  {
   "cell_type": "markdown",
   "metadata": {},
   "source": [
    "## Create a TwoWay object using your data"
   ]
  },
  {
   "cell_type": "code",
   "execution_count": 4,
   "metadata": {
    "ExecuteTime": {
     "end_time": "2021-01-15T23:38:23.409822Z",
     "start_time": "2021-01-15T23:38:23.405804Z"
    }
   },
   "outputs": [],
   "source": [
    "# We need to specify a column dictionary to make sure columns are named correctly\n",
    "# You can also manually update column names yourself\n",
    "col_name_dict = {\n",
    "    'i': 'i',    # Specify the column name for the worker identifier \n",
    "    'j': 'j',    # Specify the column name for the firm identifier \n",
    "    'y': 'y',  # Specify the column name for the compensation variable\n",
    "    't': 't'   # Specify the column name for the time variable\n",
    "}\n",
    "\n",
    "# Create the TwoWay object that will do all the heavy lifting\n",
    "tw_net = tw.TwoWay(data=sim_data, formatting='long', col_dict=col_name_dict)"
   ]
  },
  {
   "cell_type": "markdown",
   "metadata": {},
   "source": [
    "## Clean data"
   ]
  },
  {
   "cell_type": "code",
   "execution_count": 5,
   "metadata": {},
   "outputs": [],
   "source": [
    "## Optional Parameters ##\n",
    "clean_params = {\n",
    "    'connectedness': 'connected', # When computing largest connected set of firms:\n",
    "        # If 'connected', keep observations in the largest connected set of firms;\n",
    "        # If 'biconnected', keep observations in the largest biconnected set of firms;\n",
    "        # If None, keep all observations\n",
    "    'i_t_how': 'max', # How to handle worker-year duplicates\n",
    "        # If 'max', keep max paying job;\n",
    "        # If 'sum', sum over duplicate worker-firm-year observations,\n",
    "            # then take the highest paying worker-firm sum;\n",
    "        # If 'mean', average over duplicate worker-firm-year observations,\n",
    "            # then take the highest paying worker-firm average.\n",
    "        # Note that if multiple time and/or firm columns are included\n",
    "            # (as in event study format), then data is converted to long,\n",
    "            # cleaned, then reconverted to its original format\n",
    "    'copy': False # If False, avoid copy\n",
    "}"
   ]
  },
  {
   "cell_type": "code",
   "execution_count": 6,
   "metadata": {},
   "outputs": [],
   "source": [
    "tw_net.prep_data(\n",
    "    collapsed=True, # If True, run estimators on collapsed data\n",
    "    user_clean=clean_params,\n",
    "    he=False # If True, compute largest biconnected set of firms for heteroskedastic correction\n",
    ")"
   ]
  },
  {
   "cell_type": "markdown",
   "metadata": {},
   "source": [
    "## Now we can run the CRE estimator"
   ]
  },
  {
   "cell_type": "code",
   "execution_count": 7,
   "metadata": {
    "ExecuteTime": {
     "end_time": "2020-12-22T21:42:51.485812Z",
     "start_time": "2020-12-22T21:42:51.144952Z"
    }
   },
   "outputs": [],
   "source": [
    "## Optional Parameters ##\n",
    "cre_params = {\n",
    "    'ncore': 1, # Number of cores to use\n",
    "    'ndraw_tr': 5, # Number of draws to use in approximation for traces\n",
    "    'ndp': 50, # Number of draw to use in approximation for leverages\n",
    "    'out': 'res_cre.json', # Outputfile where results are saved\n",
    "    'posterior': False, # If True, compute posterior variance\n",
    "    'wo_btw': False # If True, sets between variation to 0, pure RE\n",
    "}\n",
    "cluster_params = {\n",
    "    'measures': bpd.measures.cdfs(\n",
    "        cdf_resolution=10, # How many values to use to approximate the cdfs\n",
    "        measure='quantile_all' # How to compute the cdfs (\n",
    "                               # 'quantile_all' to get quantiles from entire set of data,\n",
    "                                    # then have firm-level values between 0 and 1;\n",
    "                               # 'quantile_firm_small' to get quantiles at the firm-level\n",
    "                                    # and have values be compensations if small data;\n",
    "                               # 'quantile_firm_large' to get quantiles at the firm-level\n",
    "                                    # and have values be compensations if large data,\n",
    "                                    # note that this is up to 50 times slower than\n",
    "                                    # 'quantile_firm_small' and should only be used\n",
    "                                    # if the dataset is too large to copy into a dictionary\n",
    "    ),\n",
    "    'grouping': bpd.grouping.kmeans( # Read more at\n",
    "                                  # https://scikit-learn.org/stable/modules/generated/sklearn.cluster.KMeans.html\n",
    "        n_clusters=10,\n",
    "        init='k-means++',\n",
    "        n_init=500,\n",
    "        max_iter=300,\n",
    "        tol=0.0001,\n",
    "        precompute_distances='deprecated',\n",
    "        verbose=0,\n",
    "        random_state=None,\n",
    "        copy_x=True,\n",
    "        n_jobs='deprecated',\n",
    "        algorithm='auto'\n",
    "    ),\n",
    "    'stayers_movers': None, # If None, clusters on entire dataset;\n",
    "                         # If 'stayers', clusters on only stayers\n",
    "                         # If 'movers', clusters on only movers\n",
    "    't': None, # If None, clusters on entire dataset\n",
    "            # If int, gives period in data to consider (only valid for non-collapsed data)\n",
    "    'weighted': True, # If True, weight firm clusters by firm size\n",
    "                        # (if a weight column is included, firm weight is computed using this column;\n",
    "                        # otherwise, each observation has weight 1)\n",
    "    'dropna': False # If True, drop observations where firms aren't clustered;\n",
    "                 # If False, keep all observations\n",
    "}"
   ]
  },
  {
   "cell_type": "code",
   "execution_count": 8,
   "metadata": {},
   "outputs": [],
   "source": [
    "# Cluster\n",
    "tw_net.cluster(**cluster_params)\n",
    "# Estimate the cre model\n",
    "tw_net.fit_cre(user_cre=cre_params)"
   ]
  },
  {
   "cell_type": "markdown",
   "metadata": {},
   "source": [
    "## We can also run the FE estimator"
   ]
  },
  {
   "cell_type": "code",
   "execution_count": 9,
   "metadata": {},
   "outputs": [],
   "source": [
    "# First, compute largest biconnected set of firms for heteroskedastic correction\n",
    "tw_net.prep_data(\n",
    "    collapsed=True, # If True, run estimators on collapsed data\n",
    "    user_clean=clean_params,\n",
    "    he=True # If True, compute largest biconnected set of firms for heteroskedastic correction\n",
    ")"
   ]
  },
  {
   "cell_type": "code",
   "execution_count": 10,
   "metadata": {},
   "outputs": [],
   "source": [
    "## Optional Parameters ##\n",
    "fe_params = {\n",
    "    'ncore': 1, # Number of cores to use\n",
    "    'batch': 1, # Batch size to send in parallel\n",
    "    'ndraw_pii': 50, # Number of draws to use in approximation for leverages\n",
    "    'levfile': '', # File to load precomputed leverages\n",
    "    'ndraw_tr': 5, # Number of draws to use in approximation for traces\n",
    "    'he': True, # If True, compute heteroskedastic correction\n",
    "    'out': 'res_fe.json', # Outputfile where results are saved\n",
    "    'statsonly': False, # If True, return only basic statistics\n",
    "    'Q': 'cov(alpha, psi)' # Which Q matrix to consider. Options include 'cov(alpha, psi)' and 'cov(psi_t, psi_{t+1})'\n",
    "}"
   ]
  },
  {
   "cell_type": "code",
   "execution_count": null,
   "metadata": {
    "scrolled": false
   },
   "outputs": [],
   "source": [
    "# Estimate the fixed effect decomposition\n",
    "tw_net.fit_fe(user_fe=fe_params)"
   ]
  },
  {
   "cell_type": "markdown",
   "metadata": {},
   "source": [
    "## Finally, we can investigate the results"
   ]
  },
  {
   "cell_type": "code",
   "execution_count": 12,
   "metadata": {
    "ExecuteTime": {
     "end_time": "2020-12-22T21:42:51.498849Z",
     "start_time": "2020-12-22T21:42:51.489723Z"
    },
    "scrolled": true
   },
   "outputs": [
    {
     "data": {
      "text/plain": [
       "{'var_y': 1.988764409495749,\n",
       " 'var_bw': 0.5904416718602248,\n",
       " 'cov_bw': 0.1835031454491588,\n",
       " 'var_tot': 0.5891609808891859,\n",
       " 'cov_tot': 0.18465501303507245}"
      ]
     },
     "metadata": {},
     "output_type": "display_data"
    },
    {
     "data": {
      "text/plain": [
       "{'var_y': 1.9561198864792677,\n",
       " 'var_fe': 0.5986416982327974,\n",
       " 'cov_fe': 0.17803898603112833,\n",
       " 'var_ho': 0.5916841556340435,\n",
       " 'cov_ho': 0.18054370240332968,\n",
       " 'var_he': 0.588987090687847,\n",
       " 'cov_he': 0.18105849433400442}"
      ]
     },
     "metadata": {},
     "output_type": "display_data"
    }
   ],
   "source": [
    "display(tw_net.summary_cre())\n",
    "display(tw_net.summary_fe())"
   ]
  }
 ],
 "metadata": {
  "celltoolbar": "Tags",
  "hide_input": false,
  "kernelspec": {
   "display_name": "Python 3",
   "language": "python",
   "name": "python3"
  },
  "language_info": {
   "codemirror_mode": {
    "name": "ipython",
    "version": 3
   },
   "file_extension": ".py",
   "mimetype": "text/x-python",
   "name": "python",
   "nbconvert_exporter": "python",
   "pygments_lexer": "ipython3",
   "version": "3.9.2"
  },
  "latex_envs": {
   "LaTeX_envs_menu_present": true,
   "autoclose": false,
   "autocomplete": true,
   "bibliofile": "biblio.bib",
   "cite_by": "apalike",
   "current_citInitial": 1,
   "eqLabelWithNumbers": true,
   "eqNumInitial": 1,
   "hotkeys": {
    "equation": "Ctrl-E",
    "itemize": "Ctrl-I"
   },
   "labels_anchors": false,
   "latex_user_defs": false,
   "report_style_numbering": false,
   "user_envs_cfg": false
  },
  "nbsphinx-toctree": {
   "hidden": true,
   "maxdepth": 1,
   "titlesonly": true
  },
  "toc": {
   "base_numbering": 1,
   "nav_menu": {},
   "number_sections": true,
   "sideBar": true,
   "skip_h1_title": false,
   "title_cell": "Table of Contents",
   "title_sidebar": "Contents",
   "toc_cell": false,
   "toc_position": {},
   "toc_section_display": true,
   "toc_window_display": false
  },
  "varInspector": {
   "cols": {
    "lenName": 16,
    "lenType": 16,
    "lenVar": 40
   },
   "kernels_config": {
    "python": {
     "delete_cmd_postfix": "",
     "delete_cmd_prefix": "del ",
     "library": "var_list.py",
     "varRefreshCmd": "print(var_dic_list())"
    },
    "r": {
     "delete_cmd_postfix": ") ",
     "delete_cmd_prefix": "rm(",
     "library": "var_list.r",
     "varRefreshCmd": "cat(var_dic_list()) "
    }
   },
   "types_to_exclude": [
    "module",
    "function",
    "builtin_function_or_method",
    "instance",
    "_Feature"
   ],
   "window_display": false
  }
 },
 "nbformat": 4,
 "nbformat_minor": 4
}
