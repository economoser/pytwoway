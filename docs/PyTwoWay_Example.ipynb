{
 "cells": [
  {
   "cell_type": "markdown",
   "metadata": {},
   "source": [
    "# Estimating AKM, Bias-Corrected AKM, and CRE TWFE models using PyTwoWay"
   ]
  },
  {
   "cell_type": "code",
   "execution_count": 1,
   "metadata": {
    "ExecuteTime": {
     "end_time": "2020-10-19T22:59:01.122300Z",
     "start_time": "2020-10-19T22:58:59.425108Z"
    }
   },
   "outputs": [],
   "source": [
    "# Navigate to parent folder for import\n",
    "# Weird code needed for output to show\n",
    "import os, sys\n",
    "stdout = sys.stdout\n",
    "sys.path.insert(1, os.path.join(sys.path[0], '..'))\n",
    "sys.stdout = stdout\n",
    "# Import sim_twfe_network to simulate data\n",
    "from sim_twfe_network import sim_twfe_network as stwn\n",
    "from twfe_network import twfe_network as twn"
   ]
  },
  {
   "cell_type": "markdown",
   "metadata": {},
   "source": [
    "## First, get your data"
   ]
  },
  {
   "cell_type": "code",
   "execution_count": 2,
   "metadata": {
    "ExecuteTime": {
     "end_time": "2020-10-19T22:59:01.410810Z",
     "start_time": "2020-10-19T22:59:01.125070Z"
    }
   },
   "outputs": [
    {
     "data": {
      "text/html": [
       "<div>\n",
       "<style scoped>\n",
       "    .dataframe tbody tr th:only-of-type {\n",
       "        vertical-align: middle;\n",
       "    }\n",
       "\n",
       "    .dataframe tbody tr th {\n",
       "        vertical-align: top;\n",
       "    }\n",
       "\n",
       "    .dataframe thead th {\n",
       "        text-align: right;\n",
       "    }\n",
       "</style>\n",
       "<table border=\"1\" class=\"dataframe\">\n",
       "  <thead>\n",
       "    <tr style=\"text-align: right;\">\n",
       "      <th></th>\n",
       "      <th>wid</th>\n",
       "      <th>year</th>\n",
       "      <th>k</th>\n",
       "      <th>alpha</th>\n",
       "      <th>psi</th>\n",
       "      <th>spell</th>\n",
       "      <th>freq</th>\n",
       "      <th>fid</th>\n",
       "      <th>move</th>\n",
       "      <th>comp</th>\n",
       "    </tr>\n",
       "  </thead>\n",
       "  <tbody>\n",
       "    <tr>\n",
       "      <th>0</th>\n",
       "      <td>1</td>\n",
       "      <td>1</td>\n",
       "      <td>5</td>\n",
       "      <td>-0.430727</td>\n",
       "      <td>0.114185</td>\n",
       "      <td>1</td>\n",
       "      <td>1</td>\n",
       "      <td>81</td>\n",
       "      <td>False</td>\n",
       "      <td>-1.210375</td>\n",
       "    </tr>\n",
       "    <tr>\n",
       "      <th>1</th>\n",
       "      <td>1</td>\n",
       "      <td>2</td>\n",
       "      <td>8</td>\n",
       "      <td>-0.430727</td>\n",
       "      <td>0.908458</td>\n",
       "      <td>2</td>\n",
       "      <td>3</td>\n",
       "      <td>167</td>\n",
       "      <td>True</td>\n",
       "      <td>-0.068180</td>\n",
       "    </tr>\n",
       "    <tr>\n",
       "      <th>2</th>\n",
       "      <td>1</td>\n",
       "      <td>3</td>\n",
       "      <td>8</td>\n",
       "      <td>-0.430727</td>\n",
       "      <td>0.908458</td>\n",
       "      <td>2</td>\n",
       "      <td>3</td>\n",
       "      <td>167</td>\n",
       "      <td>False</td>\n",
       "      <td>-1.281269</td>\n",
       "    </tr>\n",
       "    <tr>\n",
       "      <th>3</th>\n",
       "      <td>1</td>\n",
       "      <td>4</td>\n",
       "      <td>8</td>\n",
       "      <td>-0.430727</td>\n",
       "      <td>0.908458</td>\n",
       "      <td>2</td>\n",
       "      <td>3</td>\n",
       "      <td>167</td>\n",
       "      <td>False</td>\n",
       "      <td>0.296934</td>\n",
       "    </tr>\n",
       "    <tr>\n",
       "      <th>4</th>\n",
       "      <td>1</td>\n",
       "      <td>5</td>\n",
       "      <td>6</td>\n",
       "      <td>-0.430727</td>\n",
       "      <td>0.348756</td>\n",
       "      <td>3</td>\n",
       "      <td>1</td>\n",
       "      <td>112</td>\n",
       "      <td>True</td>\n",
       "      <td>-0.934264</td>\n",
       "    </tr>\n",
       "    <tr>\n",
       "      <th>...</th>\n",
       "      <td>...</td>\n",
       "      <td>...</td>\n",
       "      <td>...</td>\n",
       "      <td>...</td>\n",
       "      <td>...</td>\n",
       "      <td>...</td>\n",
       "      <td>...</td>\n",
       "      <td>...</td>\n",
       "      <td>...</td>\n",
       "      <td>...</td>\n",
       "    </tr>\n",
       "    <tr>\n",
       "      <th>49995</th>\n",
       "      <td>10000</td>\n",
       "      <td>1</td>\n",
       "      <td>2</td>\n",
       "      <td>0.967422</td>\n",
       "      <td>-0.604585</td>\n",
       "      <td>1</td>\n",
       "      <td>1</td>\n",
       "      <td>42</td>\n",
       "      <td>False</td>\n",
       "      <td>0.827880</td>\n",
       "    </tr>\n",
       "    <tr>\n",
       "      <th>49996</th>\n",
       "      <td>10000</td>\n",
       "      <td>2</td>\n",
       "      <td>6</td>\n",
       "      <td>0.967422</td>\n",
       "      <td>0.348756</td>\n",
       "      <td>2</td>\n",
       "      <td>1</td>\n",
       "      <td>118</td>\n",
       "      <td>True</td>\n",
       "      <td>1.648853</td>\n",
       "    </tr>\n",
       "    <tr>\n",
       "      <th>49997</th>\n",
       "      <td>10000</td>\n",
       "      <td>3</td>\n",
       "      <td>2</td>\n",
       "      <td>0.967422</td>\n",
       "      <td>-0.604585</td>\n",
       "      <td>3</td>\n",
       "      <td>3</td>\n",
       "      <td>36</td>\n",
       "      <td>True</td>\n",
       "      <td>0.207598</td>\n",
       "    </tr>\n",
       "    <tr>\n",
       "      <th>49998</th>\n",
       "      <td>10000</td>\n",
       "      <td>4</td>\n",
       "      <td>2</td>\n",
       "      <td>0.967422</td>\n",
       "      <td>-0.604585</td>\n",
       "      <td>3</td>\n",
       "      <td>3</td>\n",
       "      <td>36</td>\n",
       "      <td>False</td>\n",
       "      <td>0.306681</td>\n",
       "    </tr>\n",
       "    <tr>\n",
       "      <th>49999</th>\n",
       "      <td>10000</td>\n",
       "      <td>5</td>\n",
       "      <td>2</td>\n",
       "      <td>0.967422</td>\n",
       "      <td>-0.604585</td>\n",
       "      <td>3</td>\n",
       "      <td>3</td>\n",
       "      <td>36</td>\n",
       "      <td>False</td>\n",
       "      <td>0.865154</td>\n",
       "    </tr>\n",
       "  </tbody>\n",
       "</table>\n",
       "<p>50000 rows × 10 columns</p>\n",
       "</div>"
      ],
      "text/plain": [
       "         wid  year  k     alpha       psi  spell  freq  fid   move      comp\n",
       "0          1     1  5 -0.430727  0.114185      1     1   81  False -1.210375\n",
       "1          1     2  8 -0.430727  0.908458      2     3  167   True -0.068180\n",
       "2          1     3  8 -0.430727  0.908458      2     3  167  False -1.281269\n",
       "3          1     4  8 -0.430727  0.908458      2     3  167  False  0.296934\n",
       "4          1     5  6 -0.430727  0.348756      3     1  112   True -0.934264\n",
       "...      ...   ... ..       ...       ...    ...   ...  ...    ...       ...\n",
       "49995  10000     1  2  0.967422 -0.604585      1     1   42  False  0.827880\n",
       "49996  10000     2  6  0.967422  0.348756      2     1  118   True  1.648853\n",
       "49997  10000     3  2  0.967422 -0.604585      3     3   36   True  0.207598\n",
       "49998  10000     4  2  0.967422 -0.604585      3     3   36  False  0.306681\n",
       "49999  10000     5  2  0.967422 -0.604585      3     3   36  False  0.865154\n",
       "\n",
       "[50000 rows x 10 columns]"
      ]
     },
     "metadata": {},
     "output_type": "display_data"
    }
   ],
   "source": [
    "# For the example, we simulate data\n",
    "sim_data = stwn().sim_network()\n",
    "display(sim_data)"
   ]
  },
  {
   "cell_type": "markdown",
   "metadata": {},
   "source": [
    "## Second, create a twfe_network object using your data"
   ]
  },
  {
   "cell_type": "code",
   "execution_count": 3,
   "metadata": {
    "ExecuteTime": {
     "end_time": "2020-10-19T22:59:01.825676Z",
     "start_time": "2020-10-19T22:59:01.414156Z"
    }
   },
   "outputs": [],
   "source": [
    "# We need to specify a column dictionary to make sure columns are named correctly. You can also manually update column names yourself\n",
    "col_dict = {'fid': 'fid', 'wid': 'wid', 'year': 'year', 'comp': 'comp'}\n",
    "tw_net = twn(data=sim_data, col_dict=col_dict) # tw_net for two-way network"
   ]
  },
  {
   "cell_type": "markdown",
   "metadata": {
    "ExecuteTime": {
     "end_time": "2020-10-19T22:50:29.782669Z",
     "start_time": "2020-10-19T22:50:29.773749Z"
    }
   },
   "source": [
    "## Third, refactor your data into event study format"
   ]
  },
  {
   "cell_type": "code",
   "execution_count": 4,
   "metadata": {
    "ExecuteTime": {
     "end_time": "2020-10-19T22:59:01.890127Z",
     "start_time": "2020-10-19T22:59:01.829118Z"
    }
   },
   "outputs": [],
   "source": [
    "tw_net.refactor_es()"
   ]
  },
  {
   "cell_type": "markdown",
   "metadata": {},
   "source": [
    "## Now we can run AKM"
   ]
  },
  {
   "cell_type": "code",
   "execution_count": 5,
   "metadata": {
    "ExecuteTime": {
     "end_time": "2020-10-19T22:59:01.991314Z",
     "start_time": "2020-10-19T22:59:01.892419Z"
    }
   },
   "outputs": [
    {
     "name": "stderr",
     "output_type": "stream",
     "text": [
      "100%|██████████| 5/5 [00:00<00:00, 166.86it/s]\n"
     ]
    }
   ],
   "source": [
    "# Optional parameters\n",
    "akm_params = {'ncore': 1, 'batch': 1, 'ndraw_pii': 50, 'ndraw_tr': 5, 'check': False, 'hetero': False, 'out': 'res_akm.json', 'con': False, 'logfile': '', 'levfile': '', 'statsonly': False}\n",
    "akm_res = tw_net.run_akm_corrected(user_akm=akm_params)"
   ]
  },
  {
   "cell_type": "markdown",
   "metadata": {},
   "source": [
    "## Fourth, cluster your data for CRE estimates"
   ]
  },
  {
   "cell_type": "code",
   "execution_count": 6,
   "metadata": {
    "ExecuteTime": {
     "end_time": "2020-10-19T22:59:04.264093Z",
     "start_time": "2020-10-19T22:59:01.994081Z"
    }
   },
   "outputs": [],
   "source": [
    "# Optional parameters\n",
    "KMeans_params = {'n_clusters': 10, 'init': 'k-means++', 'n_init': 500, 'max_iter': 300, 'tol': 0.0001, 'precompute_distances': 'deprecated', 'verbose': 0, 'random_state': None, 'copy_x': True, 'n_jobs': 'deprecated', 'algorithm': 'auto'} # These parameters are specifically for the KMeans algorithm\n",
    "cluster_params = {'cdf_resolution': 10, 'grouping': 'quantile_all', 'year': None, 'user_KMeans': KMeans_params}\n",
    "tw_net.cluster()"
   ]
  },
  {
   "cell_type": "markdown",
   "metadata": {},
   "source": [
    "## Now we can run CRE"
   ]
  },
  {
   "cell_type": "code",
   "execution_count": 7,
   "metadata": {
    "ExecuteTime": {
     "end_time": "2020-10-19T22:59:04.590241Z",
     "start_time": "2020-10-19T22:59:04.266679Z"
    }
   },
   "outputs": [],
   "source": [
    "# Optional parameters\n",
    "cre_params = {'ncore': 1, 'ndraw_tr': 5, 'ndp': 50, 'out': 'res_cre.json', 'posterior': False, 'wobtw': False}\n",
    "cre_res = tw_net.run_cre()"
   ]
  },
  {
   "cell_type": "markdown",
   "metadata": {},
   "source": [
    "## Finally, we can investigate the results"
   ]
  },
  {
   "cell_type": "code",
   "execution_count": 8,
   "metadata": {
    "ExecuteTime": {
     "end_time": "2020-10-19T22:59:04.604380Z",
     "start_time": "2020-10-19T22:59:04.595518Z"
    },
    "scrolled": true
   },
   "outputs": [
    {
     "data": {
      "text/plain": [
       "{'cores': 1,\n",
       " 'ndp': 50,\n",
       " 'ndt': 5,\n",
       " 'nm': 19956,\n",
       " 'ns': 624,\n",
       " 'n_firms': 194,\n",
       " 'n_workers': 10000,\n",
       " 'n_movers': 9376,\n",
       " 'mover_quantiles': [162.0,\n",
       "  184.8992,\n",
       "  194.0,\n",
       "  198.0,\n",
       "  204.0,\n",
       "  208.0,\n",
       "  212.0,\n",
       "  218.0,\n",
       "  220.0,\n",
       "  228.3111111111111,\n",
       "  244.0],\n",
       " 'size_quantiles': [165.0,\n",
       "  188.0,\n",
       "  196.0,\n",
       "  201.3389578163772,\n",
       "  207.0,\n",
       "  211.56501182033097,\n",
       "  215.0,\n",
       "  219.2719817767654,\n",
       "  224.0,\n",
       "  230.0,\n",
       "  246.0],\n",
       " 'between_firm_var': 0.9758955264933821,\n",
       " 'var_y': 1.946529498385522,\n",
       " 'solver_time': 0.0027690319999997826,\n",
       " 'tot_var': 1.9527435878105073,\n",
       " 'eps_var_ho': 0.7811215966580184,\n",
       " 'eps_var_fe': 0.38082953707204503,\n",
       " 'tr_var_ho': 0.01128917195800054,\n",
       " 'tr_cov_ho': -0.00763834332022516,\n",
       " 'var_fe': 0.5797880757968057,\n",
       " 'cov_fe': 0.16648635064649953,\n",
       " 'var_ho': 0.5709698597720254,\n",
       " 'cov_ho': 0.17245282557661593,\n",
       " 'total_time': 0.09407472610473633}"
      ]
     },
     "metadata": {},
     "output_type": "display_data"
    },
    {
     "data": {
      "text/plain": [
       "{'ndt': 5,\n",
       " 'nm': 19956,\n",
       " 'ns': 624,\n",
       " 'n_firms': 194,\n",
       " 'n_workers': 10000,\n",
       " 'var_y': 1.946529498385522,\n",
       " 'y1s_y1s': 0.009916170980551468,\n",
       " 'y1s_y1s_count': 598,\n",
       " 'y1s_var': 0.3760228778510924,\n",
       " 'y1s_var_count': 624,\n",
       " 'y1m_var': 0.9710715256031053,\n",
       " 'y1m_var_count': 19956,\n",
       " 'y2m_var': 0.9723065890310795,\n",
       " 'y2m_var_count': 19956,\n",
       " 'y1s_y1m1': 7.088794046653793e-05,\n",
       " 'y1s_y1m1_count': 624,\n",
       " 'y1s_y2m1': 0.0006368145145786483,\n",
       " 'y1s_y2m1_count': 624,\n",
       " 'y1m1_y1m1': -0.0019351948235884174,\n",
       " 'y1m1_y1m1_count': 19956,\n",
       " 'y2m1_y1m1': 0.0002620169987173995,\n",
       " 'y2m1_y1m1_count': 19956,\n",
       " 'y2m1_y2m1': 0.000926728233062396,\n",
       " 'y2m1_y2m1_count': 19956,\n",
       " 'y1s_y1m2': -0.0035889570098504727,\n",
       " 'y1s_y1m2_count': 624,\n",
       " 'y1s_y2m2': -0.00024307946298898653,\n",
       " 'y1s_y2m2_count': 624,\n",
       " 'y1m2_y1m2': 0.00033636845775197286,\n",
       " 'y1m2_y1m2_count': 19956,\n",
       " 'y2m2_y1m2': -9.321199635048633e-05,\n",
       " 'y2m2_y1m2_count': 19956,\n",
       " 'y2m2_y2m2': -0.0019517739080585675,\n",
       " 'y2m2_y2m2_count': 19956,\n",
       " 'dym_dym': 1.5660872322387438,\n",
       " 'dym_dym_count': 16626,\n",
       " 'y1m_y2m': 0.1967238568693751,\n",
       " 'y1m_y2m_count': 16626,\n",
       " 'cov_Am1Am1': 0.000926728233062396,\n",
       " 'cov_Am1Psi1': -0.0006647112343449965,\n",
       " 'var_psi_m1': -0.0015325005879608204,\n",
       " 'cov_Am2Am2': 0.00033636845775197286,\n",
       " 'cov_Am2Psi2': -0.0004295804541024592,\n",
       " 'var_psi_m2': -0.001428981457605622,\n",
       " 'cov_AsAm1': 0.0013015257489236449,\n",
       " 'cov_AsAm2': -0.0031593765557480133,\n",
       " 'psi_plus_cov1': -0.0005659265741121104,\n",
       " 'psi_plus_cov2': 0.0033458775468614864,\n",
       " 'var_psi': -0.0014807410227832213,\n",
       " 'cov_AsPsi1': 0.004260691995532598,\n",
       " 'cov_AsAs': 0.002875528012269493,\n",
       " 'var_eps': 1.5690487142843101,\n",
       " 'var_bw': 0.5713750775570623,\n",
       " 'cov_bw': 0.17082227752535603,\n",
       " 'var_wt': -0.0014807410227832213,\n",
       " 'cov_wt': -0.0005153695620688245,\n",
       " 'tot_var': 0.5698943365342791}"
      ]
     },
     "metadata": {},
     "output_type": "display_data"
    }
   ],
   "source": [
    "display(akm_res)\n",
    "display(cre_res)"
   ]
  },
  {
   "cell_type": "code",
   "execution_count": null,
   "metadata": {},
   "outputs": [],
   "source": []
  }
 ],
 "metadata": {
  "hide_input": false,
  "kernelspec": {
   "display_name": "Python 3",
   "language": "python",
   "name": "python3"
  },
  "language_info": {
   "codemirror_mode": {
    "name": "ipython",
    "version": 3
   },
   "file_extension": ".py",
   "mimetype": "text/x-python",
   "name": "python",
   "nbconvert_exporter": "python",
   "pygments_lexer": "ipython3",
   "version": "3.7.9"
  },
  "toc": {
   "base_numbering": 1,
   "nav_menu": {},
   "number_sections": true,
   "sideBar": true,
   "skip_h1_title": false,
   "title_cell": "Table of Contents",
   "title_sidebar": "Contents",
   "toc_cell": false,
   "toc_position": {},
   "toc_section_display": true,
   "toc_window_display": false
  },
  "varInspector": {
   "cols": {
    "lenName": 16,
    "lenType": 16,
    "lenVar": 40
   },
   "kernels_config": {
    "python": {
     "delete_cmd_postfix": "",
     "delete_cmd_prefix": "del ",
     "library": "var_list.py",
     "varRefreshCmd": "print(var_dic_list())"
    },
    "r": {
     "delete_cmd_postfix": ") ",
     "delete_cmd_prefix": "rm(",
     "library": "var_list.r",
     "varRefreshCmd": "cat(var_dic_list()) "
    }
   },
   "types_to_exclude": [
    "module",
    "function",
    "builtin_function_or_method",
    "instance",
    "_Feature"
   ],
   "window_display": false
  }
 },
 "nbformat": 4,
 "nbformat_minor": 4
}
