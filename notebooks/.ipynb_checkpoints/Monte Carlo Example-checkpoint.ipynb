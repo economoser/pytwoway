{
 "cells": [
  {
   "cell_type": "markdown",
   "metadata": {},
   "source": [
    "# Running a Monte Carlo simulation using class sim_twfe_network"
   ]
  },
  {
   "cell_type": "code",
   "execution_count": 1,
   "metadata": {
    "ExecuteTime": {
     "end_time": "2020-10-19T22:37:04.468683Z",
     "start_time": "2020-10-19T22:37:03.289926Z"
    }
   },
   "outputs": [],
   "source": [
    "# Navigate to parent folder for import\n",
    "# Weird code needed for output to show\n",
    "import os, sys\n",
    "stdout = sys.stdout\n",
    "sys.path.insert(1, os.path.join(sys.path[0], '..'))\n",
    "sys.stdout = stdout\n",
    "from sim_twfe_network import sim_twfe_network as stwn"
   ]
  },
  {
   "cell_type": "markdown",
   "metadata": {},
   "source": [
    "## First, optionally set parameter values for the simulated data"
   ]
  },
  {
   "cell_type": "code",
   "execution_count": 22,
   "metadata": {
    "ExecuteTime": {
     "end_time": "2020-10-19T22:41:06.011552Z",
     "start_time": "2020-10-19T22:41:06.006425Z"
    }
   },
   "outputs": [],
   "source": [
    "sim_params = {'num_ind': 10000, 'num_time': 5, 'firm_size': 50, 'nk': 10, 'nl': 5, 'alpha_sig': 1, 'psi_sig': 1, 'w_sig': 5, 'csort': 1, 'cnetw': 1, 'csig': 1, 'p_move': 0.5}"
   ]
  },
  {
   "cell_type": "markdown",
   "metadata": {},
   "source": [
    "## Second, create a stwn object using the parameter choices"
   ]
  },
  {
   "cell_type": "code",
   "execution_count": 23,
   "metadata": {
    "ExecuteTime": {
     "end_time": "2020-10-19T22:41:06.337020Z",
     "start_time": "2020-10-19T22:41:06.332933Z"
    }
   },
   "outputs": [],
   "source": [
    "sn = stwn(sim_params)"
   ]
  },
  {
   "cell_type": "markdown",
   "metadata": {},
   "source": [
    "## Third, optionally set parameter values for the Monte Carlo simulation"
   ]
  },
  {
   "cell_type": "code",
   "execution_count": 24,
   "metadata": {
    "ExecuteTime": {
     "end_time": "2020-10-19T22:41:06.657334Z",
     "start_time": "2020-10-19T22:41:06.650561Z"
    }
   },
   "outputs": [],
   "source": [
    "# For AKM estimation\n",
    "akm_params = {'ncore': 1, 'batch': 1, 'ndraw_pii': 50, 'ndraw_tr': 5, 'check': False, 'hetero': False, 'out': 'res_akm.json', 'con': False, 'logfile': '', 'levfile': '', 'statsonly': False}\n",
    "\n",
    "# For CRE estimation\n",
    "cre_params = {'ncore': 1, 'ndraw_tr': 5, 'ndp': 50, 'out': 'res_cre.json', 'posterior': False, 'wobtw': False}\n",
    "\n",
    "# For clustering (specifically for the KMeans algorithm)\n",
    "KMeans_params = {'n_clusters': 10, 'init': 'k-means++', 'n_init': 500, 'max_iter': 300, 'tol': 0.0001, 'precompute_distances': 'deprecated', 'verbose': 0, 'random_state': None, 'copy_x': True, 'n_jobs': 'deprecated', 'algorithm': 'auto'}\n",
    "\n",
    "# For clustering\n",
    "cluster_params = {'cdf_resolution': 10, 'grouping': 'quantile_all', 'year': None, 'user_KMeans': KMeans_params}"
   ]
  },
  {
   "cell_type": "markdown",
   "metadata": {},
   "source": [
    "## Fourth, run the Monte Carlo simulation using the parameter choices"
   ]
  },
  {
   "cell_type": "code",
   "execution_count": 25,
   "metadata": {
    "ExecuteTime": {
     "end_time": "2020-10-19T22:41:55.697983Z",
     "start_time": "2020-10-19T22:41:07.001050Z"
    },
    "scrolled": true
   },
   "outputs": [
    {
     "name": "stderr",
     "output_type": "stream",
     "text": [
      "100%|██████████| 5/5 [00:00<00:00, 164.49it/s]\n",
      "100%|██████████| 5/5 [00:00<00:00, 171.73it/s]\n",
      "100%|██████████| 5/5 [00:00<00:00, 137.37it/s]\n",
      "100%|██████████| 5/5 [00:00<00:00, 160.08it/s]\n",
      "100%|██████████| 5/5 [00:00<00:00, 171.55it/s]\n",
      "100%|██████████| 5/5 [00:00<00:00, 169.99it/s]\n",
      "100%|██████████| 5/5 [00:00<00:00, 155.13it/s]\n",
      "100%|██████████| 5/5 [00:00<00:00, 38.26it/s]\n",
      "100%|██████████| 5/5 [00:00<00:00, 167.00it/s]\n",
      "100%|██████████| 5/5 [00:00<00:00, 153.10it/s]\n",
      "100%|██████████| 5/5 [00:00<00:00, 32.05it/s]\n",
      "100%|██████████| 5/5 [00:00<00:00, 24.93it/s]\n",
      "100%|██████████| 5/5 [00:00<00:00, 174.78it/s]\n",
      "100%|██████████| 5/5 [00:00<00:00, 166.76it/s]\n",
      "100%|██████████| 5/5 [00:00<00:00, 164.34it/s]\n",
      "100%|██████████| 5/5 [00:00<00:00, 23.44it/s]\n",
      "100%|██████████| 5/5 [00:00<00:00, 166.30it/s]\n",
      "100%|██████████| 5/5 [00:00<00:00, 192.89it/s]\n",
      "100%|██████████| 5/5 [00:00<00:00, 201.76it/s]\n",
      "100%|██████████| 5/5 [00:00<00:00, 18.94it/s]\n",
      "100%|██████████| 5/5 [00:00<00:00, 82.06it/s]\n",
      "100%|██████████| 5/5 [00:00<00:00, 123.08it/s]\n",
      "100%|██████████| 5/5 [00:00<00:00, 118.70it/s]\n",
      "100%|██████████| 5/5 [00:00<00:00, 190.37it/s]\n",
      "100%|██████████| 5/5 [00:00<00:00, 155.08it/s]\n",
      "100%|██████████| 5/5 [00:00<00:00, 153.32it/s]\n",
      "100%|██████████| 5/5 [00:00<00:00, 32.62it/s]\n",
      "100%|██████████| 5/5 [00:00<00:00, 176.37it/s]\n",
      "100%|██████████| 5/5 [00:00<00:00, 149.74it/s]\n",
      "100%|██████████| 5/5 [00:00<00:00, 191.29it/s]\n",
      "100%|██████████| 5/5 [00:00<00:00, 170.30it/s]\n",
      "100%|██████████| 5/5 [00:00<00:00, 25.64it/s]\n",
      "100%|██████████| 5/5 [00:00<00:00, 165.37it/s]\n",
      "100%|██████████| 5/5 [00:00<00:00, 27.25it/s]\n",
      "100%|██████████| 5/5 [00:00<00:00, 167.36it/s]\n",
      "100%|██████████| 5/5 [00:00<00:00, 188.49it/s]\n",
      "100%|██████████| 5/5 [00:00<00:00, 135.19it/s]\n",
      "100%|██████████| 5/5 [00:00<00:00, 113.68it/s]\n",
      "100%|██████████| 5/5 [00:00<00:00, 163.89it/s]\n",
      "100%|██████████| 5/5 [00:00<00:00, 18.65it/s]\n",
      "100%|██████████| 5/5 [00:00<00:00, 106.92it/s]\n",
      "100%|██████████| 5/5 [00:00<00:00, 114.10it/s]\n",
      "100%|██████████| 5/5 [00:00<00:00, 95.44it/s]\n",
      "100%|██████████| 5/5 [00:00<00:00, 113.01it/s]\n",
      "100%|██████████| 5/5 [00:00<00:00, 166.66it/s]\n",
      "100%|██████████| 5/5 [00:00<00:00, 163.41it/s]\n",
      "100%|██████████| 5/5 [00:00<00:00, 154.70it/s]\n",
      "100%|██████████| 5/5 [00:00<00:00, 22.59it/s]\n",
      "100%|██████████| 5/5 [00:00<00:00, 183.97it/s]\n",
      "100%|██████████| 5/5 [00:00<00:00, 231.79it/s]\n"
     ]
    }
   ],
   "source": [
    "sn.twfe_monte_carlo(N=50, ncore=4, akm_params=akm_params, cre_params=cre_params, cluster_params=cluster_params)"
   ]
  },
  {
   "cell_type": "markdown",
   "metadata": {},
   "source": [
    "## Fifth and finally, plot parameter estimates (plots show the difference from the truth)"
   ]
  },
  {
   "cell_type": "code",
   "execution_count": 26,
   "metadata": {
    "ExecuteTime": {
     "end_time": "2020-10-19T22:41:56.571498Z",
     "start_time": "2020-10-19T22:41:55.732143Z"
    }
   },
   "outputs": [
    {
     "data": {
      "image/png": "[encoded data removed]",
      "text/plain": [
       "<Figure size 432x288 with 1 Axes>"
      ]
     },
     "metadata": {
      "needs_background": "light"
     },
     "output_type": "display_data"
    },
    {
     "data": {
      "image/png": "[encoded data removed]",
      "text/plain": [
       "<Figure size 432x288 with 1 Axes>"
      ]
     },
     "metadata": {
      "needs_background": "light"
     },
     "output_type": "display_data"
    }
   ],
   "source": [
    "sn.plot_monte_carlo()"
   ]
  },
  {
   "cell_type": "code",
   "execution_count": null,
   "metadata": {},
   "outputs": [],
   "source": []
  }
 ],
 "metadata": {
  "hide_input": false,
  "kernelspec": {
   "display_name": "Python 3",
   "language": "python",
   "name": "python3"
  },
  "language_info": {
   "codemirror_mode": {
    "name": "ipython",
    "version": 3
   },
   "file_extension": ".py",
   "mimetype": "text/x-python",
   "name": "python",
   "nbconvert_exporter": "python",
   "pygments_lexer": "ipython3",
   "version": "3.7.9"
  },
  "toc": {
   "base_numbering": 1,
   "nav_menu": {},
   "number_sections": true,
   "sideBar": true,
   "skip_h1_title": false,
   "title_cell": "Table of Contents",
   "title_sidebar": "Contents",
   "toc_cell": false,
   "toc_position": {},
   "toc_section_display": true,
   "toc_window_display": false
  },
  "varInspector": {
   "cols": {
    "lenName": 16,
    "lenType": 16,
    "lenVar": 40
   },
   "kernels_config": {
    "python": {
     "delete_cmd_postfix": "",
     "delete_cmd_prefix": "del ",
     "library": "var_list.py",
     "varRefreshCmd": "print(var_dic_list())"
    },
    "r": {
     "delete_cmd_postfix": ") ",
     "delete_cmd_prefix": "rm(",
     "library": "var_list.r",
     "varRefreshCmd": "cat(var_dic_list()) "
    }
   },
   "types_to_exclude": [
    "module",
    "function",
    "builtin_function_or_method",
    "instance",
    "_Feature"
   ],
   "window_display": false
  }
 },
 "nbformat": 4,
 "nbformat_minor": 4
}
