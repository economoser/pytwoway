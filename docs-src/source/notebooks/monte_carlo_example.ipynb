{
 "cells": [
  {
   "cell_type": "markdown",
   "metadata": {},
   "source": [
    "# Monte Carlo example"
   ]
  },
  {
   "cell_type": "code",
   "execution_count": 1,
   "metadata": {
    "ExecuteTime": {
     "end_time": "2020-12-22T21:42:40.756437Z",
     "start_time": "2020-12-22T21:42:39.576929Z"
    }
   },
   "outputs": [],
   "source": [
    "import os, sys\n",
    "# Navigate to parent folder for import\n",
    "os.chdir('../../..')\n",
    "from pytwoway import sim_twfe_network as sn\n",
    "\n",
    "# Weird code needed for output to show\n",
    "os.chdir('docs-src/source/notebooks')\n",
    "stdout = sys.stdout\n",
    "sys.path.insert(1, os.path.join(sys.path[0], '..'))\n",
    "sys.stdout = stdout"
   ]
  },
  {
   "cell_type": "markdown",
   "metadata": {},
   "source": [
    "## First, optionally set parameter values for the simulated data"
   ]
  },
  {
   "cell_type": "code",
   "execution_count": 2,
   "metadata": {
    "ExecuteTime": {
     "end_time": "2020-12-22T21:42:40.761257Z",
     "start_time": "2020-12-22T21:42:40.758033Z"
    }
   },
   "outputs": [],
   "source": [
    "sim_params = {'num_ind': 10000, 'num_time': 5, 'firm_size': 50, 'nk': 10, 'nl': 5, 'alpha_sig': 1, 'psi_sig': 1, 'w_sig': 5, 'csort': 1, 'cnetw': 1, 'csig': 1, 'p_move': 0.5}"
   ]
  },
  {
   "cell_type": "markdown",
   "metadata": {},
   "source": [
    "## Second, create a stwn object using the parameter choices"
   ]
  },
  {
   "cell_type": "code",
   "execution_count": 3,
   "metadata": {
    "ExecuteTime": {
     "end_time": "2020-12-22T21:42:40.768940Z",
     "start_time": "2020-12-22T21:42:40.765231Z"
    }
   },
   "outputs": [],
   "source": [
    "smc_net = sn.TwoWayMonteCarlo(sim_params) # smc_net for simulated Monte Carlo two-way network"
   ]
  },
  {
   "cell_type": "markdown",
   "metadata": {},
   "source": [
    "## Third, optionally set parameter values for the Monte Carlo simulation"
   ]
  },
  {
   "cell_type": "code",
   "execution_count": 4,
   "metadata": {
    "ExecuteTime": {
     "end_time": "2020-12-22T21:42:40.777568Z",
     "start_time": "2020-12-22T21:42:40.772602Z"
    }
   },
   "outputs": [],
   "source": [
    "# For FE estimation\n",
    "fe_params = {'ncore': 1, 'batch': 1, 'ndraw_pii': 50, 'ndraw_tr': 5, 'check': False, 'hetero': False, 'out': 'res_akm.json', 'con': False, 'logfile': '', 'levfile': '', 'statsonly': False, 'Q': 'cov(alpha, psi)'}\n",
    "\n",
    "# For CRE estimation\n",
    "cre_params = {'ncore': 1, 'ndraw_tr': 5, 'ndp': 50, 'out': 'res_cre.json', 'posterior': False, 'wobtw': False}\n",
    "\n",
    "# For clustering (specifically for the KMeans algorithm)\n",
    "KMeans_params = {'n_clusters': 10, 'init': 'k-means++', 'n_init': 500, 'max_iter': 300, 'tol': 0.0001, 'precompute_distances': 'deprecated', 'verbose': 0, 'random_state': None, 'copy_x': True, 'n_jobs': 'deprecated', 'algorithm': 'auto'}\n",
    "\n",
    "# For clustering\n",
    "cluster_params = {'cdf_resolution': 10, 'grouping': 'quantile_all', 'year': None, 'user_KMeans': KMeans_params}"
   ]
  },
  {
   "cell_type": "markdown",
   "metadata": {},
   "source": [
    "## Fourth, run the Monte Carlo simulation using the parameter choices"
   ]
  },
  {
   "cell_type": "code",
   "execution_count": 5,
   "metadata": {
    "ExecuteTime": {
     "end_time": "2020-12-22T21:43:16.646468Z",
     "start_time": "2020-12-22T21:42:40.780053Z"
    },
    "scrolled": true
   },
   "outputs": [
    {
     "name": "stderr",
     "output_type": "stream",
     "text": [
      "100%|██████████| 5/5 [00:00<00:00, 162.36it/s]\n",
      "100%|██████████| 5/5 [00:00<00:00, 124.62it/s]\n",
      "100%|██████████| 5/5 [00:00<00:00, 113.78it/s]\n",
      "100%|██████████| 5/5 [00:00<00:00, 103.39it/s]\n",
      "100%|██████████| 5/5 [00:00<00:00, 184.75it/s]\n",
      "100%|██████████| 5/5 [00:00<00:00, 152.44it/s]\n",
      "100%|██████████| 5/5 [00:00<00:00, 27.25it/s]\n",
      "100%|██████████| 5/5 [00:00<00:00, 23.92it/s]\n",
      "100%|██████████| 5/5 [00:00<00:00, 152.31it/s]\n",
      "100%|██████████| 5/5 [00:00<00:00, 143.97it/s]\n",
      "100%|██████████| 5/5 [00:00<00:00, 31.30it/s]\n",
      "100%|██████████| 5/5 [00:00<00:00, 32.45it/s]\n",
      "100%|██████████| 5/5 [00:00<00:00, 150.03it/s]\n",
      "100%|██████████| 5/5 [00:00<00:00, 137.67it/s]\n",
      "100%|██████████| 5/5 [00:00<00:00, 136.35it/s]\n",
      "100%|██████████| 5/5 [00:00<00:00, 147.28it/s]\n",
      "100%|██████████| 5/5 [00:00<00:00, 134.31it/s]\n",
      "100%|██████████| 5/5 [00:00<00:00, 22.82it/s]\n",
      "100%|██████████| 5/5 [00:00<00:00, 139.91it/s]\n",
      "100%|██████████| 5/5 [00:00<00:00, 24.57it/s]\n",
      "100%|██████████| 5/5 [00:00<00:00, 114.59it/s]\n",
      "100%|██████████| 5/5 [00:00<00:00, 23.24it/s]\n",
      "100%|██████████| 5/5 [00:00<00:00, 145.17it/s]\n",
      "100%|██████████| 5/5 [00:00<00:00, 120.05it/s]\n",
      "  0%|          | 0/5 [00:00<?, ?it/s]5.97it/s]\n",
      "100%|██████████| 5/5 [00:00<00:00, 114.29it/s]\n",
      "100%|██████████| 5/5 [00:00<00:00, 125.08it/s]\n",
      "100%|██████████| 5/5 [00:00<00:00, 111.22it/s]\n",
      "100%|██████████| 5/5 [00:00<00:00, 124.27it/s]\n",
      "100%|██████████| 5/5 [00:00<00:00, 27.42it/s]\n",
      "100%|██████████| 5/5 [00:00<00:00, 106.46it/s]\n",
      "100%|██████████| 5/5 [00:00<00:00, 110.37it/s]\n",
      "100%|██████████| 5/5 [00:00<00:00, 104.11it/s]\n",
      "100%|██████████| 5/5 [00:00<00:00, 122.19it/s]\n",
      "100%|██████████| 5/5 [00:00<00:00, 104.70it/s]\n",
      "100%|██████████| 5/5 [00:00<00:00, 18.69it/s]\n",
      "100%|██████████| 5/5 [00:00<00:00, 111.11it/s]\n",
      "100%|██████████| 5/5 [00:00<00:00, 113.17it/s]\n",
      "100%|██████████| 5/5 [00:00<00:00, 102.68it/s]\n",
      "100%|██████████| 5/5 [00:00<00:00, 105.18it/s]\n",
      "100%|██████████| 5/5 [00:00<00:00, 96.65it/s]\n",
      "100%|██████████| 5/5 [00:00<00:00, 103.89it/s]\n",
      "100%|██████████| 5/5 [00:00<00:00, 100.54it/s]\n",
      "100%|██████████| 5/5 [00:00<00:00, 19.90it/s]\n",
      "100%|██████████| 5/5 [00:00<00:00, 83.29it/s]\n",
      "100%|██████████| 5/5 [00:00<00:00, 88.71it/s]\n",
      "100%|██████████| 5/5 [00:00<00:00, 24.83it/s]\n",
      "100%|██████████| 5/5 [00:00<00:00, 94.09it/s]\n",
      "100%|██████████| 5/5 [00:00<00:00, 22.90it/s]\n",
      "100%|██████████| 5/5 [00:00<00:00, 136.15it/s]\n"
     ]
    }
   ],
   "source": [
    "smc_net.twfe_monte_carlo(N=50, ncore=4, fe_params=fe_params, cre_params=cre_params, cluster_params=cluster_params)"
   ]
  },
  {
   "cell_type": "markdown",
   "metadata": {},
   "source": [
    "## Fifth and finally, plot parameter estimates (plots show the difference from the truth)"
   ]
  },
  {
   "cell_type": "code",
   "execution_count": 6,
   "metadata": {
    "ExecuteTime": {
     "end_time": "2020-12-22T21:43:17.415199Z",
     "start_time": "2020-12-22T21:43:16.649221Z"
    }
   },
   "outputs": [
    {
     "data": {
      "image/png": "[encoded data removed]",
      "text/plain": [
       "<Figure size 432x288 with 1 Axes>"
      ]
     },
     "metadata": {
      "needs_background": "light"
     },
     "output_type": "display_data"
    },
    {
     "data": {
      "image/png": "[encoded data removed]",
      "text/plain": [
       "<Figure size 432x288 with 1 Axes>"
      ]
     },
     "metadata": {
      "needs_background": "light"
     },
     "output_type": "display_data"
    }
   ],
   "source": [
    "smc_net.plot_monte_carlo()"
   ]
  }
 ],
 "metadata": {
  "celltoolbar": "Tags",
  "hide_input": false,
  "kernelspec": {
   "display_name": "Python 3",
   "language": "python",
   "name": "python3"
  },
  "language_info": {
   "codemirror_mode": {
    "name": "ipython",
    "version": 3
   },
   "file_extension": ".py",
   "mimetype": "text/x-python",
   "name": "python",
   "nbconvert_exporter": "python",
   "pygments_lexer": "ipython3",
   "version": "3.7.9"
  },
  "latex_envs": {
   "LaTeX_envs_menu_present": true,
   "autoclose": false,
   "autocomplete": true,
   "bibliofile": "biblio.bib",
   "cite_by": "apalike",
   "current_citInitial": 1,
   "eqLabelWithNumbers": true,
   "eqNumInitial": 1,
   "hotkeys": {
    "equation": "Ctrl-E",
    "itemize": "Ctrl-I"
   },
   "labels_anchors": false,
   "latex_user_defs": false,
   "report_style_numbering": false,
   "user_envs_cfg": false
  },
  "nbsphinx-toctree": {
   "hidden": true,
   "maxdepth": 1,
   "titlesonly": true
  },
  "toc": {
   "base_numbering": 1,
   "nav_menu": {},
   "number_sections": true,
   "sideBar": true,
   "skip_h1_title": false,
   "title_cell": "Table of Contents",
   "title_sidebar": "Contents",
   "toc_cell": false,
   "toc_position": {},
   "toc_section_display": true,
   "toc_window_display": false
  },
  "varInspector": {
   "cols": {
    "lenName": 16,
    "lenType": 16,
    "lenVar": 40
   },
   "kernels_config": {
    "python": {
     "delete_cmd_postfix": "",
     "delete_cmd_prefix": "del ",
     "library": "var_list.py",
     "varRefreshCmd": "print(var_dic_list())"
    },
    "r": {
     "delete_cmd_postfix": ") ",
     "delete_cmd_prefix": "rm(",
     "library": "var_list.r",
     "varRefreshCmd": "cat(var_dic_list()) "
    }
   },
   "types_to_exclude": [
    "module",
    "function",
    "builtin_function_or_method",
    "instance",
    "_Feature"
   ],
   "window_display": false
  }
 },
 "nbformat": 4,
 "nbformat_minor": 4
}
