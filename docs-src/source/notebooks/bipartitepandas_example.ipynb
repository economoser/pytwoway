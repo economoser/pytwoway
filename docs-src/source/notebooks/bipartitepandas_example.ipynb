{
 "cells": [
  {
   "cell_type": "markdown",
   "metadata": {},
   "source": [
    "# BipartitePandas example"
   ]
  },
  {
   "cell_type": "code",
   "execution_count": null,
   "metadata": {},
   "outputs": [],
   "source": [
    "# %load_ext autoreload\n",
    "# %autoreload 2"
   ]
  },
  {
   "cell_type": "code",
   "execution_count": null,
   "metadata": {},
   "outputs": [],
   "source": [
    "# Add pytwoway to system path, do not run this\n",
    "import sys\n",
    "sys.path.append('../../..')"
   ]
  },
  {
   "cell_type": "code",
   "execution_count": null,
   "metadata": {},
   "outputs": [],
   "source": [
    "# Import the pytwoway package \n",
    "# (Make sure you have installed it using pip install pytwoway)\n",
    "import pytwoway as tw"
   ]
  },
  {
   "cell_type": "markdown",
   "metadata": {},
   "source": [
    "## Simulate some data\n",
    "\n",
    "The package contains functions to simulate data. We use this here to keep things simple."
   ]
  },
  {
   "cell_type": "code",
   "execution_count": null,
   "metadata": {},
   "outputs": [],
   "source": [
    "# For the example, we simulate data\n",
    "sim_data = tw.SimTwoWay().sim_network()[['wid', 'fid', 'comp', 'year']]\n",
    "display(sim_data)"
   ]
  },
  {
   "cell_type": "markdown",
   "metadata": {},
   "source": [
    "## BipartiteData\n",
    "\n",
    "BipartiteData is a superclass with 3 subclasses:\n",
    "- BipartiteLong\n",
    "- BipartiteLongCollapsed\n",
    "- BipartiteEventStudy\n",
    "\n",
    "The user interfaces with BipartiteData which converts between the 3 subclasses."
   ]
  },
  {
   "cell_type": "code",
   "execution_count": null,
   "metadata": {},
   "outputs": [],
   "source": [
    "# Our data is in long form (each row gives a single observation)\n",
    "columns_req = ['wid', 'comp', 'fid', 'year']\n",
    "columns_opt = []\n",
    "reference_dict = {'wid': 'wid', 'comp': 'comp', 'fid': 'fid', 'year': 'year'}\n",
    "bd = tw.BipartiteBase(sim_data, columns_req=columns_req, columns_opt=columns_opt, reference_dict=reference_dict) # Long is default formatting, most data is long\n",
    "display(bd)"
   ]
  },
  {
   "cell_type": "code",
   "execution_count": null,
   "metadata": {},
   "outputs": [],
   "source": [
    "print(type(bd))\n",
    "print(type(bd.copy()))\n",
    "print(bd.copy().connected)"
   ]
  },
  {
   "cell_type": "code",
   "execution_count": null,
   "metadata": {},
   "outputs": [],
   "source": [
    "print('j:', bd.col_included('j'))\n",
    "print('wid:', bd.col_included('wid'))\n",
    "print('fid:', bd.col_included('fid'))"
   ]
  },
  {
   "cell_type": "code",
   "execution_count": null,
   "metadata": {},
   "outputs": [],
   "source": [
    "bd2 = tw.BipartiteBase(bd)"
   ]
  },
  {
   "cell_type": "code",
   "execution_count": null,
   "metadata": {},
   "outputs": [],
   "source": [
    "print('j:', bd2.col_included('j'))\n",
    "print('wid:', bd2.col_included('wid'))\n",
    "print('fid:', bd2.col_included('fid'))"
   ]
  },
  {
   "cell_type": "code",
   "execution_count": null,
   "metadata": {},
   "outputs": [],
   "source": [
    "bd2['a'] = 1\n",
    "bd2"
   ]
  },
  {
   "cell_type": "code",
   "execution_count": null,
   "metadata": {},
   "outputs": [],
   "source": [
    "bd2.drop('a')"
   ]
  },
  {
   "cell_type": "code",
   "execution_count": null,
   "metadata": {},
   "outputs": [],
   "source": [
    "bd.clean_data() # Should always clean data after initializing\n",
    "# Let's see how our data looks\n",
    "display(bd)"
   ]
  },
  {
   "cell_type": "markdown",
   "metadata": {},
   "source": [
    "## Converting formats"
   ]
  },
  {
   "cell_type": "code",
   "execution_count": null,
   "metadata": {},
   "outputs": [],
   "source": [
    "# While our original data is long, we might want it to be in event study form (each row gives two consecutive observations)\n",
    "bd = bd.get_es()\n",
    "display(bd)"
   ]
  },
  {
   "cell_type": "code",
   "execution_count": null,
   "metadata": {},
   "outputs": [],
   "source": [
    "# We can also use event study data to retrive cross section data (cs=1 gives y1 as y1 for both stayers and movers; cs=0 gives y2 as y1 for only movers - this allows (almost) all income data to be accessed from the y1 column. Note that for movers, the last observation for each worker is not available without manipulation as it is shifted to the y2 column. Also note that the y1 row contains duplicates for all mover income, except for the first period.)\n",
    "display(bd.get_cs())"
   ]
  },
  {
   "cell_type": "code",
   "execution_count": null,
   "metadata": {},
   "outputs": [],
   "source": [
    "# Maybe we want to convert back into long form\n",
    "bd = bd.get_long()\n",
    "display(bd)"
   ]
  },
  {
   "cell_type": "code",
   "execution_count": null,
   "metadata": {},
   "outputs": [],
   "source": [
    "# Now suppose we want to collapse by employment spells (so any consecutive observations with the same worker in the same firm are collapsed into 1 observation)\n",
    "bd = bd.get_collapsed_long()\n",
    "display(bd)"
   ]
  },
  {
   "cell_type": "code",
   "execution_count": null,
   "metadata": {},
   "outputs": [],
   "source": [
    "# We can then check out the event study using collapsed data\n",
    "bd = bd.get_es()\n",
    "display(bd)"
   ]
  },
  {
   "cell_type": "code",
   "execution_count": null,
   "metadata": {},
   "outputs": [],
   "source": [
    "# We can then go back to collapsed long\n",
    "bd.get_collapsed_long()\n",
    "display(bd)"
   ]
  },
  {
   "cell_type": "markdown",
   "metadata": {},
   "source": [
    "## Clustering"
   ]
  },
  {
   "cell_type": "code",
   "execution_count": null,
   "metadata": {},
   "outputs": [],
   "source": [
    "# Starting over\n",
    "bd = tw.BipartitePandas(sim_data)\n",
    "bd.clean_data()\n",
    "display(bd)"
   ]
  },
  {
   "cell_type": "code",
   "execution_count": null,
   "metadata": {},
   "outputs": [],
   "source": [
    "# We can cluster from any format and clusters stay when reformatting\n",
    "bd.cluster()\n",
    "display(bd)"
   ]
  },
  {
   "cell_type": "code",
   "execution_count": null,
   "metadata": {},
   "outputs": [],
   "source": [
    "bd = bd.get_es()\n",
    "display(bd)"
   ]
  },
  {
   "cell_type": "code",
   "execution_count": null,
   "metadata": {},
   "outputs": [],
   "source": [
    "bd = bd.get_long()\n",
    "bd = bd.get_collapsed_long()\n",
    "display(bd)"
   ]
  },
  {
   "cell_type": "code",
   "execution_count": null,
   "metadata": {},
   "outputs": [],
   "source": [
    "bd = bd.get_es()\n",
    "display(bd)"
   ]
  },
  {
   "cell_type": "markdown",
   "metadata": {},
   "source": [
    "## Clustering options"
   ]
  },
  {
   "cell_type": "code",
   "execution_count": null,
   "metadata": {},
   "outputs": [],
   "source": [
    "# We can cluster on a specific year in long form\n",
    "bd = tw.BipartitePandas(sim_data)\n",
    "bd.clean_data()\n",
    "bd.cluster({'year': 1})\n",
    "display(bd)"
   ]
  },
  {
   "cell_type": "code",
   "execution_count": null,
   "metadata": {},
   "outputs": [],
   "source": [
    "# We can cluster on movers or stayers in any form\n",
    "# Note that not all firms are clustered, so some rows have NaNs\n",
    "bd = tw.BipartitePandas(sim_data)\n",
    "bd.clean_data()\n",
    "bd.cluster({'stayers_movers': 'stayers'})\n",
    "display(bd)"
   ]
  },
  {
   "cell_type": "code",
   "execution_count": null,
   "metadata": {},
   "outputs": [],
   "source": [
    "# We can cluster on movers or stayers in any form\n",
    "# Set 'dropna': True if you want to drop firms that don't get clustered (note that this fully resets firm and worker ids, since they must be contiguous for the FE/CRE/BLM estimators to work)\n",
    "bd = tw.BipartitePandas(sim_data)\n",
    "bd.clean_data()\n",
    "bd.cluster({'stayers_movers': 'stayers', 'dropna': True})\n",
    "display(bd)"
   ]
  },
  {
   "cell_type": "code",
   "execution_count": null,
   "metadata": {},
   "outputs": [],
   "source": [
    "# We can cluster on movers or stayers in any form\n",
    "bd = tw.BipartitePandas(sim_data)\n",
    "bd.clean_data()\n",
    "bd.cluster({'stayers_movers': 'movers'})\n",
    "display(bd)"
   ]
  },
  {
   "cell_type": "markdown",
   "metadata": {},
   "source": [
    "## Some extra features"
   ]
  },
  {
   "cell_type": "code",
   "execution_count": null,
   "metadata": {},
   "outputs": [],
   "source": [
    "# # We can get some summary statistics by printing the BipartiteData object\n",
    "# sim_data = tw.SimTwoWay().sim_network()[['wid', 'fid', 'comp', 'year']]\n",
    "# sim_data = sim_data.rename({'fid': 'f1i'}, axis=1)\n",
    "# bd = tw.BipartitePandas(sim_data, col_dict={'fid': 'f1i'})\n",
    "# bd.clean_data()\n",
    "# display(bd)"
   ]
  },
  {
   "cell_type": "code",
   "execution_count": null,
   "metadata": {},
   "outputs": [],
   "source": [
    "# BipartiteData does some nice column inference\n",
    "# Suppose some of our columns are mislabeled - create a col_dict to clarify which columns to correct\n",
    "sim_data = tw.SimTwoWay().sim_network()[['wid', 'fid', 'comp', 'year']]\n",
    "sim_data = sim_data.rename({'fid': 'f1i'}, axis=1)\n",
    "bd = tw.BipartitePandas(sim_data, col_dict={'fid': 'f1i'})\n",
    "bd.clean_data()\n",
    "display(bd)"
   ]
  },
  {
   "cell_type": "code",
   "execution_count": null,
   "metadata": {},
   "outputs": [],
   "source": [
    "# Suppose we have already clustered - the class determines this automatically\n",
    "sim_data = tw.SimTwoWay().sim_network()[['wid', 'fid', 'comp', 'year']]\n",
    "sim_data['j'] = 1\n",
    "bd = tw.BipartitePandas(sim_data)\n",
    "bd.clean_data()\n",
    "display(bd)"
   ]
  },
  {
   "cell_type": "code",
   "execution_count": null,
   "metadata": {},
   "outputs": [],
   "source": [
    "# Now suppose we mislabeled our clusters - the class drops this column\n",
    "sim_data = tw.SimTwoWay().sim_network()[['wid', 'fid', 'comp', 'year']]\n",
    "sim_data['j1'] = 1\n",
    "bd = tw.BipartitePandas(sim_data)\n",
    "bd.clean_data()\n",
    "display(bd)"
   ]
  },
  {
   "cell_type": "code",
   "execution_count": null,
   "metadata": {},
   "outputs": [],
   "source": [
    "# We can make sure our columns are included by specifying the corrected labels in col_dict (note that if the variable of interest requires 2 columns, e.g. weight 1 and weight 2 for event study data, BOTH columns are required - if only one column is included, it is automatically dropped.)\n",
    "sim_data = tw.SimTwoWay().sim_network()[['wid', 'fid', 'comp', 'year']]\n",
    "sim_data['j1'] = 1\n",
    "bd = tw.BipartitePandas(sim_data, col_dict={'j': 'j1'})\n",
    "bd.clean_data()\n",
    "display(bd)"
   ]
  },
  {
   "cell_type": "code",
   "execution_count": null,
   "metadata": {},
   "outputs": [],
   "source": [
    "# We may also specify a col_dict that overwrites a column label that would normally be inferred, and inference is skipped\n",
    "sim_data = tw.SimTwoWay().sim_network()[['wid', 'fid', 'comp', 'year']]\n",
    "sim_data = sim_data.rename({'fid': 'j'}, axis=1)\n",
    "bd = tw.BipartitePandas(sim_data, col_dict={'fid': 'j'})\n",
    "# Note that even though we have a column named j, because we specify it is the 'fid' column it is not inferred as the cluster values\n",
    "bd.clean_data()\n",
    "display(bd)"
   ]
  }
 ],
 "metadata": {
  "kernelspec": {
   "display_name": "Python 3",
   "language": "python",
   "name": "python3"
  },
  "language_info": {
   "codemirror_mode": {
    "name": "ipython",
    "version": 3
   },
   "file_extension": ".py",
   "mimetype": "text/x-python",
   "name": "python",
   "nbconvert_exporter": "python",
   "pygments_lexer": "ipython3",
   "version": "3.7.9"
  }
 },
 "nbformat": 4,
 "nbformat_minor": 4
}
