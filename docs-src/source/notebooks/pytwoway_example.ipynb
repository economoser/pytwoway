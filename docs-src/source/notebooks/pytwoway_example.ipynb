{
 "cells": [
  {
   "cell_type": "markdown",
   "metadata": {},
   "source": [
    "# pytwoway example"
   ]
  },
  {
   "cell_type": "code",
   "execution_count": 1,
   "metadata": {},
   "outputs": [],
   "source": [
    "# Add pytwoway to system path, do not run this\n",
    "# import sys\n",
    "# sys.path.append('../../..')"
   ]
  },
  {
   "cell_type": "code",
   "execution_count": 2,
   "metadata": {
    "ExecuteTime": {
     "end_time": "2021-01-15T23:38:19.123052Z",
     "start_time": "2021-01-15T23:38:18.565950Z"
    }
   },
   "outputs": [],
   "source": [
    "# Import the pytwoway package \n",
    "# (Make sure you have installed it using pip install pytwoway)\n",
    "import pytwoway as tw"
   ]
  },
  {
   "cell_type": "markdown",
   "metadata": {},
   "source": [
    "## Simulate some data\n",
    "\n",
    "The package contains functions to simulate data. We use this here to keep things simple. If you have your own data, you can import it. Load it as a pandas dataframe and use it as an input. \n",
    "\n",
    "As you can see, we will need the following required columns in our data: \n",
    "\n",
    " - `wid`: the worker identifier\n",
    " - `fid`: the firm identifier\n",
    " - `year`: the time\n",
    " - `comp`: the outcome variable, in our case compensation"
   ]
  },
  {
   "cell_type": "code",
   "execution_count": 3,
   "metadata": {
    "ExecuteTime": {
     "end_time": "2021-01-15T23:38:20.546690Z",
     "start_time": "2021-01-15T23:38:20.254142Z"
    },
    "scrolled": false
   },
   "outputs": [
    {
     "data": {
      "text/html": [
       "<div>\n",
       "<style scoped>\n",
       "    .dataframe tbody tr th:only-of-type {\n",
       "        vertical-align: middle;\n",
       "    }\n",
       "\n",
       "    .dataframe tbody tr th {\n",
       "        vertical-align: top;\n",
       "    }\n",
       "\n",
       "    .dataframe thead th {\n",
       "        text-align: right;\n",
       "    }\n",
       "</style>\n",
       "<table border=\"1\" class=\"dataframe\">\n",
       "  <thead>\n",
       "    <tr style=\"text-align: right;\">\n",
       "      <th></th>\n",
       "      <th>i</th>\n",
       "      <th>t</th>\n",
       "      <th>k</th>\n",
       "      <th>alpha</th>\n",
       "      <th>psi</th>\n",
       "      <th>spell</th>\n",
       "      <th>freq</th>\n",
       "      <th>j</th>\n",
       "      <th>move</th>\n",
       "      <th>y</th>\n",
       "    </tr>\n",
       "  </thead>\n",
       "  <tbody>\n",
       "    <tr>\n",
       "      <th>0</th>\n",
       "      <td>0</td>\n",
       "      <td>1</td>\n",
       "      <td>1</td>\n",
       "      <td>-0.430727</td>\n",
       "      <td>-0.908458</td>\n",
       "      <td>1</td>\n",
       "      <td>2</td>\n",
       "      <td>17</td>\n",
       "      <td>False</td>\n",
       "      <td>-0.004062</td>\n",
       "    </tr>\n",
       "    <tr>\n",
       "      <th>1</th>\n",
       "      <td>0</td>\n",
       "      <td>2</td>\n",
       "      <td>1</td>\n",
       "      <td>-0.430727</td>\n",
       "      <td>-0.908458</td>\n",
       "      <td>1</td>\n",
       "      <td>2</td>\n",
       "      <td>17</td>\n",
       "      <td>False</td>\n",
       "      <td>-0.293843</td>\n",
       "    </tr>\n",
       "    <tr>\n",
       "      <th>2</th>\n",
       "      <td>0</td>\n",
       "      <td>3</td>\n",
       "      <td>0</td>\n",
       "      <td>-0.430727</td>\n",
       "      <td>-1.335178</td>\n",
       "      <td>2</td>\n",
       "      <td>2</td>\n",
       "      <td>7</td>\n",
       "      <td>True</td>\n",
       "      <td>-2.475346</td>\n",
       "    </tr>\n",
       "    <tr>\n",
       "      <th>3</th>\n",
       "      <td>0</td>\n",
       "      <td>4</td>\n",
       "      <td>0</td>\n",
       "      <td>-0.430727</td>\n",
       "      <td>-1.335178</td>\n",
       "      <td>2</td>\n",
       "      <td>2</td>\n",
       "      <td>7</td>\n",
       "      <td>False</td>\n",
       "      <td>-3.363936</td>\n",
       "    </tr>\n",
       "    <tr>\n",
       "      <th>4</th>\n",
       "      <td>0</td>\n",
       "      <td>5</td>\n",
       "      <td>2</td>\n",
       "      <td>-0.430727</td>\n",
       "      <td>-0.604585</td>\n",
       "      <td>3</td>\n",
       "      <td>1</td>\n",
       "      <td>36</td>\n",
       "      <td>True</td>\n",
       "      <td>-2.608726</td>\n",
       "    </tr>\n",
       "    <tr>\n",
       "      <th>...</th>\n",
       "      <td>...</td>\n",
       "      <td>...</td>\n",
       "      <td>...</td>\n",
       "      <td>...</td>\n",
       "      <td>...</td>\n",
       "      <td>...</td>\n",
       "      <td>...</td>\n",
       "      <td>...</td>\n",
       "      <td>...</td>\n",
       "      <td>...</td>\n",
       "    </tr>\n",
       "    <tr>\n",
       "      <th>49995</th>\n",
       "      <td>9999</td>\n",
       "      <td>1</td>\n",
       "      <td>3</td>\n",
       "      <td>-0.430727</td>\n",
       "      <td>-0.348756</td>\n",
       "      <td>1</td>\n",
       "      <td>2</td>\n",
       "      <td>58</td>\n",
       "      <td>False</td>\n",
       "      <td>-0.353585</td>\n",
       "    </tr>\n",
       "    <tr>\n",
       "      <th>49996</th>\n",
       "      <td>9999</td>\n",
       "      <td>2</td>\n",
       "      <td>3</td>\n",
       "      <td>-0.430727</td>\n",
       "      <td>-0.348756</td>\n",
       "      <td>1</td>\n",
       "      <td>2</td>\n",
       "      <td>58</td>\n",
       "      <td>False</td>\n",
       "      <td>-1.366538</td>\n",
       "    </tr>\n",
       "    <tr>\n",
       "      <th>49997</th>\n",
       "      <td>9999</td>\n",
       "      <td>3</td>\n",
       "      <td>1</td>\n",
       "      <td>-0.430727</td>\n",
       "      <td>-0.908458</td>\n",
       "      <td>2</td>\n",
       "      <td>1</td>\n",
       "      <td>20</td>\n",
       "      <td>True</td>\n",
       "      <td>-2.436596</td>\n",
       "    </tr>\n",
       "    <tr>\n",
       "      <th>49998</th>\n",
       "      <td>9999</td>\n",
       "      <td>4</td>\n",
       "      <td>1</td>\n",
       "      <td>-0.430727</td>\n",
       "      <td>-0.908458</td>\n",
       "      <td>3</td>\n",
       "      <td>1</td>\n",
       "      <td>19</td>\n",
       "      <td>True</td>\n",
       "      <td>-1.700477</td>\n",
       "    </tr>\n",
       "    <tr>\n",
       "      <th>49999</th>\n",
       "      <td>9999</td>\n",
       "      <td>5</td>\n",
       "      <td>1</td>\n",
       "      <td>-0.430727</td>\n",
       "      <td>-0.908458</td>\n",
       "      <td>4</td>\n",
       "      <td>1</td>\n",
       "      <td>23</td>\n",
       "      <td>True</td>\n",
       "      <td>0.096165</td>\n",
       "    </tr>\n",
       "  </tbody>\n",
       "</table>\n",
       "<p>50000 rows × 10 columns</p>\n",
       "</div>"
      ],
      "text/plain": [
       "          i  t  k     alpha       psi  spell  freq   j   move         y\n",
       "0         0  1  1 -0.430727 -0.908458      1     2  17  False -0.004062\n",
       "1         0  2  1 -0.430727 -0.908458      1     2  17  False -0.293843\n",
       "2         0  3  0 -0.430727 -1.335178      2     2   7   True -2.475346\n",
       "3         0  4  0 -0.430727 -1.335178      2     2   7  False -3.363936\n",
       "4         0  5  2 -0.430727 -0.604585      3     1  36   True -2.608726\n",
       "...     ... .. ..       ...       ...    ...   ...  ..    ...       ...\n",
       "49995  9999  1  3 -0.430727 -0.348756      1     2  58  False -0.353585\n",
       "49996  9999  2  3 -0.430727 -0.348756      1     2  58  False -1.366538\n",
       "49997  9999  3  1 -0.430727 -0.908458      2     1  20   True -2.436596\n",
       "49998  9999  4  1 -0.430727 -0.908458      3     1  19   True -1.700477\n",
       "49999  9999  5  1 -0.430727 -0.908458      4     1  23   True  0.096165\n",
       "\n",
       "[50000 rows x 10 columns]"
      ]
     },
     "metadata": {},
     "output_type": "display_data"
    }
   ],
   "source": [
    "# For the example, we simulate data\n",
    "sim_data = tw.SimTwoWay().sim_network()\n",
    "display(sim_data)"
   ]
  },
  {
   "cell_type": "markdown",
   "metadata": {},
   "source": [
    "## Create a TwoWay object using your data"
   ]
  },
  {
   "cell_type": "code",
   "execution_count": 4,
   "metadata": {
    "ExecuteTime": {
     "end_time": "2021-01-15T23:38:23.409822Z",
     "start_time": "2021-01-15T23:38:23.405804Z"
    }
   },
   "outputs": [],
   "source": [
    "# We need to specify a column dictionary to make sure columns are named correctly\n",
    "# You can also manually update column names yourself\n",
    "col_name_dict = {\n",
    "    'i': 'i',    # Specify the column name for the worker identifier \n",
    "    'j': 'j',    # Specify the column name for the firm identifier \n",
    "    'y': 'y',  # Specify the column name for the compensation variable\n",
    "    't': 't'   # Specify the column name for the time variable\n",
    "}\n",
    "\n",
    "# Create the TwoWay object that will do all the heavy lifting\n",
    "tw_net = tw.TwoWay(data=sim_data, formatting='long', col_dict=col_name_dict)"
   ]
  },
  {
   "cell_type": "markdown",
   "metadata": {},
   "source": [
    "## Now we can run the FE estimator"
   ]
  },
  {
   "cell_type": "code",
   "execution_count": 5,
   "metadata": {
    "ExecuteTime": {
     "end_time": "2020-12-22T21:42:49.482723Z",
     "start_time": "2020-12-22T21:42:49.357210Z"
    }
   },
   "outputs": [
    {
     "name": "stderr",
     "output_type": "stream",
     "text": [
      "100%|██████████| 5/5 [00:00<00:00, 242.93it/s]\n"
     ]
    }
   ],
   "source": [
    "## Optional Parameters ##\n",
    "fe_params = {\n",
    "    'ncore': 1, # Number of cores to use\n",
    "    'batch': 1, # Batch size to send in parallel\n",
    "    'ndraw_pii': 50, # Number of draw to use in approximation for leverages\n",
    "    'ndraw_tr': 5, # Number of draws to use in approximation for traces\n",
    "    'check': False, # Whether to compute the non-approximated estimates as well\n",
    "    'hetero': False, # Whether to compute the heteroskedastic estimates\n",
    "    'out': 'res_fe.json', # Filepath for fe results\n",
    "    'con': False, # Computes the smallest eigen values, this is the filepath where these results are saved\n",
    "    'logfile': '', # Log output to a logfile\n",
    "    'levfile': '', # File to load precomputed leverages\n",
    "    'statsonly': False # Save data statistics only\n",
    "}\n",
    "\n",
    "# Estimate the fixed effect decomposition\n",
    "tw_net.fit_fe(user_fe=fe_params)"
   ]
  },
  {
   "cell_type": "markdown",
   "metadata": {},
   "source": [
    "## We can also run the CRE estimator"
   ]
  },
  {
   "cell_type": "code",
   "execution_count": 6,
   "metadata": {
    "ExecuteTime": {
     "end_time": "2020-12-22T21:42:51.485812Z",
     "start_time": "2020-12-22T21:42:51.144952Z"
    }
   },
   "outputs": [],
   "source": [
    "## Optional Parameters ##\n",
    "cre_params = {\n",
    "    'ncore': 1, # Number of cores to use\n",
    "    'ndraw_tr': 5, # Number of draws to use in approximation for traces\n",
    "    'ndp': 50, # Number of draw to use in approximation for leverages\n",
    "    'out': 'res_cre.json', # Filepath for cre results\n",
    "    'posterior': False, # Whether to compute the posterior variance\n",
    "    'wobtw': False # Sets between variation to 0, pure RE when computing cre\n",
    "}\n",
    "KMeans_params = { # These parameters are specifically for the KMeans algorithm\n",
    "                  # Read more at https://scikit-learn.org/stable/modules/generated/sklearn.cluster.KMeans.html\n",
    "    'n_clusters': 10,\n",
    "    'init': 'k-means++',\n",
    "    'n_init': 500,\n",
    "    'max_iter': 300,\n",
    "    'tol': 0.0001,\n",
    "    'precompute_distances': 'deprecated',\n",
    "    'verbose': 0,\n",
    "    'random_state': None,\n",
    "    'copy_x': True,\n",
    "    'n_jobs': 'deprecated',\n",
    "    'algorithm': 'auto'\n",
    "}\n",
    "cluster_params = {\n",
    "    'cdf_resolution': 10, # How many values to use to approximate the cdf when clustering\n",
    "    'grouping': 'quantile_all',\n",
    "        # How to group the cdfs when clustering\n",
    "        # ('quantile_all' to get quantiles from entire set of data,\n",
    "        #     then have firm-level values between 0 and 1;\n",
    "        # 'quantile_firm_small' to get quantiles at the firm-level\n",
    "        #     and have values be compensations if small data;\n",
    "        # 'quantile_firm_large' to get quantiles at the firm-level\n",
    "        #     and have values be compensations if large data,\n",
    "        #     note that this is up to 50 times slower than 'quantile_firm_small'\n",
    "        #     and should only be used if the dataset is too large to copy\n",
    "        #     into a dictionary)\n",
    "    'year': None, # If None, uses entire dataset when clustering;\n",
    "                  # If int, gives year of data to consider when clustering\n",
    "    'user_KMeans': KMeans_params\n",
    "}\n",
    "\n",
    "# Estimate the cre model\n",
    "tw_net.fit_cre(user_cre=cre_params, user_cluster=cluster_params)"
   ]
  },
  {
   "cell_type": "markdown",
   "metadata": {},
   "source": [
    "## Finally, we can investigate the results"
   ]
  },
  {
   "cell_type": "code",
   "execution_count": 7,
   "metadata": {
    "ExecuteTime": {
     "end_time": "2020-12-22T21:42:51.498849Z",
     "start_time": "2020-12-22T21:42:51.489723Z"
    },
    "scrolled": true
   },
   "outputs": [
    {
     "data": {
      "text/plain": [
       "{'var_fe': 0.5997301987660023,\n",
       " 'cov_fe': 0.17580097176675977,\n",
       " 'var_ho': 0.5938941220301615,\n",
       " 'cov_ho': 0.1783081225830144,\n",
       " 'var_y': 1.9801317055315406}"
      ]
     },
     "metadata": {},
     "output_type": "display_data"
    },
    {
     "data": {
      "text/plain": [
       "{'var_y': 1.9801317055315406,\n",
       " 'var_bw': 0.5833941085601263,\n",
       " 'cov_bw': 0.18293340911401856,\n",
       " 'var_tot': 0.5812933186878522,\n",
       " 'cov_tot': 0.18263757032833403}"
      ]
     },
     "metadata": {},
     "output_type": "display_data"
    }
   ],
   "source": [
    "display(tw_net.summary_fe())\n",
    "display(tw_net.summary_cre())"
   ]
  }
 ],
 "metadata": {
  "celltoolbar": "Tags",
  "hide_input": false,
  "kernelspec": {
   "display_name": "Python 3",
   "language": "python",
   "name": "python3"
  },
  "language_info": {
   "codemirror_mode": {
    "name": "ipython",
    "version": 3
   },
   "file_extension": ".py",
   "mimetype": "text/x-python",
   "name": "python",
   "nbconvert_exporter": "python",
   "pygments_lexer": "ipython3",
   "version": "3.9.2"
  },
  "latex_envs": {
   "LaTeX_envs_menu_present": true,
   "autoclose": false,
   "autocomplete": true,
   "bibliofile": "biblio.bib",
   "cite_by": "apalike",
   "current_citInitial": 1,
   "eqLabelWithNumbers": true,
   "eqNumInitial": 1,
   "hotkeys": {
    "equation": "Ctrl-E",
    "itemize": "Ctrl-I"
   },
   "labels_anchors": false,
   "latex_user_defs": false,
   "report_style_numbering": false,
   "user_envs_cfg": false
  },
  "nbsphinx-toctree": {
   "hidden": true,
   "maxdepth": 1,
   "titlesonly": true
  },
  "toc": {
   "base_numbering": 1,
   "nav_menu": {},
   "number_sections": true,
   "sideBar": true,
   "skip_h1_title": false,
   "title_cell": "Table of Contents",
   "title_sidebar": "Contents",
   "toc_cell": false,
   "toc_position": {},
   "toc_section_display": true,
   "toc_window_display": false
  },
  "varInspector": {
   "cols": {
    "lenName": 16,
    "lenType": 16,
    "lenVar": 40
   },
   "kernels_config": {
    "python": {
     "delete_cmd_postfix": "",
     "delete_cmd_prefix": "del ",
     "library": "var_list.py",
     "varRefreshCmd": "print(var_dic_list())"
    },
    "r": {
     "delete_cmd_postfix": ") ",
     "delete_cmd_prefix": "rm(",
     "library": "var_list.r",
     "varRefreshCmd": "cat(var_dic_list()) "
    }
   },
   "types_to_exclude": [
    "module",
    "function",
    "builtin_function_or_method",
    "instance",
    "_Feature"
   ],
   "window_display": false
  }
 },
 "nbformat": 4,
 "nbformat_minor": 4
}
