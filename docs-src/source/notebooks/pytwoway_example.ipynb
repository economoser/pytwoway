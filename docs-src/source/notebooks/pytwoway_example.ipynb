{
 "cells": [
  {
   "cell_type": "markdown",
   "metadata": {},
   "source": [
    "# pytwoway example"
   ]
  },
  {
   "cell_type": "code",
   "execution_count": 1,
   "metadata": {
    "ExecuteTime": {
     "end_time": "2020-12-22T21:42:48.755172Z",
     "start_time": "2020-12-22T21:42:47.334825Z"
    }
   },
   "outputs": [],
   "source": [
    "import os, sys\n",
    "# Navigate to parent folder for import\n",
    "os.chdir('../../..')\n",
    "from pytwoway import sim_twfe_network as sn\n",
    "from pytwoway import twfe_network as tn\n",
    "\n",
    "# Weird code needed for output to show\n",
    "os.chdir('docs-src/source/notebooks')\n",
    "stdout = sys.stdout\n",
    "sys.path.insert(1, os.path.join(sys.path[0], '..'))\n",
    "sys.stdout = stdout"
   ]
  },
  {
   "cell_type": "markdown",
   "metadata": {},
   "source": [
    "## First, get your data"
   ]
  },
  {
   "cell_type": "code",
   "execution_count": 2,
   "metadata": {
    "ExecuteTime": {
     "end_time": "2020-12-22T21:42:49.104469Z",
     "start_time": "2020-12-22T21:42:48.757459Z"
    }
   },
   "outputs": [
    {
     "data": {
      "text/html": [
       "<div>\n",
       "<style scoped>\n",
       "    .dataframe tbody tr th:only-of-type {\n",
       "        vertical-align: middle;\n",
       "    }\n",
       "\n",
       "    .dataframe tbody tr th {\n",
       "        vertical-align: top;\n",
       "    }\n",
       "\n",
       "    .dataframe thead th {\n",
       "        text-align: right;\n",
       "    }\n",
       "</style>\n",
       "<table border=\"1\" class=\"dataframe\">\n",
       "  <thead>\n",
       "    <tr style=\"text-align: right;\">\n",
       "      <th></th>\n",
       "      <th>wid</th>\n",
       "      <th>year</th>\n",
       "      <th>k</th>\n",
       "      <th>alpha</th>\n",
       "      <th>psi</th>\n",
       "      <th>spell</th>\n",
       "      <th>freq</th>\n",
       "      <th>fid</th>\n",
       "      <th>move</th>\n",
       "      <th>comp</th>\n",
       "    </tr>\n",
       "  </thead>\n",
       "  <tbody>\n",
       "    <tr>\n",
       "      <th>0</th>\n",
       "      <td>1</td>\n",
       "      <td>1</td>\n",
       "      <td>1</td>\n",
       "      <td>-0.430727</td>\n",
       "      <td>-0.908458</td>\n",
       "      <td>1</td>\n",
       "      <td>3</td>\n",
       "      <td>25</td>\n",
       "      <td>False</td>\n",
       "      <td>-1.479954</td>\n",
       "    </tr>\n",
       "    <tr>\n",
       "      <th>1</th>\n",
       "      <td>1</td>\n",
       "      <td>2</td>\n",
       "      <td>1</td>\n",
       "      <td>-0.430727</td>\n",
       "      <td>-0.908458</td>\n",
       "      <td>1</td>\n",
       "      <td>3</td>\n",
       "      <td>25</td>\n",
       "      <td>False</td>\n",
       "      <td>0.951041</td>\n",
       "    </tr>\n",
       "    <tr>\n",
       "      <th>2</th>\n",
       "      <td>1</td>\n",
       "      <td>3</td>\n",
       "      <td>1</td>\n",
       "      <td>-0.430727</td>\n",
       "      <td>-0.908458</td>\n",
       "      <td>1</td>\n",
       "      <td>3</td>\n",
       "      <td>25</td>\n",
       "      <td>False</td>\n",
       "      <td>-2.357751</td>\n",
       "    </tr>\n",
       "    <tr>\n",
       "      <th>3</th>\n",
       "      <td>1</td>\n",
       "      <td>4</td>\n",
       "      <td>7</td>\n",
       "      <td>-0.430727</td>\n",
       "      <td>0.604585</td>\n",
       "      <td>2</td>\n",
       "      <td>1</td>\n",
       "      <td>125</td>\n",
       "      <td>True</td>\n",
       "      <td>0.194299</td>\n",
       "    </tr>\n",
       "    <tr>\n",
       "      <th>4</th>\n",
       "      <td>1</td>\n",
       "      <td>5</td>\n",
       "      <td>8</td>\n",
       "      <td>-0.430727</td>\n",
       "      <td>0.908458</td>\n",
       "      <td>3</td>\n",
       "      <td>1</td>\n",
       "      <td>161</td>\n",
       "      <td>True</td>\n",
       "      <td>-0.953050</td>\n",
       "    </tr>\n",
       "    <tr>\n",
       "      <th>...</th>\n",
       "      <td>...</td>\n",
       "      <td>...</td>\n",
       "      <td>...</td>\n",
       "      <td>...</td>\n",
       "      <td>...</td>\n",
       "      <td>...</td>\n",
       "      <td>...</td>\n",
       "      <td>...</td>\n",
       "      <td>...</td>\n",
       "      <td>...</td>\n",
       "    </tr>\n",
       "    <tr>\n",
       "      <th>49995</th>\n",
       "      <td>10000</td>\n",
       "      <td>1</td>\n",
       "      <td>3</td>\n",
       "      <td>0.000000</td>\n",
       "      <td>-0.348756</td>\n",
       "      <td>1</td>\n",
       "      <td>2</td>\n",
       "      <td>50</td>\n",
       "      <td>False</td>\n",
       "      <td>-0.189291</td>\n",
       "    </tr>\n",
       "    <tr>\n",
       "      <th>49996</th>\n",
       "      <td>10000</td>\n",
       "      <td>2</td>\n",
       "      <td>3</td>\n",
       "      <td>0.000000</td>\n",
       "      <td>-0.348756</td>\n",
       "      <td>1</td>\n",
       "      <td>2</td>\n",
       "      <td>50</td>\n",
       "      <td>False</td>\n",
       "      <td>0.549714</td>\n",
       "    </tr>\n",
       "    <tr>\n",
       "      <th>49997</th>\n",
       "      <td>10000</td>\n",
       "      <td>3</td>\n",
       "      <td>8</td>\n",
       "      <td>0.000000</td>\n",
       "      <td>0.908458</td>\n",
       "      <td>2</td>\n",
       "      <td>1</td>\n",
       "      <td>164</td>\n",
       "      <td>True</td>\n",
       "      <td>1.144762</td>\n",
       "    </tr>\n",
       "    <tr>\n",
       "      <th>49998</th>\n",
       "      <td>10000</td>\n",
       "      <td>4</td>\n",
       "      <td>9</td>\n",
       "      <td>0.000000</td>\n",
       "      <td>1.335178</td>\n",
       "      <td>3</td>\n",
       "      <td>2</td>\n",
       "      <td>172</td>\n",
       "      <td>True</td>\n",
       "      <td>3.561628</td>\n",
       "    </tr>\n",
       "    <tr>\n",
       "      <th>49999</th>\n",
       "      <td>10000</td>\n",
       "      <td>5</td>\n",
       "      <td>9</td>\n",
       "      <td>0.000000</td>\n",
       "      <td>1.335178</td>\n",
       "      <td>3</td>\n",
       "      <td>2</td>\n",
       "      <td>172</td>\n",
       "      <td>False</td>\n",
       "      <td>2.020693</td>\n",
       "    </tr>\n",
       "  </tbody>\n",
       "</table>\n",
       "<p>50000 rows × 10 columns</p>\n",
       "</div>"
      ],
      "text/plain": [
       "         wid  year  k     alpha       psi  spell  freq  fid   move      comp\n",
       "0          1     1  1 -0.430727 -0.908458      1     3   25  False -1.479954\n",
       "1          1     2  1 -0.430727 -0.908458      1     3   25  False  0.951041\n",
       "2          1     3  1 -0.430727 -0.908458      1     3   25  False -2.357751\n",
       "3          1     4  7 -0.430727  0.604585      2     1  125   True  0.194299\n",
       "4          1     5  8 -0.430727  0.908458      3     1  161   True -0.953050\n",
       "...      ...   ... ..       ...       ...    ...   ...  ...    ...       ...\n",
       "49995  10000     1  3  0.000000 -0.348756      1     2   50  False -0.189291\n",
       "49996  10000     2  3  0.000000 -0.348756      1     2   50  False  0.549714\n",
       "49997  10000     3  8  0.000000  0.908458      2     1  164   True  1.144762\n",
       "49998  10000     4  9  0.000000  1.335178      3     2  172   True  3.561628\n",
       "49999  10000     5  9  0.000000  1.335178      3     2  172  False  2.020693\n",
       "\n",
       "[50000 rows x 10 columns]"
      ]
     },
     "metadata": {},
     "output_type": "display_data"
    }
   ],
   "source": [
    "# For the example, we simulate data\n",
    "stw_net = sn.SimTwoWay()\n",
    "sim_data = stw_net.sim_network()\n",
    "display(sim_data)"
   ]
  },
  {
   "cell_type": "markdown",
   "metadata": {},
   "source": [
    "## Second, create a twfe_network object using your data"
   ]
  },
  {
   "cell_type": "code",
   "execution_count": 3,
   "metadata": {
    "ExecuteTime": {
     "end_time": "2020-12-22T21:42:49.112350Z",
     "start_time": "2020-12-22T21:42:49.108320Z"
    }
   },
   "outputs": [],
   "source": [
    "# We need to specify a column dictionary to make sure columns are named correctly. You can also manually update column names yourself\n",
    "col_dict = {'fid': 'fid', 'wid': 'wid', 'year': 'year', 'comp': 'comp'}\n",
    "tw_net = tn.TwoWay(data=sim_data, col_dict=col_dict) # tw_net for two-way network"
   ]
  },
  {
   "cell_type": "markdown",
   "metadata": {},
   "source": [
    "## Third, prepare your data for running the FE estimator"
   ]
  },
  {
   "cell_type": "code",
   "execution_count": 4,
   "metadata": {
    "ExecuteTime": {
     "end_time": "2020-12-22T21:42:49.296291Z",
     "start_time": "2020-12-22T21:42:49.116284Z"
    }
   },
   "outputs": [],
   "source": [
    "tw_net.prep_fe()"
   ]
  },
  {
   "cell_type": "markdown",
   "metadata": {},
   "source": [
    "## Now we can run the FE estimator"
   ]
  },
  {
   "cell_type": "code",
   "execution_count": 5,
   "metadata": {
    "ExecuteTime": {
     "end_time": "2020-12-22T21:42:49.482723Z",
     "start_time": "2020-12-22T21:42:49.357210Z"
    }
   },
   "outputs": [
    {
     "name": "stderr",
     "output_type": "stream",
     "text": [
      "100%|██████████| 5/5 [00:00<00:00, 225.46it/s]\n"
     ]
    }
   ],
   "source": [
    "# Optional parameters\n",
    "fe_params = {'ncore': 1, 'batch': 1, 'ndraw_pii': 50, 'ndraw_tr': 5, 'check': False, 'hetero': False, 'out': 'res_akm.json', 'con': False, 'logfile': '', 'levfile': '', 'statsonly': False}\n",
    "fe_res = tw_net.fit_fe(user_fe=fe_params)"
   ]
  },
  {
   "cell_type": "markdown",
   "metadata": {},
   "source": [
    "## Fourth, prepare your data for running the CRE estimator"
   ]
  },
  {
   "cell_type": "code",
   "execution_count": 6,
   "metadata": {
    "ExecuteTime": {
     "end_time": "2020-12-22T21:42:51.138871Z",
     "start_time": "2020-12-22T21:42:49.485380Z"
    }
   },
   "outputs": [],
   "source": [
    "# Optional parameters\n",
    "KMeans_params = {'n_clusters': 10, 'init': 'k-means++', 'n_init': 500, 'max_iter': 300, 'tol': 0.0001, 'precompute_distances': 'deprecated', 'verbose': 0, 'random_state': None, 'copy_x': True, 'n_jobs': 'deprecated', 'algorithm': 'auto'} # These parameters are specifically for the KMeans algorithm\n",
    "cluster_params = {'cdf_resolution': 10, 'grouping': 'quantile_all', 'year': None, 'user_KMeans': KMeans_params}\n",
    "tw_net.prep_cre(user_cluster=cluster_params)"
   ]
  },
  {
   "cell_type": "markdown",
   "metadata": {},
   "source": [
    "## Now we can run CRE"
   ]
  },
  {
   "cell_type": "code",
   "execution_count": 7,
   "metadata": {
    "ExecuteTime": {
     "end_time": "2020-12-22T21:42:51.485812Z",
     "start_time": "2020-12-22T21:42:51.144952Z"
    }
   },
   "outputs": [],
   "source": [
    "# Optional parameters\n",
    "cre_params = {'ncore': 1, 'ndraw_tr': 5, 'ndp': 50, 'out': 'res_cre.json', 'posterior': False, 'wobtw': False}\n",
    "cre_res = tw_net.fit_cre(cre_params)"
   ]
  },
  {
   "cell_type": "markdown",
   "metadata": {},
   "source": [
    "## Finally, we can investigate the results"
   ]
  },
  {
   "cell_type": "code",
   "execution_count": 8,
   "metadata": {
    "ExecuteTime": {
     "end_time": "2020-12-22T21:42:51.498849Z",
     "start_time": "2020-12-22T21:42:51.489723Z"
    },
    "scrolled": true
   },
   "outputs": [
    {
     "data": {
      "text/plain": [
       "{'cores': '1',\n",
       " 'ndp': '50',\n",
       " 'ndt': '5',\n",
       " 'nm': '19708.0',\n",
       " 'ns': '656',\n",
       " 'n_firms': '195',\n",
       " 'n_workers': '20364',\n",
       " 'n_movers': '19708',\n",
       " 'mover_quantiles': '[156.0, 181.0959349593496, 190.0, 195.54271099744247, 199.0, 204.0, 208.0, 212.0, 216.54529147982063, 222.0, 255.0]',\n",
       " 'size_quantiles': '[161.0, 186.0, 193.21136950904392, 199.0, 203.0, 207.0, 211.0, 215.0, 220.0, 226.0, 260.0]',\n",
       " 'between_firm_var': '0.9936522556229042',\n",
       " 'var_y': '1.9754075909228999',\n",
       " 'solver_time': '0.0038189210000001417',\n",
       " 'tot_var': '1.9895594894078672',\n",
       " 'eps_var_ho': '0.7953198449088421',\n",
       " 'eps_var_fe': '0.38729964697422503',\n",
       " 'tr_var_ho': '0.013096853333678618',\n",
       " 'tr_cov_ho': '-0.009379575284361683',\n",
       " 'var_fe': '0.573766937696882',\n",
       " 'cov_fe': '0.18265071054488755',\n",
       " 'var_ho': '0.5633507503347469',\n",
       " 'cov_ho': '0.19011047290535688',\n",
       " 'total_time': '0.11359286308288574'}"
      ]
     },
     "metadata": {},
     "output_type": "display_data"
    },
    {
     "data": {
      "text/plain": [
       "{'cores': '1',\n",
       " 'ndt': '5',\n",
       " 'nm': '19708',\n",
       " 'ns': '656',\n",
       " 'n_firms': '195',\n",
       " 'n_workers': '10000',\n",
       " 'var_y': '1.9754075909228999',\n",
       " 'y1s_y1s': '0.00017431225442767279',\n",
       " 'y1s_y1s_count': '634',\n",
       " 'y1s_var': '0.4151073914846177',\n",
       " 'y1s_var_count': '656',\n",
       " 'y1m_var': '0.9804024386634478',\n",
       " 'y1m_var_count': '19708',\n",
       " 'y2m_var': '1.0004094684624403',\n",
       " 'y2m_var_count': '19708',\n",
       " 'y1s_y1m1': '-8.810466738210305e-05',\n",
       " 'y1s_y1m1_count': '656',\n",
       " 'y1s_y2m1': '-0.0002734756900505721',\n",
       " 'y1s_y2m1_count': '656',\n",
       " 'y1m1_y1m1': '-0.0006510477161379098',\n",
       " 'y1m1_y1m1_count': '19708',\n",
       " 'y2m1_y1m1': '-0.0009891185139679793',\n",
       " 'y2m1_y1m1_count': '19708',\n",
       " 'y2m1_y2m1': '-0.00040449361452576834',\n",
       " 'y2m1_y2m1_count': '19708',\n",
       " 'y1s_y1m2': '-0.003115670932975404',\n",
       " 'y1s_y1m2_count': '656',\n",
       " 'y1s_y2m2': '0.0003517454747177036',\n",
       " 'y1s_y2m2_count': '656',\n",
       " 'y1m2_y1m2': '-0.00028139968815074363',\n",
       " 'y1m2_y1m2_count': '19708',\n",
       " 'y2m2_y1m2': '-0.0003259859611778144',\n",
       " 'y2m2_y1m2_count': '19708',\n",
       " 'y2m2_y2m2': '-0.0011989876608321317',\n",
       " 'y2m2_y2m2_count': '19708',\n",
       " 'dym_dym': '1.5987079878965522',\n",
       " 'dym_dym_count': '16417',\n",
       " 'y1m_y2m': '0.1942904625321838',\n",
       " 'y1m_y2m_count': '16417',\n",
       " 'cov_Am1Am1': '-0.00040449361452576834',\n",
       " 'cov_Am1Psi1': '-0.000584624899442211',\n",
       " 'var_psi_m1': '0.0009226956972722806',\n",
       " 'cov_Am2Am2': '-0.00028139968815074363',\n",
       " 'cov_Am2Psi2': '-4.458627302707078e-05',\n",
       " 'var_psi_m2': '-0.0008284154266272465',\n",
       " 'cov_AsAm1': '0.0003111492093916389',\n",
       " 'cov_AsAm2': '-0.0030710846599483334',\n",
       " 'psi_plus_cov1': '0.00018537102266846903',\n",
       " 'psi_plus_cov2': '0.0034674164076931076',\n",
       " 'var_psi': '4.714013532251701e-05',\n",
       " 'cov_AsPsi1': '0.0036056472950390596',\n",
       " 'cov_AsAs': '-0.007084122470972964',\n",
       " 'var_eps': '1.5986137076259073',\n",
       " 'var_bw': '0.5633573792648731',\n",
       " 'cov_bw': '0.1868776197019999',\n",
       " 'var_wt': '4.714013532251701e-05',\n",
       " 'cov_wt': '-0.0004496406841809798',\n",
       " 'tot_var': '0.5634045194001955'}"
      ]
     },
     "metadata": {},
     "output_type": "display_data"
    }
   ],
   "source": [
    "display(fe_res)\n",
    "display(cre_res)"
   ]
  }
 ],
 "metadata": {
  "celltoolbar": "Tags",
  "hide_input": false,
  "kernelspec": {
   "display_name": "Python 3",
   "language": "python",
   "name": "python3"
  },
  "language_info": {
   "codemirror_mode": {
    "name": "ipython",
    "version": 3
   },
   "file_extension": ".py",
   "mimetype": "text/x-python",
   "name": "python",
   "nbconvert_exporter": "python",
   "pygments_lexer": "ipython3",
   "version": "3.7.9"
  },
  "latex_envs": {
   "LaTeX_envs_menu_present": true,
   "autoclose": false,
   "autocomplete": true,
   "bibliofile": "biblio.bib",
   "cite_by": "apalike",
   "current_citInitial": 1,
   "eqLabelWithNumbers": true,
   "eqNumInitial": 1,
   "hotkeys": {
    "equation": "Ctrl-E",
    "itemize": "Ctrl-I"
   },
   "labels_anchors": false,
   "latex_user_defs": false,
   "report_style_numbering": false,
   "user_envs_cfg": false
  },
  "nbsphinx-toctree": {
   "hidden": true,
   "maxdepth": 1,
   "titlesonly": true
  },
  "toc": {
   "base_numbering": 1,
   "nav_menu": {},
   "number_sections": true,
   "sideBar": true,
   "skip_h1_title": false,
   "title_cell": "Table of Contents",
   "title_sidebar": "Contents",
   "toc_cell": false,
   "toc_position": {},
   "toc_section_display": true,
   "toc_window_display": false
  },
  "varInspector": {
   "cols": {
    "lenName": 16,
    "lenType": 16,
    "lenVar": 40
   },
   "kernels_config": {
    "python": {
     "delete_cmd_postfix": "",
     "delete_cmd_prefix": "del ",
     "library": "var_list.py",
     "varRefreshCmd": "print(var_dic_list())"
    },
    "r": {
     "delete_cmd_postfix": ") ",
     "delete_cmd_prefix": "rm(",
     "library": "var_list.r",
     "varRefreshCmd": "cat(var_dic_list()) "
    }
   },
   "types_to_exclude": [
    "module",
    "function",
    "builtin_function_or_method",
    "instance",
    "_Feature"
   ],
   "window_display": false
  }
 },
 "nbformat": 4,
 "nbformat_minor": 4
}
