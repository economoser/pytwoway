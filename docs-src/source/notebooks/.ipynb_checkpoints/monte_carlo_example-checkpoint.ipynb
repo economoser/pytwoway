{
 "cells": [
  {
   "cell_type": "markdown",
   "metadata": {},
   "source": [
    "# Monte Carlo example"
   ]
  },
  {
   "cell_type": "code",
   "execution_count": 1,
   "metadata": {},
   "outputs": [],
   "source": [
    "# Add pytwoway to system path, do not run this\n",
    "# import sys\n",
    "# sys.path.append('../../..')"
   ]
  },
  {
   "cell_type": "code",
   "execution_count": 2,
   "metadata": {
    "ExecuteTime": {
     "end_time": "2020-12-22T21:42:40.756437Z",
     "start_time": "2020-12-22T21:42:39.576929Z"
    }
   },
   "outputs": [],
   "source": [
    "# Import the pytwoway package \n",
    "# (Make sure you have installed it using pip install pytwoway)\n",
    "import pytwoway as tw"
   ]
  },
  {
   "cell_type": "markdown",
   "metadata": {},
   "source": [
    "## First, optionally set parameter values for the simulated data"
   ]
  },
  {
   "cell_type": "code",
   "execution_count": 3,
   "metadata": {
    "ExecuteTime": {
     "end_time": "2020-12-22T21:42:40.761257Z",
     "start_time": "2020-12-22T21:42:40.758033Z"
    }
   },
   "outputs": [],
   "source": [
    "## Optional Parameters ##\n",
    "sim_params = {\n",
    "    'num_ind': 10000, # Number of workers\n",
    "    'num_time': 5, # Time length of panel\n",
    "    'firm_size': 50, # Max number of individuals per firm\n",
    "    'nk': 10, # Number of firm types\n",
    "    'nl': 5, # Number of worker types\n",
    "    'alpha_sig': 1, # Standard error of individual fixed effect (volatility of worker effects)\n",
    "    'psi_sig': 1, # Standard error of firm fixed effect (volatility of firm effects)\n",
    "    'w_sig': 5, # Standard error of residual in AKM wage equation (volatility of wage shocks)\n",
    "    'csort': 1, # Sorting effect\n",
    "    'cnetw': 1, # Network effect\n",
    "    'csig': 1, # Standard error of sorting/network effects\n",
    "    'p_move': 0.5 # Probability a worker moves firms in any period\n",
    "}"
   ]
  },
  {
   "cell_type": "markdown",
   "metadata": {},
   "source": [
    "## Second, create a simulated Monte Carlo object using the parameter choices"
   ]
  },
  {
   "cell_type": "code",
   "execution_count": 4,
   "metadata": {
    "ExecuteTime": {
     "end_time": "2020-12-22T21:42:40.768940Z",
     "start_time": "2020-12-22T21:42:40.765231Z"
    }
   },
   "outputs": [],
   "source": [
    "# Create the TwoWayMonteCarlo object\n",
    "twmc_net = tw.TwoWayMonteCarlo(sim_params)"
   ]
  },
  {
   "cell_type": "markdown",
   "metadata": {},
   "source": [
    "## Third, optionally set parameter values for the Monte Carlo simulation"
   ]
  },
  {
   "cell_type": "code",
   "execution_count": 5,
   "metadata": {
    "ExecuteTime": {
     "end_time": "2020-12-22T21:42:40.777568Z",
     "start_time": "2020-12-22T21:42:40.772602Z"
    }
   },
   "outputs": [],
   "source": [
    "## Optional Parameters ##\n",
    "# For FE estimation\n",
    "fe_params = {\n",
    "    'ncore': 1, # Number of cores to use\n",
    "    'batch': 1, # Batch size to send in parallel\n",
    "    'ndraw_pii': 50, # Number of draw to use in approximation for leverages\n",
    "    'ndraw_tr': 5, # Number of draws to use in approximation for traces\n",
    "    'check': False, # Whether to compute the non-approximated estimates as well\n",
    "    'hetero': False, # Whether to compute the heteroskedastic estimates\n",
    "    'out': 'res_fe.json', # Filepath for fe results\n",
    "    'con': False, # Computes the smallest eigen values, this is the filepath where these results are saved\n",
    "    'logfile': '', # Log output to a logfile\n",
    "    'levfile': '', # File to load precomputed leverages\n",
    "    'statsonly': False # Save data statistics only\n",
    "}\n",
    "# For CRE estimation\n",
    "cre_params = {\n",
    "    'ncore': 1, # Number of cores to use\n",
    "    'ndraw_tr': 5, # Number of draws to use in approximation for traces\n",
    "    'ndp': 50, # Number of draw to use in approximation for leverages\n",
    "    'out': 'res_cre.json', # Filepath for cre results\n",
    "    'posterior': False, # Whether to compute the posterior variance\n",
    "    'wobtw': False # Sets between variation to 0, pure RE when computing cre\n",
    "}\n",
    "# For clustering (specifically for the KMeans algorithm)\n",
    "KMeans_params = { # These parameters are specifically for the KMeans algorithm\n",
    "                  # Read more at https://scikit-learn.org/stable/modules/generated/sklearn.cluster.KMeans.html\n",
    "    'n_clusters': 10,\n",
    "    'init': 'k-means++',\n",
    "    'n_init': 500,\n",
    "    'max_iter': 300,\n",
    "    'tol': 0.0001,\n",
    "    'precompute_distances': 'deprecated',\n",
    "    'verbose': 0,\n",
    "    'random_state': None,\n",
    "    'copy_x': True,\n",
    "    'n_jobs': 'deprecated',\n",
    "    'algorithm': 'auto'\n",
    "}\n",
    "# For clustering\n",
    "cluster_params = {\n",
    "    'cdf_resolution': 10, # How many values to use to approximate the cdf when clustering\n",
    "    'grouping': 'quantile_all',\n",
    "        # How to group the cdfs when clustering\n",
    "        # ('quantile_all' to get quantiles from entire set of data,\n",
    "        #     then have firm-level values between 0 and 1;\n",
    "        # 'quantile_firm_small' to get quantiles at the firm-level\n",
    "        #     and have values be compensations if small data;\n",
    "        # 'quantile_firm_large' to get quantiles at the firm-level\n",
    "        #     and have values be compensations if large data,\n",
    "        #     note that this is up to 50 times slower than 'quantile_firm_small'\n",
    "        #     and should only be used if the dataset is too large to copy\n",
    "        #     into a dictionary)\n",
    "    'year': None, # If None, uses entire dataset when clustering;\n",
    "                  # If int, gives year of data to consider when clustering\n",
    "    'user_KMeans': KMeans_params\n",
    "}"
   ]
  },
  {
   "cell_type": "markdown",
   "metadata": {},
   "source": [
    "## Fourth, run the Monte Carlo simulation using the parameter choices"
   ]
  },
  {
   "cell_type": "code",
   "execution_count": null,
   "metadata": {
    "ExecuteTime": {
     "end_time": "2020-12-22T21:43:16.646468Z",
     "start_time": "2020-12-22T21:42:40.780053Z"
    },
    "scrolled": true
   },
   "outputs": [],
   "source": [
    "twmc_net.twfe_monte_carlo(N=500, ncore=4, fe_params=fe_params, cre_params=cre_params, cluster_params=cluster_params)"
   ]
  },
  {
   "cell_type": "markdown",
   "metadata": {},
   "source": [
    "## Fifth and finally, plot parameter estimates (plots show the difference from the truth)"
   ]
  },
  {
   "cell_type": "code",
   "execution_count": 7,
   "metadata": {
    "ExecuteTime": {
     "end_time": "2020-12-22T21:43:17.415199Z",
     "start_time": "2020-12-22T21:43:16.649221Z"
    }
   },
   "outputs": [
    {
     "data": {
      "image/png": "[encoded data removed]",
      "text/plain": [
       "<Figure size 432x288 with 1 Axes>"
      ]
     },
     "metadata": {
      "needs_background": "light"
     },
     "output_type": "display_data"
    },
    {
     "data": {
      "image/png": "[encoded data removed]",
      "text/plain": [
       "<Figure size 432x288 with 1 Axes>"
      ]
     },
     "metadata": {
      "needs_background": "light"
     },
     "output_type": "display_data"
    }
   ],
   "source": [
    "twmc_net.plot_monte_carlo()"
   ]
  }
 ],
 "metadata": {
  "celltoolbar": "Tags",
  "hide_input": false,
  "kernelspec": {
   "display_name": "Python 3",
   "language": "python",
   "name": "python3"
  },
  "language_info": {
   "codemirror_mode": {
    "name": "ipython",
    "version": 3
   },
   "file_extension": ".py",
   "mimetype": "text/x-python",
   "name": "python",
   "nbconvert_exporter": "python",
   "pygments_lexer": "ipython3",
   "version": "3.7.9"
  },
  "latex_envs": {
   "LaTeX_envs_menu_present": true,
   "autoclose": false,
   "autocomplete": true,
   "bibliofile": "biblio.bib",
   "cite_by": "apalike",
   "current_citInitial": 1,
   "eqLabelWithNumbers": true,
   "eqNumInitial": 1,
   "hotkeys": {
    "equation": "Ctrl-E",
    "itemize": "Ctrl-I"
   },
   "labels_anchors": false,
   "latex_user_defs": false,
   "report_style_numbering": false,
   "user_envs_cfg": false
  },
  "nbsphinx-toctree": {
   "hidden": true,
   "maxdepth": 1,
   "titlesonly": true
  },
  "toc": {
   "base_numbering": 1,
   "nav_menu": {},
   "number_sections": true,
   "sideBar": true,
   "skip_h1_title": false,
   "title_cell": "Table of Contents",
   "title_sidebar": "Contents",
   "toc_cell": false,
   "toc_position": {},
   "toc_section_display": true,
   "toc_window_display": false
  },
  "varInspector": {
   "cols": {
    "lenName": 16,
    "lenType": 16,
    "lenVar": 40
   },
   "kernels_config": {
    "python": {
     "delete_cmd_postfix": "",
     "delete_cmd_prefix": "del ",
     "library": "var_list.py",
     "varRefreshCmd": "print(var_dic_list())"
    },
    "r": {
     "delete_cmd_postfix": ") ",
     "delete_cmd_prefix": "rm(",
     "library": "var_list.r",
     "varRefreshCmd": "cat(var_dic_list()) "
    }
   },
   "types_to_exclude": [
    "module",
    "function",
    "builtin_function_or_method",
    "instance",
    "_Feature"
   ],
   "window_display": false
  }
 },
 "nbformat": 4,
 "nbformat_minor": 4
}
