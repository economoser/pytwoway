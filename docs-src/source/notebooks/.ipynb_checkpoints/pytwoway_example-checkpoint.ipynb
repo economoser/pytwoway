{
 "cells": [
  {
   "cell_type": "markdown",
   "metadata": {},
   "source": [
    "# pytwoway example"
   ]
  },
  {
   "cell_type": "code",
   "execution_count": 1,
   "metadata": {
    "ExecuteTime": {
     "end_time": "2020-12-22T21:42:48.755172Z",
     "start_time": "2020-12-22T21:42:47.334825Z"
    }
   },
   "outputs": [],
   "source": [
    "import os, sys\n",
    "# Navigate to parent folder for import\n",
    "os.chdir('../../..')\n",
    "from pytwoway import SimTwoWay as stw\n",
    "from pytwoway import TwoWay as tw\n",
    "\n",
    "# Weird code needed for output to show\n",
    "os.chdir('docs-src/source/notebooks')\n",
    "stdout = sys.stdout\n",
    "sys.path.insert(1, os.path.join(sys.path[0], '..'))\n",
    "sys.stdout = stdout"
   ]
  },
  {
   "cell_type": "markdown",
   "metadata": {},
   "source": [
    "## First, get your data"
   ]
  },
  {
   "cell_type": "code",
   "execution_count": 2,
   "metadata": {
    "ExecuteTime": {
     "end_time": "2020-12-22T21:42:49.104469Z",
     "start_time": "2020-12-22T21:42:48.757459Z"
    }
   },
   "outputs": [
    {
     "data": {
      "text/html": [
       "<div>\n",
       "<style scoped>\n",
       "    .dataframe tbody tr th:only-of-type {\n",
       "        vertical-align: middle;\n",
       "    }\n",
       "\n",
       "    .dataframe tbody tr th {\n",
       "        vertical-align: top;\n",
       "    }\n",
       "\n",
       "    .dataframe thead th {\n",
       "        text-align: right;\n",
       "    }\n",
       "</style>\n",
       "<table border=\"1\" class=\"dataframe\">\n",
       "  <thead>\n",
       "    <tr style=\"text-align: right;\">\n",
       "      <th></th>\n",
       "      <th>wid</th>\n",
       "      <th>year</th>\n",
       "      <th>k</th>\n",
       "      <th>alpha</th>\n",
       "      <th>psi</th>\n",
       "      <th>spell</th>\n",
       "      <th>freq</th>\n",
       "      <th>fid</th>\n",
       "      <th>move</th>\n",
       "      <th>comp</th>\n",
       "    </tr>\n",
       "  </thead>\n",
       "  <tbody>\n",
       "    <tr>\n",
       "      <th>0</th>\n",
       "      <td>1</td>\n",
       "      <td>1</td>\n",
       "      <td>8</td>\n",
       "      <td>0.967422</td>\n",
       "      <td>0.908458</td>\n",
       "      <td>1</td>\n",
       "      <td>5</td>\n",
       "      <td>156</td>\n",
       "      <td>False</td>\n",
       "      <td>2.831875</td>\n",
       "    </tr>\n",
       "    <tr>\n",
       "      <th>1</th>\n",
       "      <td>1</td>\n",
       "      <td>2</td>\n",
       "      <td>8</td>\n",
       "      <td>0.967422</td>\n",
       "      <td>0.908458</td>\n",
       "      <td>1</td>\n",
       "      <td>5</td>\n",
       "      <td>156</td>\n",
       "      <td>False</td>\n",
       "      <td>2.819833</td>\n",
       "    </tr>\n",
       "    <tr>\n",
       "      <th>2</th>\n",
       "      <td>1</td>\n",
       "      <td>3</td>\n",
       "      <td>8</td>\n",
       "      <td>0.967422</td>\n",
       "      <td>0.908458</td>\n",
       "      <td>1</td>\n",
       "      <td>5</td>\n",
       "      <td>156</td>\n",
       "      <td>False</td>\n",
       "      <td>3.077293</td>\n",
       "    </tr>\n",
       "    <tr>\n",
       "      <th>3</th>\n",
       "      <td>1</td>\n",
       "      <td>4</td>\n",
       "      <td>8</td>\n",
       "      <td>0.967422</td>\n",
       "      <td>0.908458</td>\n",
       "      <td>1</td>\n",
       "      <td>5</td>\n",
       "      <td>156</td>\n",
       "      <td>False</td>\n",
       "      <td>1.176364</td>\n",
       "    </tr>\n",
       "    <tr>\n",
       "      <th>4</th>\n",
       "      <td>1</td>\n",
       "      <td>5</td>\n",
       "      <td>8</td>\n",
       "      <td>0.967422</td>\n",
       "      <td>0.908458</td>\n",
       "      <td>1</td>\n",
       "      <td>5</td>\n",
       "      <td>156</td>\n",
       "      <td>False</td>\n",
       "      <td>4.010982</td>\n",
       "    </tr>\n",
       "    <tr>\n",
       "      <th>...</th>\n",
       "      <td>...</td>\n",
       "      <td>...</td>\n",
       "      <td>...</td>\n",
       "      <td>...</td>\n",
       "      <td>...</td>\n",
       "      <td>...</td>\n",
       "      <td>...</td>\n",
       "      <td>...</td>\n",
       "      <td>...</td>\n",
       "      <td>...</td>\n",
       "    </tr>\n",
       "    <tr>\n",
       "      <th>49995</th>\n",
       "      <td>10000</td>\n",
       "      <td>1</td>\n",
       "      <td>1</td>\n",
       "      <td>-0.430727</td>\n",
       "      <td>-0.908458</td>\n",
       "      <td>1</td>\n",
       "      <td>1</td>\n",
       "      <td>26</td>\n",
       "      <td>False</td>\n",
       "      <td>-0.478747</td>\n",
       "    </tr>\n",
       "    <tr>\n",
       "      <th>49996</th>\n",
       "      <td>10000</td>\n",
       "      <td>2</td>\n",
       "      <td>7</td>\n",
       "      <td>-0.430727</td>\n",
       "      <td>0.604585</td>\n",
       "      <td>2</td>\n",
       "      <td>1</td>\n",
       "      <td>130</td>\n",
       "      <td>True</td>\n",
       "      <td>1.440287</td>\n",
       "    </tr>\n",
       "    <tr>\n",
       "      <th>49997</th>\n",
       "      <td>10000</td>\n",
       "      <td>3</td>\n",
       "      <td>9</td>\n",
       "      <td>-0.430727</td>\n",
       "      <td>1.335178</td>\n",
       "      <td>3</td>\n",
       "      <td>1</td>\n",
       "      <td>182</td>\n",
       "      <td>True</td>\n",
       "      <td>2.392118</td>\n",
       "    </tr>\n",
       "    <tr>\n",
       "      <th>49998</th>\n",
       "      <td>10000</td>\n",
       "      <td>4</td>\n",
       "      <td>7</td>\n",
       "      <td>-0.430727</td>\n",
       "      <td>0.604585</td>\n",
       "      <td>4</td>\n",
       "      <td>2</td>\n",
       "      <td>129</td>\n",
       "      <td>True</td>\n",
       "      <td>0.105051</td>\n",
       "    </tr>\n",
       "    <tr>\n",
       "      <th>49999</th>\n",
       "      <td>10000</td>\n",
       "      <td>5</td>\n",
       "      <td>7</td>\n",
       "      <td>-0.430727</td>\n",
       "      <td>0.604585</td>\n",
       "      <td>4</td>\n",
       "      <td>2</td>\n",
       "      <td>129</td>\n",
       "      <td>False</td>\n",
       "      <td>-0.671201</td>\n",
       "    </tr>\n",
       "  </tbody>\n",
       "</table>\n",
       "<p>50000 rows × 10 columns</p>\n",
       "</div>"
      ],
      "text/plain": [
       "         wid  year  k     alpha       psi  spell  freq  fid   move      comp\n",
       "0          1     1  8  0.967422  0.908458      1     5  156  False  2.831875\n",
       "1          1     2  8  0.967422  0.908458      1     5  156  False  2.819833\n",
       "2          1     3  8  0.967422  0.908458      1     5  156  False  3.077293\n",
       "3          1     4  8  0.967422  0.908458      1     5  156  False  1.176364\n",
       "4          1     5  8  0.967422  0.908458      1     5  156  False  4.010982\n",
       "...      ...   ... ..       ...       ...    ...   ...  ...    ...       ...\n",
       "49995  10000     1  1 -0.430727 -0.908458      1     1   26  False -0.478747\n",
       "49996  10000     2  7 -0.430727  0.604585      2     1  130   True  1.440287\n",
       "49997  10000     3  9 -0.430727  1.335178      3     1  182   True  2.392118\n",
       "49998  10000     4  7 -0.430727  0.604585      4     2  129   True  0.105051\n",
       "49999  10000     5  7 -0.430727  0.604585      4     2  129  False -0.671201\n",
       "\n",
       "[50000 rows x 10 columns]"
      ]
     },
     "metadata": {},
     "output_type": "display_data"
    }
   ],
   "source": [
    "# For the example, we simulate data\n",
    "stw_net = stw()\n",
    "sim_data = stw_net.sim_network()\n",
    "display(sim_data)"
   ]
  },
  {
   "cell_type": "markdown",
   "metadata": {},
   "source": [
    "## Second, create a TwoWay object using your data"
   ]
  },
  {
   "cell_type": "code",
   "execution_count": 3,
   "metadata": {
    "ExecuteTime": {
     "end_time": "2020-12-22T21:42:49.112350Z",
     "start_time": "2020-12-22T21:42:49.108320Z"
    }
   },
   "outputs": [],
   "source": [
    "# We need to specify a column dictionary to make sure columns are named correctly. You can also manually update column names yourself\n",
    "col_dict = {'fid': 'fid', 'wid': 'wid', 'year': 'year', 'comp': 'comp'}\n",
    "tw_net = tw(data=sim_data, formatting='long', col_dict=col_dict)"
   ]
  },
  {
   "cell_type": "markdown",
   "metadata": {},
   "source": [
    "## Now we can run the FE estimator"
   ]
  },
  {
   "cell_type": "code",
   "execution_count": 4,
   "metadata": {
    "ExecuteTime": {
     "end_time": "2020-12-22T21:42:49.482723Z",
     "start_time": "2020-12-22T21:42:49.357210Z"
    }
   },
   "outputs": [
    {
     "name": "stderr",
     "output_type": "stream",
     "text": [
      "100%|██████████| 5/5 [00:00<00:00, 228.85it/s]\n"
     ]
    }
   ],
   "source": [
    "# Optional parameters\n",
    "fe_params = {'ncore': 1, 'batch': 1, 'ndraw_pii': 50, 'ndraw_tr': 5, 'check': False, 'hetero': False, 'out': 'res_akm.json', 'con': False, 'logfile': '', 'levfile': '', 'statsonly': False}\n",
    "fe_res = tw_net.fit_fe(user_fe=fe_params)"
   ]
  },
  {
   "cell_type": "markdown",
   "metadata": {},
   "source": [
    "## We can also run the CRE estimator"
   ]
  },
  {
   "cell_type": "code",
   "execution_count": 5,
   "metadata": {
    "ExecuteTime": {
     "end_time": "2020-12-22T21:42:51.485812Z",
     "start_time": "2020-12-22T21:42:51.144952Z"
    }
   },
   "outputs": [],
   "source": [
    "# Optional parameters\n",
    "cre_params = {'ncore': 1, 'ndraw_tr': 5, 'ndp': 50, 'out': 'res_cre.json', 'posterior': False, 'wobtw': False}\n",
    "KMeans_params = {'n_clusters': 10, 'init': 'k-means++', 'n_init': 500, 'max_iter': 300, 'tol': 0.0001, 'precompute_distances': 'deprecated', 'verbose': 0, 'random_state': None, 'copy_x': True, 'n_jobs': 'deprecated', 'algorithm': 'auto'} # These parameters are specifically for the KMeans algorithm\n",
    "cluster_params = {'cdf_resolution': 10, 'grouping': 'quantile_all', 'year': None, 'user_KMeans': KMeans_params}\n",
    "cre_res = tw_net.fit_cre(user_cre=cre_params, user_cluster=cluster_params)"
   ]
  },
  {
   "cell_type": "markdown",
   "metadata": {},
   "source": [
    "## Finally, we can investigate the results"
   ]
  },
  {
   "cell_type": "code",
   "execution_count": 6,
   "metadata": {
    "ExecuteTime": {
     "end_time": "2020-12-22T21:42:51.498849Z",
     "start_time": "2020-12-22T21:42:51.489723Z"
    },
    "scrolled": true
   },
   "outputs": [
    {
     "data": {
      "text/plain": [
       "{'cores': '1',\n",
       " 'ndp': '50',\n",
       " 'ndt': '5',\n",
       " 'n_firms': '196',\n",
       " 'n_workers': '10000',\n",
       " 'n_movers': '9330',\n",
       " 'n_stayers': '670',\n",
       " 'mover_quantiles': '[149.0, 179.0, 189.0, 196.0, 200.0, 205.0, 208.0, 212.1451612903226, 217.55656108597285, 225.48026315789474, 259.0]',\n",
       " 'size_quantiles': '[152.0, 182.0, 192.0, 199.0, 204.0, 208.0, 211.0, 216.0, 221.0, 229.0, 266.0]',\n",
       " 'between_firm_var': '1.010646493110679',\n",
       " 'var_y': '1.992814162213511',\n",
       " 'solver_time': '0.003215100999999887',\n",
       " 'tot_var': '2.0068546056406333',\n",
       " 'eps_var_ho': '0.7091606084421883',\n",
       " 'eps_var_fe': '0.5294913141313505',\n",
       " 'tr_var_ho': '0.008108132690252146',\n",
       " 'tr_cov_ho': '-0.003507309253231166',\n",
       " 'var_fe': '0.6075922483892001',\n",
       " 'cov_fe': '0.17593931335749416',\n",
       " 'var_ho': '0.6018422800772509',\n",
       " 'cov_ho': '0.1784265589215105',\n",
       " 'total_time': '0.07361197471618652'}"
      ]
     },
     "metadata": {},
     "output_type": "display_data"
    },
    {
     "data": {
      "text/plain": [
       "{'cores': '1',\n",
       " 'ndt': '5',\n",
       " 'n_firms': '196',\n",
       " 'n_workers': '10000',\n",
       " 'n_movers': '9330',\n",
       " 'n_stayers': '670',\n",
       " 'y1s_y1s': '0.005928449596607331',\n",
       " 'y1s_y1s_count': '645',\n",
       " 'y1s_var': '0.4191017286891941',\n",
       " 'y1s_var_count': '670',\n",
       " 'y1m_var': '0.9921428346679829',\n",
       " 'y1m_var_count': '19785',\n",
       " 'y2m_var': '0.9973358077541287',\n",
       " 'y2m_var_count': '19785',\n",
       " 'y1s_y1m1': '0.0017440606581509675',\n",
       " 'y1s_y1m1_count': '670',\n",
       " 'y1s_y2m1': '0.00162860793596798',\n",
       " 'y1s_y2m1_count': '670',\n",
       " 'y1m1_y1m1': '5.0624844320937406e-05',\n",
       " 'y1m1_y1m1_count': '19785',\n",
       " 'y2m1_y1m1': '0.0009916287649128293',\n",
       " 'y2m1_y1m1_count': '19785',\n",
       " 'y2m1_y2m1': '-6.978557701015131e-05',\n",
       " 'y2m1_y2m1_count': '19785',\n",
       " 'y1s_y1m2': '-0.0019139080801833252',\n",
       " 'y1s_y1m2_count': '670',\n",
       " 'y1s_y2m2': '-0.0022417024606969527',\n",
       " 'y1s_y2m2_count': '670',\n",
       " 'y1m2_y1m2': '-0.0003277557365144826',\n",
       " 'y1m2_y1m2_count': '19785',\n",
       " 'y2m2_y1m2': '0.0016106602234900386',\n",
       " 'y2m2_y1m2_count': '19785',\n",
       " 'y2m2_y2m2': '0.0014889081393325346',\n",
       " 'y2m2_y2m2_count': '19785',\n",
       " 'dym_dym': '1.6034826742729147',\n",
       " 'dym_dym_count': '16424',\n",
       " 'y1m_y2m': '0.20137198403032627',\n",
       " 'y1m_y2m_count': '16424',\n",
       " 'cov_Am1Am1': '-6.978557701015131e-05',\n",
       " 'cov_Am1Psi1': '0.0010614143419229807',\n",
       " 'var_psi_m1': '-0.002002418262514873',\n",
       " 'cov_Am2Am2': '-0.0003277557365144826',\n",
       " 'cov_Am2Psi2': '0.0019384159600045212',\n",
       " 'var_psi_m2': '-0.002060168044162025',\n",
       " 'cov_AsAm1': '0.0005671935940449993',\n",
       " 'cov_AsAm2': '-0.0038523240401878464',\n",
       " 'psi_plus_cov1': '0.0001154527221829875',\n",
       " 'psi_plus_cov2': '-0.0003277943805136275',\n",
       " 'var_psi': '-0.0020312931533384487',\n",
       " 'cov_AsPsi1': '0.0018189514950078087',\n",
       " 'cov_AsAs': '0.004321839759930162',\n",
       " 'var_eps': '1.6075452605795917',\n",
       " 'var_y': '1.992814162213511',\n",
       " 'var_bw': '0.5994954072629726',\n",
       " 'cov_bw': '0.17826921942877305',\n",
       " 'var_wt': '-0.0020312931533384487',\n",
       " 'cov_wt': '0.0010862273408262725',\n",
       " 'tot_var': '0.5974641141096341',\n",
       " 'total_time': '0.21530818939208984'}"
      ]
     },
     "metadata": {},
     "output_type": "display_data"
    }
   ],
   "source": [
    "display(fe_res)\n",
    "display(cre_res)"
   ]
  }
 ],
 "metadata": {
  "celltoolbar": "Tags",
  "hide_input": false,
  "kernelspec": {
   "display_name": "Python 3",
   "language": "python",
   "name": "python3"
  },
  "language_info": {
   "codemirror_mode": {
    "name": "ipython",
    "version": 3
   },
   "file_extension": ".py",
   "mimetype": "text/x-python",
   "name": "python",
   "nbconvert_exporter": "python",
   "pygments_lexer": "ipython3",
   "version": "3.7.9"
  },
  "latex_envs": {
   "LaTeX_envs_menu_present": true,
   "autoclose": false,
   "autocomplete": true,
   "bibliofile": "biblio.bib",
   "cite_by": "apalike",
   "current_citInitial": 1,
   "eqLabelWithNumbers": true,
   "eqNumInitial": 1,
   "hotkeys": {
    "equation": "Ctrl-E",
    "itemize": "Ctrl-I"
   },
   "labels_anchors": false,
   "latex_user_defs": false,
   "report_style_numbering": false,
   "user_envs_cfg": false
  },
  "nbsphinx-toctree": {
   "hidden": true,
   "maxdepth": 1,
   "titlesonly": true
  },
  "toc": {
   "base_numbering": 1,
   "nav_menu": {},
   "number_sections": true,
   "sideBar": true,
   "skip_h1_title": false,
   "title_cell": "Table of Contents",
   "title_sidebar": "Contents",
   "toc_cell": false,
   "toc_position": {},
   "toc_section_display": true,
   "toc_window_display": false
  },
  "varInspector": {
   "cols": {
    "lenName": 16,
    "lenType": 16,
    "lenVar": 40
   },
   "kernels_config": {
    "python": {
     "delete_cmd_postfix": "",
     "delete_cmd_prefix": "del ",
     "library": "var_list.py",
     "varRefreshCmd": "print(var_dic_list())"
    },
    "r": {
     "delete_cmd_postfix": ") ",
     "delete_cmd_prefix": "rm(",
     "library": "var_list.r",
     "varRefreshCmd": "cat(var_dic_list()) "
    }
   },
   "types_to_exclude": [
    "module",
    "function",
    "builtin_function_or_method",
    "instance",
    "_Feature"
   ],
   "window_display": false
  }
 },
 "nbformat": 4,
 "nbformat_minor": 4
}
