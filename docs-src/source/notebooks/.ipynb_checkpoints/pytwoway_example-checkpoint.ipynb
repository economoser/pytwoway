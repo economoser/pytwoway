{
 "cells": [
  {
   "cell_type": "markdown",
   "metadata": {},
   "source": [
    "# pytwoway example"
   ]
  },
  {
   "cell_type": "code",
   "execution_count": 1,
   "metadata": {
    "ExecuteTime": {
     "end_time": "2020-12-22T21:42:48.755172Z",
     "start_time": "2020-12-22T21:42:47.334825Z"
    }
   },
   "outputs": [],
   "source": [
    "import os, sys\n",
    "# Navigate to parent folder for import\n",
    "os.chdir('../../..')\n",
    "from pytwoway import SimTwoWay as sn\n",
    "from pytwoway import TwoWay as tw\n",
    "\n",
    "# Weird code needed for output to show\n",
    "os.chdir('docs-src/source/notebooks')\n",
    "stdout = sys.stdout\n",
    "sys.path.insert(1, os.path.join(sys.path[0], '..'))\n",
    "sys.stdout = stdout"
   ]
  },
  {
   "cell_type": "markdown",
   "metadata": {},
   "source": [
    "## First, get your data"
   ]
  },
  {
   "cell_type": "code",
   "execution_count": 2,
   "metadata": {
    "ExecuteTime": {
     "end_time": "2020-12-22T21:42:49.104469Z",
     "start_time": "2020-12-22T21:42:48.757459Z"
    }
   },
   "outputs": [
    {
     "data": {
      "text/html": [
       "<div>\n",
       "<style scoped>\n",
       "    .dataframe tbody tr th:only-of-type {\n",
       "        vertical-align: middle;\n",
       "    }\n",
       "\n",
       "    .dataframe tbody tr th {\n",
       "        vertical-align: top;\n",
       "    }\n",
       "\n",
       "    .dataframe thead th {\n",
       "        text-align: right;\n",
       "    }\n",
       "</style>\n",
       "<table border=\"1\" class=\"dataframe\">\n",
       "  <thead>\n",
       "    <tr style=\"text-align: right;\">\n",
       "      <th></th>\n",
       "      <th>wid</th>\n",
       "      <th>year</th>\n",
       "      <th>k</th>\n",
       "      <th>alpha</th>\n",
       "      <th>psi</th>\n",
       "      <th>spell</th>\n",
       "      <th>freq</th>\n",
       "      <th>fid</th>\n",
       "      <th>move</th>\n",
       "      <th>comp</th>\n",
       "    </tr>\n",
       "  </thead>\n",
       "  <tbody>\n",
       "    <tr>\n",
       "      <th>0</th>\n",
       "      <td>1</td>\n",
       "      <td>1</td>\n",
       "      <td>6</td>\n",
       "      <td>0.967422</td>\n",
       "      <td>0.348756</td>\n",
       "      <td>1</td>\n",
       "      <td>1</td>\n",
       "      <td>122</td>\n",
       "      <td>False</td>\n",
       "      <td>2.346339</td>\n",
       "    </tr>\n",
       "    <tr>\n",
       "      <th>1</th>\n",
       "      <td>1</td>\n",
       "      <td>2</td>\n",
       "      <td>6</td>\n",
       "      <td>0.967422</td>\n",
       "      <td>0.348756</td>\n",
       "      <td>2</td>\n",
       "      <td>2</td>\n",
       "      <td>113</td>\n",
       "      <td>True</td>\n",
       "      <td>1.322358</td>\n",
       "    </tr>\n",
       "    <tr>\n",
       "      <th>2</th>\n",
       "      <td>1</td>\n",
       "      <td>3</td>\n",
       "      <td>6</td>\n",
       "      <td>0.967422</td>\n",
       "      <td>0.348756</td>\n",
       "      <td>2</td>\n",
       "      <td>2</td>\n",
       "      <td>113</td>\n",
       "      <td>False</td>\n",
       "      <td>2.588530</td>\n",
       "    </tr>\n",
       "    <tr>\n",
       "      <th>3</th>\n",
       "      <td>1</td>\n",
       "      <td>4</td>\n",
       "      <td>7</td>\n",
       "      <td>0.967422</td>\n",
       "      <td>0.604585</td>\n",
       "      <td>3</td>\n",
       "      <td>2</td>\n",
       "      <td>146</td>\n",
       "      <td>True</td>\n",
       "      <td>1.300185</td>\n",
       "    </tr>\n",
       "    <tr>\n",
       "      <th>4</th>\n",
       "      <td>1</td>\n",
       "      <td>5</td>\n",
       "      <td>7</td>\n",
       "      <td>0.967422</td>\n",
       "      <td>0.604585</td>\n",
       "      <td>3</td>\n",
       "      <td>2</td>\n",
       "      <td>146</td>\n",
       "      <td>False</td>\n",
       "      <td>0.822884</td>\n",
       "    </tr>\n",
       "    <tr>\n",
       "      <th>...</th>\n",
       "      <td>...</td>\n",
       "      <td>...</td>\n",
       "      <td>...</td>\n",
       "      <td>...</td>\n",
       "      <td>...</td>\n",
       "      <td>...</td>\n",
       "      <td>...</td>\n",
       "      <td>...</td>\n",
       "      <td>...</td>\n",
       "      <td>...</td>\n",
       "    </tr>\n",
       "    <tr>\n",
       "      <th>49995</th>\n",
       "      <td>10000</td>\n",
       "      <td>1</td>\n",
       "      <td>9</td>\n",
       "      <td>0.967422</td>\n",
       "      <td>1.335178</td>\n",
       "      <td>1</td>\n",
       "      <td>1</td>\n",
       "      <td>194</td>\n",
       "      <td>False</td>\n",
       "      <td>1.159669</td>\n",
       "    </tr>\n",
       "    <tr>\n",
       "      <th>49996</th>\n",
       "      <td>10000</td>\n",
       "      <td>2</td>\n",
       "      <td>9</td>\n",
       "      <td>0.967422</td>\n",
       "      <td>1.335178</td>\n",
       "      <td>2</td>\n",
       "      <td>1</td>\n",
       "      <td>177</td>\n",
       "      <td>True</td>\n",
       "      <td>1.944489</td>\n",
       "    </tr>\n",
       "    <tr>\n",
       "      <th>49997</th>\n",
       "      <td>10000</td>\n",
       "      <td>3</td>\n",
       "      <td>9</td>\n",
       "      <td>0.967422</td>\n",
       "      <td>1.335178</td>\n",
       "      <td>3</td>\n",
       "      <td>3</td>\n",
       "      <td>191</td>\n",
       "      <td>True</td>\n",
       "      <td>1.268290</td>\n",
       "    </tr>\n",
       "    <tr>\n",
       "      <th>49998</th>\n",
       "      <td>10000</td>\n",
       "      <td>4</td>\n",
       "      <td>9</td>\n",
       "      <td>0.967422</td>\n",
       "      <td>1.335178</td>\n",
       "      <td>3</td>\n",
       "      <td>3</td>\n",
       "      <td>191</td>\n",
       "      <td>False</td>\n",
       "      <td>2.655199</td>\n",
       "    </tr>\n",
       "    <tr>\n",
       "      <th>49999</th>\n",
       "      <td>10000</td>\n",
       "      <td>5</td>\n",
       "      <td>9</td>\n",
       "      <td>0.967422</td>\n",
       "      <td>1.335178</td>\n",
       "      <td>3</td>\n",
       "      <td>3</td>\n",
       "      <td>191</td>\n",
       "      <td>False</td>\n",
       "      <td>1.119208</td>\n",
       "    </tr>\n",
       "  </tbody>\n",
       "</table>\n",
       "<p>50000 rows × 10 columns</p>\n",
       "</div>"
      ],
      "text/plain": [
       "         wid  year  k     alpha       psi  spell  freq  fid   move      comp\n",
       "0          1     1  6  0.967422  0.348756      1     1  122  False  2.346339\n",
       "1          1     2  6  0.967422  0.348756      2     2  113   True  1.322358\n",
       "2          1     3  6  0.967422  0.348756      2     2  113  False  2.588530\n",
       "3          1     4  7  0.967422  0.604585      3     2  146   True  1.300185\n",
       "4          1     5  7  0.967422  0.604585      3     2  146  False  0.822884\n",
       "...      ...   ... ..       ...       ...    ...   ...  ...    ...       ...\n",
       "49995  10000     1  9  0.967422  1.335178      1     1  194  False  1.159669\n",
       "49996  10000     2  9  0.967422  1.335178      2     1  177   True  1.944489\n",
       "49997  10000     3  9  0.967422  1.335178      3     3  191   True  1.268290\n",
       "49998  10000     4  9  0.967422  1.335178      3     3  191  False  2.655199\n",
       "49999  10000     5  9  0.967422  1.335178      3     3  191  False  1.119208\n",
       "\n",
       "[50000 rows x 10 columns]"
      ]
     },
     "metadata": {},
     "output_type": "display_data"
    }
   ],
   "source": [
    "# For the example, we simulate data\n",
    "stw_net = sn()\n",
    "sim_data = stw_net.sim_network()\n",
    "display(sim_data)"
   ]
  },
  {
   "cell_type": "markdown",
   "metadata": {},
   "source": [
    "## Second, create a TwoWay object using your data"
   ]
  },
  {
   "cell_type": "code",
   "execution_count": 3,
   "metadata": {
    "ExecuteTime": {
     "end_time": "2020-12-22T21:42:49.112350Z",
     "start_time": "2020-12-22T21:42:49.108320Z"
    }
   },
   "outputs": [],
   "source": [
    "# We need to specify a column dictionary to make sure columns are named correctly. You can also manually update column names yourself\n",
    "col_dict = {'fid': 'fid', 'wid': 'wid', 'year': 'year', 'comp': 'comp'}\n",
    "tw_net = tw(data=sim_data, formatting='long', col_dict=col_dict)"
   ]
  },
  {
   "cell_type": "markdown",
   "metadata": {},
   "source": [
    "## Now we can run the FE estimator"
   ]
  },
  {
   "cell_type": "code",
   "execution_count": 4,
   "metadata": {
    "ExecuteTime": {
     "end_time": "2020-12-22T21:42:49.482723Z",
     "start_time": "2020-12-22T21:42:49.357210Z"
    }
   },
   "outputs": [
    {
     "name": "stderr",
     "output_type": "stream",
     "text": [
      "100%|██████████| 5/5 [00:00<00:00, 240.84it/s]\n"
     ]
    }
   ],
   "source": [
    "# Optional parameters\n",
    "fe_params = {'ncore': 1, 'batch': 1, 'ndraw_pii': 50, 'ndraw_tr': 5, 'check': False, 'hetero': False, 'out': 'res_akm.json', 'con': False, 'logfile': '', 'levfile': '', 'statsonly': False}\n",
    "fe_res = tw_net.fit_fe(user_fe=fe_params)"
   ]
  },
  {
   "cell_type": "markdown",
   "metadata": {},
   "source": [
    "## We can also run the CRE estimator"
   ]
  },
  {
   "cell_type": "code",
   "execution_count": 5,
   "metadata": {
    "ExecuteTime": {
     "end_time": "2020-12-22T21:42:51.485812Z",
     "start_time": "2020-12-22T21:42:51.144952Z"
    }
   },
   "outputs": [],
   "source": [
    "# Optional parameters\n",
    "cre_params = {'ncore': 1, 'ndraw_tr': 5, 'ndp': 50, 'out': 'res_cre.json', 'posterior': False, 'wobtw': False}\n",
    "KMeans_params = {'n_clusters': 10, 'init': 'k-means++', 'n_init': 500, 'max_iter': 300, 'tol': 0.0001, 'precompute_distances': 'deprecated', 'verbose': 0, 'random_state': None, 'copy_x': True, 'n_jobs': 'deprecated', 'algorithm': 'auto'} # These parameters are specifically for the KMeans algorithm\n",
    "cluster_params = {'cdf_resolution': 10, 'grouping': 'quantile_all', 'year': None, 'user_KMeans': KMeans_params}\n",
    "cre_res = tw_net.fit_cre(user_cre=cre_params, user_cluster=cluster_params)"
   ]
  },
  {
   "cell_type": "markdown",
   "metadata": {},
   "source": [
    "## Finally, we can investigate the results"
   ]
  },
  {
   "cell_type": "code",
   "execution_count": 6,
   "metadata": {
    "ExecuteTime": {
     "end_time": "2020-12-22T21:42:51.498849Z",
     "start_time": "2020-12-22T21:42:51.489723Z"
    },
    "scrolled": true
   },
   "outputs": [
    {
     "data": {
      "text/plain": [
       "{'cores': '1',\n",
       " 'ndp': '50',\n",
       " 'ndt': '5',\n",
       " 'n_firms': '196',\n",
       " 'n_workers': '10000',\n",
       " 'n_movers': '9350',\n",
       " 'n_stayers': '650',\n",
       " 'mover_quantiles': '[152.0, 180.0, 187.05284974093266, 192.0, 197.00445544554455, 202.0, 208.0, 212.79953703703706, 220.0, 230.39094827586206, 250.0]',\n",
       " 'size_quantiles': '[156.0, 183.69809264305178, 192.0, 196.0, 201.0, 206.0, 211.0, 215.82459396751742, 223.14451901565997, 233.0, 253.0]',\n",
       " 'between_firm_var': '0.9983405927085395',\n",
       " 'var_y': '1.9681988699051927',\n",
       " 'solver_time': '0.002823090000000139',\n",
       " 'tot_var': '1.9764342180333196',\n",
       " 'eps_var_ho': '0.6933437002423121',\n",
       " 'eps_var_fe': '0.5171387190883991',\n",
       " 'tr_var_ho': '0.007764336651059382',\n",
       " 'tr_cov_ho': '-0.0028072062760941307',\n",
       " 'var_fe': '0.5831321245228246',\n",
       " 'cov_fe': '0.17753376275854013',\n",
       " 'var_ho': '0.5777487706192521',\n",
       " 'cov_ho': '0.17948012154535067',\n",
       " 'total_time': '0.07208514213562012'}"
      ]
     },
     "metadata": {},
     "output_type": "display_data"
    },
    {
     "data": {
      "text/plain": [
       "{'cores': '1',\n",
       " 'ndt': '5',\n",
       " 'n_firms': '196',\n",
       " 'n_workers': '10000',\n",
       " 'n_movers': '9350',\n",
       " 'n_stayers': '650',\n",
       " 'y1s_y1s': '-0.021386483485042164',\n",
       " 'y1s_y1s_count': '623',\n",
       " 'y1s_var': '0.4267006684695281',\n",
       " 'y1s_var_count': '650',\n",
       " 'y1m_var': '0.9670388867052682',\n",
       " 'y1m_var_count': '19733',\n",
       " 'y2m_var': '0.9791804969423946',\n",
       " 'y2m_var_count': '19733',\n",
       " 'y1s_y1m1': '0.0023195045757251394',\n",
       " 'y1s_y1m1_count': '650',\n",
       " 'y1s_y2m1': '-0.0040995046188736384',\n",
       " 'y1s_y2m1_count': '650',\n",
       " 'y1m1_y1m1': '0.0003777128399447458',\n",
       " 'y1m1_y1m1_count': '19733',\n",
       " 'y2m1_y1m1': '0.0010694965229037844',\n",
       " 'y2m1_y1m1_count': '19733',\n",
       " 'y2m1_y2m1': '0.001101788224190964',\n",
       " 'y2m1_y2m1_count': '19733',\n",
       " 'y1s_y1m2': '0.002851346485028494',\n",
       " 'y1s_y1m2_count': '650',\n",
       " 'y1s_y2m2': '0.000846075703050608',\n",
       " 'y1s_y2m2_count': '650',\n",
       " 'y1m2_y1m2': '-8.014982973032403e-05',\n",
       " 'y1m2_y1m2_count': '19733',\n",
       " 'y2m2_y1m2': '0.0013816618786702177',\n",
       " 'y2m2_y1m2_count': '19733',\n",
       " 'y2m2_y2m2': '-0.00047697472543990397',\n",
       " 'y2m2_y2m2_count': '19733',\n",
       " 'dym_dym': '1.5536570631048354',\n",
       " 'dym_dym_count': '16512',\n",
       " 'y1m_y2m': '0.1960465085793665',\n",
       " 'y1m_y2m_count': '16512',\n",
       " 'cov_Am1Am1': '0.001101788224190964',\n",
       " 'cov_Am1Psi1': '-3.229170128717963e-05',\n",
       " 'var_psi_m1': '-0.0006594919816718589',\n",
       " 'cov_Am2Am2': '-8.014982973032403e-05',\n",
       " 'cov_Am2Psi2': '0.0014618117084005417',\n",
       " 'var_psi_m2': '-0.0033204483125106633',\n",
       " 'cov_AsAm1': '-0.004067212917586459',\n",
       " 'cov_AsAm2': '0.0013895347766279525',\n",
       " 'psi_plus_cov1': '0.006419009194598778',\n",
       " 'psi_plus_cov2': '-0.002005270781977886',\n",
       " 'var_psi': '-0.0019899701470912612',\n",
       " 'cov_AsPsi1': '0.006403708559712153',\n",
       " 'cov_AsAs': '-0.03220393045737521',\n",
       " 'var_eps': '1.557637003399018',\n",
       " 'var_y': '1.9681988699051927',\n",
       " 'var_bw': '0.5720088763298645',\n",
       " 'cov_bw': '0.1816012657954632',\n",
       " 'var_wt': '-0.0019899701470912612',\n",
       " 'cov_wt': '0.0001729479675373097',\n",
       " 'tot_var': '0.5700189061827733',\n",
       " 'total_time': '0.19915413856506348'}"
      ]
     },
     "metadata": {},
     "output_type": "display_data"
    }
   ],
   "source": [
    "display(fe_res)\n",
    "display(cre_res)"
   ]
  }
 ],
 "metadata": {
  "celltoolbar": "Tags",
  "hide_input": false,
  "kernelspec": {
   "display_name": "Python 3",
   "language": "python",
   "name": "python3"
  },
  "language_info": {
   "codemirror_mode": {
    "name": "ipython",
    "version": 3
   },
   "file_extension": ".py",
   "mimetype": "text/x-python",
   "name": "python",
   "nbconvert_exporter": "python",
   "pygments_lexer": "ipython3",
   "version": "3.7.9"
  },
  "latex_envs": {
   "LaTeX_envs_menu_present": true,
   "autoclose": false,
   "autocomplete": true,
   "bibliofile": "biblio.bib",
   "cite_by": "apalike",
   "current_citInitial": 1,
   "eqLabelWithNumbers": true,
   "eqNumInitial": 1,
   "hotkeys": {
    "equation": "Ctrl-E",
    "itemize": "Ctrl-I"
   },
   "labels_anchors": false,
   "latex_user_defs": false,
   "report_style_numbering": false,
   "user_envs_cfg": false
  },
  "nbsphinx-toctree": {
   "hidden": true,
   "maxdepth": 1,
   "titlesonly": true
  },
  "toc": {
   "base_numbering": 1,
   "nav_menu": {},
   "number_sections": true,
   "sideBar": true,
   "skip_h1_title": false,
   "title_cell": "Table of Contents",
   "title_sidebar": "Contents",
   "toc_cell": false,
   "toc_position": {},
   "toc_section_display": true,
   "toc_window_display": false
  },
  "varInspector": {
   "cols": {
    "lenName": 16,
    "lenType": 16,
    "lenVar": 40
   },
   "kernels_config": {
    "python": {
     "delete_cmd_postfix": "",
     "delete_cmd_prefix": "del ",
     "library": "var_list.py",
     "varRefreshCmd": "print(var_dic_list())"
    },
    "r": {
     "delete_cmd_postfix": ") ",
     "delete_cmd_prefix": "rm(",
     "library": "var_list.r",
     "varRefreshCmd": "cat(var_dic_list()) "
    }
   },
   "types_to_exclude": [
    "module",
    "function",
    "builtin_function_or_method",
    "instance",
    "_Feature"
   ],
   "window_display": false
  }
 },
 "nbformat": 4,
 "nbformat_minor": 4
}
