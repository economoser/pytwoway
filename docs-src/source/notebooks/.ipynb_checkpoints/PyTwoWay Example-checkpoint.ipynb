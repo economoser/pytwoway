{
 "cells": [
  {
   "cell_type": "markdown",
   "metadata": {},
   "source": [
    "# Estimating AKM, Bias-Corrected AKM, and CRE TWFE models using PyTwoWay"
   ]
  },
  {
   "cell_type": "code",
   "execution_count": 1,
   "metadata": {
    "ExecuteTime": {
     "end_time": "2020-10-23T21:50:21.403340Z",
     "start_time": "2020-10-23T21:50:20.189702Z"
    }
   },
   "outputs": [],
   "source": [
    "# Navigate to parent folder for import\n",
    "# Weird code needed for output to show\n",
    "import os, sys\n",
    "stdout = sys.stdout\n",
    "sys.path.insert(1, os.path.join(sys.path[0], '..'))\n",
    "sys.stdout = stdout\n",
    "# Import sim_twfe_network to simulate data\n",
    "from sim_twfe_network import sim_twfe_network as stwn\n",
    "from twfe_network import twfe_network as twn"
   ]
  },
  {
   "cell_type": "markdown",
   "metadata": {},
   "source": [
    "## First, get your data"
   ]
  },
  {
   "cell_type": "code",
   "execution_count": 2,
   "metadata": {
    "ExecuteTime": {
     "end_time": "2020-10-23T21:50:21.644909Z",
     "start_time": "2020-10-23T21:50:21.405395Z"
    }
   },
   "outputs": [
    {
     "data": {
      "text/html": [
       "<div>\n",
       "<style scoped>\n",
       "    .dataframe tbody tr th:only-of-type {\n",
       "        vertical-align: middle;\n",
       "    }\n",
       "\n",
       "    .dataframe tbody tr th {\n",
       "        vertical-align: top;\n",
       "    }\n",
       "\n",
       "    .dataframe thead th {\n",
       "        text-align: right;\n",
       "    }\n",
       "</style>\n",
       "<table border=\"1\" class=\"dataframe\">\n",
       "  <thead>\n",
       "    <tr style=\"text-align: right;\">\n",
       "      <th></th>\n",
       "      <th>wid</th>\n",
       "      <th>year</th>\n",
       "      <th>k</th>\n",
       "      <th>alpha</th>\n",
       "      <th>psi</th>\n",
       "      <th>spell</th>\n",
       "      <th>freq</th>\n",
       "      <th>fid</th>\n",
       "      <th>move</th>\n",
       "      <th>comp</th>\n",
       "    </tr>\n",
       "  </thead>\n",
       "  <tbody>\n",
       "    <tr>\n",
       "      <th>0</th>\n",
       "      <td>1</td>\n",
       "      <td>1</td>\n",
       "      <td>1</td>\n",
       "      <td>0.967422</td>\n",
       "      <td>-0.908458</td>\n",
       "      <td>1</td>\n",
       "      <td>1</td>\n",
       "      <td>22</td>\n",
       "      <td>False</td>\n",
       "      <td>1.337664</td>\n",
       "    </tr>\n",
       "    <tr>\n",
       "      <th>1</th>\n",
       "      <td>1</td>\n",
       "      <td>2</td>\n",
       "      <td>1</td>\n",
       "      <td>0.967422</td>\n",
       "      <td>-0.908458</td>\n",
       "      <td>2</td>\n",
       "      <td>1</td>\n",
       "      <td>19</td>\n",
       "      <td>True</td>\n",
       "      <td>0.073877</td>\n",
       "    </tr>\n",
       "    <tr>\n",
       "      <th>2</th>\n",
       "      <td>1</td>\n",
       "      <td>3</td>\n",
       "      <td>0</td>\n",
       "      <td>0.967422</td>\n",
       "      <td>-1.335178</td>\n",
       "      <td>3</td>\n",
       "      <td>1</td>\n",
       "      <td>10</td>\n",
       "      <td>True</td>\n",
       "      <td>-0.801005</td>\n",
       "    </tr>\n",
       "    <tr>\n",
       "      <th>3</th>\n",
       "      <td>1</td>\n",
       "      <td>4</td>\n",
       "      <td>2</td>\n",
       "      <td>0.967422</td>\n",
       "      <td>-0.604585</td>\n",
       "      <td>4</td>\n",
       "      <td>2</td>\n",
       "      <td>31</td>\n",
       "      <td>True</td>\n",
       "      <td>1.732804</td>\n",
       "    </tr>\n",
       "    <tr>\n",
       "      <th>4</th>\n",
       "      <td>1</td>\n",
       "      <td>5</td>\n",
       "      <td>2</td>\n",
       "      <td>0.967422</td>\n",
       "      <td>-0.604585</td>\n",
       "      <td>4</td>\n",
       "      <td>2</td>\n",
       "      <td>31</td>\n",
       "      <td>False</td>\n",
       "      <td>1.329272</td>\n",
       "    </tr>\n",
       "    <tr>\n",
       "      <th>...</th>\n",
       "      <td>...</td>\n",
       "      <td>...</td>\n",
       "      <td>...</td>\n",
       "      <td>...</td>\n",
       "      <td>...</td>\n",
       "      <td>...</td>\n",
       "      <td>...</td>\n",
       "      <td>...</td>\n",
       "      <td>...</td>\n",
       "      <td>...</td>\n",
       "    </tr>\n",
       "    <tr>\n",
       "      <th>49995</th>\n",
       "      <td>10000</td>\n",
       "      <td>1</td>\n",
       "      <td>8</td>\n",
       "      <td>0.967422</td>\n",
       "      <td>0.908458</td>\n",
       "      <td>1</td>\n",
       "      <td>2</td>\n",
       "      <td>152</td>\n",
       "      <td>False</td>\n",
       "      <td>2.799519</td>\n",
       "    </tr>\n",
       "    <tr>\n",
       "      <th>49996</th>\n",
       "      <td>10000</td>\n",
       "      <td>2</td>\n",
       "      <td>8</td>\n",
       "      <td>0.967422</td>\n",
       "      <td>0.908458</td>\n",
       "      <td>1</td>\n",
       "      <td>2</td>\n",
       "      <td>152</td>\n",
       "      <td>False</td>\n",
       "      <td>2.214767</td>\n",
       "    </tr>\n",
       "    <tr>\n",
       "      <th>49997</th>\n",
       "      <td>10000</td>\n",
       "      <td>3</td>\n",
       "      <td>8</td>\n",
       "      <td>0.967422</td>\n",
       "      <td>0.908458</td>\n",
       "      <td>2</td>\n",
       "      <td>1</td>\n",
       "      <td>166</td>\n",
       "      <td>True</td>\n",
       "      <td>0.861693</td>\n",
       "    </tr>\n",
       "    <tr>\n",
       "      <th>49998</th>\n",
       "      <td>10000</td>\n",
       "      <td>4</td>\n",
       "      <td>9</td>\n",
       "      <td>0.967422</td>\n",
       "      <td>1.335178</td>\n",
       "      <td>3</td>\n",
       "      <td>2</td>\n",
       "      <td>170</td>\n",
       "      <td>True</td>\n",
       "      <td>4.571471</td>\n",
       "    </tr>\n",
       "    <tr>\n",
       "      <th>49999</th>\n",
       "      <td>10000</td>\n",
       "      <td>5</td>\n",
       "      <td>9</td>\n",
       "      <td>0.967422</td>\n",
       "      <td>1.335178</td>\n",
       "      <td>3</td>\n",
       "      <td>2</td>\n",
       "      <td>170</td>\n",
       "      <td>False</td>\n",
       "      <td>2.935886</td>\n",
       "    </tr>\n",
       "  </tbody>\n",
       "</table>\n",
       "<p>50000 rows × 10 columns</p>\n",
       "</div>"
      ],
      "text/plain": [
       "         wid  year  k     alpha       psi  spell  freq  fid   move      comp\n",
       "0          1     1  1  0.967422 -0.908458      1     1   22  False  1.337664\n",
       "1          1     2  1  0.967422 -0.908458      2     1   19   True  0.073877\n",
       "2          1     3  0  0.967422 -1.335178      3     1   10   True -0.801005\n",
       "3          1     4  2  0.967422 -0.604585      4     2   31   True  1.732804\n",
       "4          1     5  2  0.967422 -0.604585      4     2   31  False  1.329272\n",
       "...      ...   ... ..       ...       ...    ...   ...  ...    ...       ...\n",
       "49995  10000     1  8  0.967422  0.908458      1     2  152  False  2.799519\n",
       "49996  10000     2  8  0.967422  0.908458      1     2  152  False  2.214767\n",
       "49997  10000     3  8  0.967422  0.908458      2     1  166   True  0.861693\n",
       "49998  10000     4  9  0.967422  1.335178      3     2  170   True  4.571471\n",
       "49999  10000     5  9  0.967422  1.335178      3     2  170  False  2.935886\n",
       "\n",
       "[50000 rows x 10 columns]"
      ]
     },
     "metadata": {},
     "output_type": "display_data"
    }
   ],
   "source": [
    "# For the example, we simulate data\n",
    "sim_data = stwn().sim_network()\n",
    "display(sim_data)"
   ]
  },
  {
   "cell_type": "markdown",
   "metadata": {},
   "source": [
    "## Second, create a twfe_network object using your data"
   ]
  },
  {
   "cell_type": "code",
   "execution_count": 3,
   "metadata": {
    "ExecuteTime": {
     "end_time": "2020-10-23T21:50:21.651916Z",
     "start_time": "2020-10-23T21:50:21.649114Z"
    }
   },
   "outputs": [],
   "source": [
    "# We need to specify a column dictionary to make sure columns are named correctly. You can also manually update column names yourself\n",
    "col_dict = {'fid': 'fid', 'wid': 'wid', 'year': 'year', 'comp': 'comp'}\n",
    "tw_net = twn(data=sim_data, col_dict=col_dict) # tw_net for two-way network"
   ]
  },
  {
   "cell_type": "markdown",
   "metadata": {},
   "source": [
    "## Third, clean your data"
   ]
  },
  {
   "cell_type": "code",
   "execution_count": 4,
   "metadata": {
    "ExecuteTime": {
     "end_time": "2020-10-23T21:50:21.783690Z",
     "start_time": "2020-10-23T21:50:21.653465Z"
    }
   },
   "outputs": [],
   "source": [
    "tw_net.clean_data()"
   ]
  },
  {
   "cell_type": "markdown",
   "metadata": {
    "ExecuteTime": {
     "end_time": "2020-10-19T22:50:29.782669Z",
     "start_time": "2020-10-19T22:50:29.773749Z"
    }
   },
   "source": [
    "## Fourth, refactor your data into event study format"
   ]
  },
  {
   "cell_type": "code",
   "execution_count": 5,
   "metadata": {
    "ExecuteTime": {
     "end_time": "2020-10-23T21:50:21.829864Z",
     "start_time": "2020-10-23T21:50:21.785700Z"
    }
   },
   "outputs": [],
   "source": [
    "tw_net.refactor_es()"
   ]
  },
  {
   "cell_type": "markdown",
   "metadata": {},
   "source": [
    "## Now we can run AKM"
   ]
  },
  {
   "cell_type": "code",
   "execution_count": 6,
   "metadata": {
    "ExecuteTime": {
     "end_time": "2020-10-23T21:50:21.903498Z",
     "start_time": "2020-10-23T21:50:21.832045Z"
    }
   },
   "outputs": [
    {
     "name": "stderr",
     "output_type": "stream",
     "text": [
      "100%|██████████| 5/5 [00:00<00:00, 268.25it/s]\n"
     ]
    }
   ],
   "source": [
    "# Optional parameters\n",
    "akm_params = {'ncore': 1, 'batch': 1, 'ndraw_pii': 50, 'ndraw_tr': 5, 'check': False, 'hetero': False, 'out': 'res_fe.json', 'con': False, 'logfile': '', 'levfile': '', 'statsonly': False}\n",
    "akm_res = tw_net.run_akm_corrected(user_akm=akm_params)"
   ]
  },
  {
   "cell_type": "markdown",
   "metadata": {},
   "source": [
    "## Fifth, cluster your data for CRE estimates"
   ]
  },
  {
   "cell_type": "code",
   "execution_count": 7,
   "metadata": {
    "ExecuteTime": {
     "end_time": "2020-10-23T21:50:23.379217Z",
     "start_time": "2020-10-23T21:50:21.907768Z"
    }
   },
   "outputs": [],
   "source": [
    "# Optional parameters\n",
    "KMeans_params = {'n_clusters': 10, 'init': 'k-means++', 'n_init': 500, 'max_iter': 300, 'tol': 0.0001, 'precompute_distances': 'deprecated', 'verbose': 0, 'random_state': None, 'copy_x': True, 'n_jobs': 'deprecated', 'algorithm': 'auto'} # These parameters are specifically for the KMeans algorithm\n",
    "cluster_params = {'cdf_resolution': 10, 'grouping': 'quantile_all', 'year': None, 'user_KMeans': KMeans_params}\n",
    "tw_net.cluster()"
   ]
  },
  {
   "cell_type": "markdown",
   "metadata": {},
   "source": [
    "## Now we can run CRE"
   ]
  },
  {
   "cell_type": "code",
   "execution_count": 8,
   "metadata": {
    "ExecuteTime": {
     "end_time": "2020-10-23T21:50:23.617141Z",
     "start_time": "2020-10-23T21:50:23.382365Z"
    }
   },
   "outputs": [],
   "source": [
    "# Optional parameters\n",
    "cre_params = {'ncore': 1, 'ndraw_tr': 5, 'ndp': 50, 'out': 'res_cre.json', 'posterior': False, 'wobtw': False}\n",
    "cre_res = tw_net.run_cre()"
   ]
  },
  {
   "cell_type": "markdown",
   "metadata": {},
   "source": [
    "## Finally, we can investigate the results"
   ]
  },
  {
   "cell_type": "code",
   "execution_count": 9,
   "metadata": {
    "ExecuteTime": {
     "end_time": "2020-10-23T21:50:23.625748Z",
     "start_time": "2020-10-23T21:50:23.618954Z"
    },
    "scrolled": true
   },
   "outputs": [
    {
     "data": {
      "text/plain": [
       "{'cores': 1,\n",
       " 'ndp': 50,\n",
       " 'ndt': 5,\n",
       " 'nm': 19929,\n",
       " 'ns': 649,\n",
       " 'n_firms': 193,\n",
       " 'n_workers': 10000,\n",
       " 'n_movers': 9351,\n",
       " 'mover_quantiles': [151.0,\n",
       "  187.0,\n",
       "  195.0,\n",
       "  199.0,\n",
       "  203.0,\n",
       "  208.0,\n",
       "  210.0,\n",
       "  215.0,\n",
       "  221.0,\n",
       "  228.0,\n",
       "  263.0],\n",
       " 'size_quantiles': [152.0,\n",
       "  190.6020997375328,\n",
       "  197.0,\n",
       "  202.0,\n",
       "  206.0,\n",
       "  210.0,\n",
       "  214.0,\n",
       "  219.0,\n",
       "  226.0,\n",
       "  231.75507559395248,\n",
       "  267.0],\n",
       " 'between_firm_var': 0.9996932637232635,\n",
       " 'var_y': 1.989633814110547,\n",
       " 'solver_time': 0.00248721300000021,\n",
       " 'tot_var': 1.9896222190630752,\n",
       " 'eps_var_ho': 0.8008688297454852,\n",
       " 'eps_var_fe': 0.39022263047588424,\n",
       " 'tr_var_ho': 0.006941293363416308,\n",
       " 'tr_cov_ho': -0.0016763412072605406,\n",
       " 'var_fe': 0.5677799699376128,\n",
       " 'cov_fe': 0.18184197752540562,\n",
       " 'var_ho': 0.5622209044447335,\n",
       " 'cov_ho': 0.1831845069463185,\n",
       " 'total_time': 0.06609511375427246}"
      ]
     },
     "metadata": {},
     "output_type": "display_data"
    },
    {
     "data": {
      "text/plain": [
       "{'ndt': 5,\n",
       " 'nm': 19929,\n",
       " 'ns': 649,\n",
       " 'n_firms': 193,\n",
       " 'n_workers': 10000,\n",
       " 'var_y': 1.989633814110547,\n",
       " 'y1s_y1s': -0.004505914998568813,\n",
       " 'y1s_y1s_count': 626,\n",
       " 'y1s_var': 0.36350140334608744,\n",
       " 'y1s_var_count': 649,\n",
       " 'y1m_var': 0.9846433032976732,\n",
       " 'y1m_var_count': 19929,\n",
       " 'y2m_var': 0.9815634465005953,\n",
       " 'y2m_var_count': 19929,\n",
       " 'y1s_y1m1': 0.0017068521843943058,\n",
       " 'y1s_y1m1_count': 649,\n",
       " 'y1s_y2m1': 0.003833739212637132,\n",
       " 'y1s_y2m1_count': 649,\n",
       " 'y1m1_y1m1': -0.0016717694686182853,\n",
       " 'y1m1_y1m1_count': 19929,\n",
       " 'y2m1_y1m1': 0.0010317130610684375,\n",
       " 'y2m1_y1m1_count': 19929,\n",
       " 'y2m1_y2m1': -0.00042437540713662975,\n",
       " 'y2m1_y2m1_count': 19929,\n",
       " 'y1s_y1m2': 9.57438709336424e-05,\n",
       " 'y1s_y1m2_count': 649,\n",
       " 'y1s_y2m2': 0.0016894214447837847,\n",
       " 'y1s_y2m2_count': 649,\n",
       " 'y1m2_y1m2': -0.0022923430477213617,\n",
       " 'y1m2_y1m2_count': 19929,\n",
       " 'y2m2_y1m2': -0.00086393219224511,\n",
       " 'y2m2_y1m2_count': 19929,\n",
       " 'y2m2_y2m2': -0.0021828358079121614,\n",
       " 'y2m2_y2m2_count': 19929,\n",
       " 'dym_dym': 1.6034176578645682,\n",
       " 'dym_dym_count': 16576,\n",
       " 'y1m_y2m': 0.18893736656747867,\n",
       " 'y1m_y2m_count': 16576,\n",
       " 'cov_Am1Am1': -0.00042437540713662975,\n",
       " 'cov_Am1Psi1': 0.0014560884682050673,\n",
       " 'var_psi_m1': -0.00415957099789179,\n",
       " 'cov_Am2Am2': -0.0022923430477213617,\n",
       " 'cov_Am2Psi2': 0.0014284108554762517,\n",
       " 'var_psi_m2': -0.002747314471143303,\n",
       " 'cov_AsAm1': 0.002377650744432065,\n",
       " 'cov_AsAm2': -0.0013326669845426093,\n",
       " 'psi_plus_cov1': -0.002126887028242826,\n",
       " 'psi_plus_cov2': 0.0015936775738501423,\n",
       " 'var_psi': -0.0034534427345175463,\n",
       " 'cov_AsPsi1': 0.0029202332801248625,\n",
       " 'cov_AsAs': -0.0068929388243009915,\n",
       " 'var_eps': 1.6103245433336033,\n",
       " 'var_bw': 0.5591847804038735,\n",
       " 'cov_bw': 0.18551240098279762,\n",
       " 'var_wt': -0.0034534427345175463,\n",
       " 'cov_wt': 0.00150226545250558,\n",
       " 'tot_var': 0.555731337669356}"
      ]
     },
     "metadata": {},
     "output_type": "display_data"
    }
   ],
   "source": [
    "display(akm_res)\n",
    "display(cre_res)"
   ]
  },
  {
   "cell_type": "code",
   "execution_count": null,
   "metadata": {},
   "outputs": [],
   "source": []
  }
 ],
 "metadata": {
  "hide_input": false,
  "kernelspec": {
   "display_name": "Python 3",
   "language": "python",
   "name": "python3"
  },
  "language_info": {
   "codemirror_mode": {
    "name": "ipython",
    "version": 3
   },
   "file_extension": ".py",
   "mimetype": "text/x-python",
   "name": "python",
   "nbconvert_exporter": "python",
   "pygments_lexer": "ipython3",
   "version": "3.7.9"
  },
  "toc": {
   "base_numbering": 1,
   "nav_menu": {},
   "number_sections": true,
   "sideBar": true,
   "skip_h1_title": false,
   "title_cell": "Table of Contents",
   "title_sidebar": "Contents",
   "toc_cell": false,
   "toc_position": {},
   "toc_section_display": true,
   "toc_window_display": false
  },
  "varInspector": {
   "cols": {
    "lenName": 16,
    "lenType": 16,
    "lenVar": 40
   },
   "kernels_config": {
    "python": {
     "delete_cmd_postfix": "",
     "delete_cmd_prefix": "del ",
     "library": "var_list.py",
     "varRefreshCmd": "print(var_dic_list())"
    },
    "r": {
     "delete_cmd_postfix": ") ",
     "delete_cmd_prefix": "rm(",
     "library": "var_list.r",
     "varRefreshCmd": "cat(var_dic_list()) "
    }
   },
   "types_to_exclude": [
    "module",
    "function",
    "builtin_function_or_method",
    "instance",
    "_Feature"
   ],
   "window_display": false
  }
 },
 "nbformat": 4,
 "nbformat_minor": 4
}