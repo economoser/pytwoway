{
 "cells": [
  {
   "cell_type": "markdown",
   "metadata": {},
   "source": [
    "# Running a Monte Carlo simulation using class sim_twfe_network"
   ]
  },
  {
   "cell_type": "code",
   "execution_count": 1,
   "metadata": {
    "ExecuteTime": {
     "end_time": "2020-10-23T21:50:57.495534Z",
     "start_time": "2020-10-23T21:50:56.307408Z"
    }
   },
   "outputs": [],
   "source": [
    "# Navigate to parent folder for import\n",
    "# Weird code needed for output to show\n",
    "import os, sys\n",
    "stdout = sys.stdout\n",
    "sys.path.insert(1, os.path.join(sys.path[0], '..'))\n",
    "sys.stdout = stdout\n",
    "from sim_twfe_network import sim_twfe_network as stwn"
   ]
  },
  {
   "cell_type": "markdown",
   "metadata": {},
   "source": [
    "## First, optionally set parameter values for the simulated data"
   ]
  },
  {
   "cell_type": "code",
   "execution_count": 2,
   "metadata": {
    "ExecuteTime": {
     "end_time": "2020-10-23T21:50:57.500543Z",
     "start_time": "2020-10-23T21:50:57.497889Z"
    }
   },
   "outputs": [],
   "source": [
    "sim_params = {'num_ind': 10000, 'num_time': 5, 'firm_size': 50, 'nk': 10, 'nl': 5, 'alpha_sig': 1, 'psi_sig': 1, 'w_sig': 5, 'csort': 1, 'cnetw': 1, 'csig': 1, 'p_move': 0.5}"
   ]
  },
  {
   "cell_type": "markdown",
   "metadata": {},
   "source": [
    "## Second, create a stwn object using the parameter choices"
   ]
  },
  {
   "cell_type": "code",
   "execution_count": 3,
   "metadata": {
    "ExecuteTime": {
     "end_time": "2020-10-23T21:50:57.508622Z",
     "start_time": "2020-10-23T21:50:57.505621Z"
    }
   },
   "outputs": [],
   "source": [
    "sn = stwn(sim_params)"
   ]
  },
  {
   "cell_type": "markdown",
   "metadata": {},
   "source": [
    "## Third, optionally set parameter values for the Monte Carlo simulation"
   ]
  },
  {
   "cell_type": "code",
   "execution_count": 4,
   "metadata": {
    "ExecuteTime": {
     "end_time": "2020-10-23T21:50:57.518981Z",
     "start_time": "2020-10-23T21:50:57.513068Z"
    }
   },
   "outputs": [],
   "source": [
    "# For AKM estimation\n",
    "akm_params = {'ncore': 1, 'batch': 1, 'ndraw_pii': 50, 'ndraw_tr': 5, 'check': False, 'hetero': False, 'out': 'res_akm.json', 'con': False, 'logfile': '', 'levfile': '', 'statsonly': False}\n",
    "\n",
    "# For CRE estimation\n",
    "cre_params = {'ncore': 1, 'ndraw_tr': 5, 'ndp': 50, 'out': 'res_cre.json', 'posterior': False, 'wobtw': False}\n",
    "\n",
    "# For clustering (specifically for the KMeans algorithm)\n",
    "KMeans_params = {'n_clusters': 10, 'init': 'k-means++', 'n_init': 500, 'max_iter': 300, 'tol': 0.0001, 'precompute_distances': 'deprecated', 'verbose': 0, 'random_state': None, 'copy_x': True, 'n_jobs': 'deprecated', 'algorithm': 'auto'}\n",
    "\n",
    "# For clustering\n",
    "cluster_params = {'cdf_resolution': 10, 'grouping': 'quantile_all', 'year': None, 'user_KMeans': KMeans_params}"
   ]
  },
  {
   "cell_type": "markdown",
   "metadata": {},
   "source": [
    "## Fourth, run the Monte Carlo simulation using the parameter choices"
   ]
  },
  {
   "cell_type": "code",
   "execution_count": 5,
   "metadata": {
    "ExecuteTime": {
     "end_time": "2020-10-23T21:51:35.680742Z",
     "start_time": "2020-10-23T21:50:57.521544Z"
    },
    "scrolled": true
   },
   "outputs": [
    {
     "name": "stderr",
     "output_type": "stream",
     "text": [
      "100%|██████████| 5/5 [00:00<00:00, 175.98it/s]\n",
      "  0%|          | 0/5 [00:00<?, ?it/s]2.05it/s]\n",
      "100%|██████████| 5/5 [00:00<00:00, 140.37it/s]\n",
      "100%|██████████| 5/5 [00:00<00:00, 25.02it/s]\n",
      "100%|██████████| 5/5 [00:00<00:00, 194.58it/s]\n",
      "100%|██████████| 5/5 [00:00<00:00, 184.65it/s]\n",
      "100%|██████████| 5/5 [00:00<00:00, 162.10it/s]\n",
      "\n",
      "100%|██████████| 5/5 [00:00<00:00, 168.28it/s]\n",
      "100%|██████████| 5/5 [00:00<00:00, 144.81it/s]\n",
      "100%|██████████| 5/5 [00:00<00:00, 193.15it/s]\n",
      "100%|██████████| 5/5 [00:00<00:00, 22.82it/s]\n",
      "100%|██████████| 5/5 [00:00<00:00, 176.85it/s]\n",
      "100%|██████████| 5/5 [00:00<00:00, 162.45it/s]\n",
      "100%|██████████| 5/5 [00:00<00:00, 169.13it/s]\n",
      "100%|██████████| 5/5 [00:00<00:00, 185.86it/s]\n",
      "  0%|          | 0/5 [00:00<?, ?it/s]7.37it/s]\n",
      "  0%|          | 0/5 [00:00<?, ?it/s].31it/s]\n",
      "100%|██████████| 5/5 [00:00<00:00, 153.10it/s]\n",
      "100%|██████████| 5/5 [00:00<00:00, 24.74it/s]\n",
      "100%|██████████| 5/5 [00:00<00:00, 128.95it/s]\n",
      "100%|██████████| 5/5 [00:00<00:00, 151.90it/s]\n",
      "100%|██████████| 5/5 [00:00<00:00, 145.60it/s]\n",
      "100%|██████████| 5/5 [00:00<00:00, 145.73it/s]\n",
      "100%|██████████| 5/5 [00:00<00:00, 206.72it/s]\n",
      "100%|██████████| 5/5 [00:00<00:00, 200.64it/s]\n",
      "100%|██████████| 5/5 [00:00<00:00, 202.92it/s]\n",
      "100%|██████████| 5/5 [00:00<00:00, 28.26it/s]\n",
      "100%|██████████| 5/5 [00:00<00:00, 190.16it/s]\n",
      "100%|██████████| 5/5 [00:00<00:00, 153.19it/s]\n",
      "100%|██████████| 5/5 [00:00<00:00, 178.62it/s]\n",
      "100%|██████████| 5/5 [00:00<00:00, 30.39it/s]\n",
      "100%|██████████| 5/5 [00:00<00:00, 154.41it/s]\n",
      "100%|██████████| 5/5 [00:00<00:00, 174.24it/s]\n",
      "100%|██████████| 5/5 [00:00<00:00, 19.85it/s]\n",
      "100%|██████████| 5/5 [00:00<00:00, 145.95it/s]\n",
      "100%|██████████| 5/5 [00:00<00:00, 147.97it/s]\n",
      "100%|██████████| 5/5 [00:00<00:00, 153.19it/s]\n",
      "100%|██████████| 5/5 [00:00<00:00, 177.24it/s]\n",
      "100%|██████████| 5/5 [00:00<00:00, 181.21it/s]\n",
      "100%|██████████| 5/5 [00:00<00:00, 158.95it/s]\n",
      "100%|██████████| 5/5 [00:00<00:00, 146.78it/s]\n",
      "100%|██████████| 5/5 [00:00<00:00, 143.56it/s]\n",
      "100%|██████████| 5/5 [00:00<00:00, 20.75it/s]\n",
      "100%|██████████| 5/5 [00:00<00:00, 166.27it/s]\n",
      "100%|██████████| 5/5 [00:00<00:00, 148.14it/s]\n",
      "100%|██████████| 5/5 [00:00<00:00, 150.94it/s]\n",
      "100%|██████████| 5/5 [00:00<00:00, 170.30it/s]\n",
      "100%|██████████| 5/5 [00:00<00:00, 202.34it/s]\n",
      "100%|██████████| 5/5 [00:00<00:00, 245.38it/s]\n"
     ]
    }
   ],
   "source": [
    "sn.twfe_monte_carlo(N=50, ncore=4, akm_params=akm_params, cre_params=cre_params, cluster_params=cluster_params)"
   ]
  },
  {
   "cell_type": "markdown",
   "metadata": {},
   "source": [
    "## Fifth and finally, plot parameter estimates (plots show the difference from the truth)"
   ]
  },
  {
   "cell_type": "code",
   "execution_count": 6,
   "metadata": {
    "ExecuteTime": {
     "end_time": "2020-10-23T21:51:36.390590Z",
     "start_time": "2020-10-23T21:51:35.682999Z"
    }
   },
   "outputs": [
    {
     "data": {
      "image/png": "[encoded data removed]",
      "text/plain": [
       "<Figure size 432x288 with 1 Axes>"
      ]
     },
     "metadata": {
      "needs_background": "light"
     },
     "output_type": "display_data"
    },
    {
     "data": {
      "image/png": "[encoded data removed]",
      "text/plain": [
       "<Figure size 432x288 with 1 Axes>"
      ]
     },
     "metadata": {
      "needs_background": "light"
     },
     "output_type": "display_data"
    }
   ],
   "source": [
    "sn.plot_monte_carlo()"
   ]
  },
  {
   "cell_type": "code",
   "execution_count": null,
   "metadata": {},
   "outputs": [],
   "source": []
  }
 ],
 "metadata": {
  "hide_input": false,
  "kernelspec": {
   "display_name": "Python 3",
   "language": "python",
   "name": "python3"
  },
  "language_info": {
   "codemirror_mode": {
    "name": "ipython",
    "version": 3
   },
   "file_extension": ".py",
   "mimetype": "text/x-python",
   "name": "python",
   "nbconvert_exporter": "python",
   "pygments_lexer": "ipython3",
   "version": "3.7.9"
  },
  "toc": {
   "base_numbering": 1,
   "nav_menu": {},
   "number_sections": true,
   "sideBar": true,
   "skip_h1_title": false,
   "title_cell": "Table of Contents",
   "title_sidebar": "Contents",
   "toc_cell": false,
   "toc_position": {},
   "toc_section_display": true,
   "toc_window_display": false
  },
  "varInspector": {
   "cols": {
    "lenName": 16,
    "lenType": 16,
    "lenVar": 40
   },
   "kernels_config": {
    "python": {
     "delete_cmd_postfix": "",
     "delete_cmd_prefix": "del ",
     "library": "var_list.py",
     "varRefreshCmd": "print(var_dic_list())"
    },
    "r": {
     "delete_cmd_postfix": ") ",
     "delete_cmd_prefix": "rm(",
     "library": "var_list.r",
     "varRefreshCmd": "cat(var_dic_list()) "
    }
   },
   "types_to_exclude": [
    "module",
    "function",
    "builtin_function_or_method",
    "instance",
    "_Feature"
   ],
   "window_display": false
  }
 },
 "nbformat": 4,
 "nbformat_minor": 4
}
