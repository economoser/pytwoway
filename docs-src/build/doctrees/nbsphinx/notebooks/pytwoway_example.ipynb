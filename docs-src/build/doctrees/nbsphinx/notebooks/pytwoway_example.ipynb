{
 "cells": [
  {
   "cell_type": "markdown",
   "metadata": {},
   "source": [
    "# pytwoway example"
   ]
  },
  {
   "cell_type": "code",
   "execution_count": 1,
   "metadata": {
    "ExecuteTime": {
     "end_time": "2020-12-20T22:58:01.121724Z",
     "start_time": "2020-12-20T22:57:59.722380Z"
    }
   },
   "outputs": [],
   "source": [
    "import os, sys\n",
    "# Navigate to parent folder for import\n",
    "os.chdir('../../..')\n",
    "from pytwoway import sim_twfe_network\n",
    "sn = sim_twfe_network.sim_twfe_network\n",
    "from pytwoway import twfe_network\n",
    "tn = twfe_network.twfe_network\n",
    "\n",
    "# Weird code needed for output to show\n",
    "os.chdir('docs/source/notebooks')\n",
    "stdout = sys.stdout\n",
    "sys.path.insert(1, os.path.join(sys.path[0], '..'))\n",
    "sys.stdout = stdout"
   ]
  },
  {
   "cell_type": "markdown",
   "metadata": {},
   "source": [
    "## First, get your data"
   ]
  },
  {
   "cell_type": "code",
   "execution_count": 2,
   "metadata": {
    "ExecuteTime": {
     "end_time": "2020-12-20T22:58:01.475200Z",
     "start_time": "2020-12-20T22:58:01.124364Z"
    }
   },
   "outputs": [
    {
     "data": {
      "text/html": [
       "<div>\n",
       "<style scoped>\n",
       "    .dataframe tbody tr th:only-of-type {\n",
       "        vertical-align: middle;\n",
       "    }\n",
       "\n",
       "    .dataframe tbody tr th {\n",
       "        vertical-align: top;\n",
       "    }\n",
       "\n",
       "    .dataframe thead th {\n",
       "        text-align: right;\n",
       "    }\n",
       "</style>\n",
       "<table border=\"1\" class=\"dataframe\">\n",
       "  <thead>\n",
       "    <tr style=\"text-align: right;\">\n",
       "      <th></th>\n",
       "      <th>wid</th>\n",
       "      <th>year</th>\n",
       "      <th>k</th>\n",
       "      <th>alpha</th>\n",
       "      <th>psi</th>\n",
       "      <th>spell</th>\n",
       "      <th>freq</th>\n",
       "      <th>fid</th>\n",
       "      <th>move</th>\n",
       "      <th>comp</th>\n",
       "    </tr>\n",
       "  </thead>\n",
       "  <tbody>\n",
       "    <tr>\n",
       "      <th>0</th>\n",
       "      <td>1</td>\n",
       "      <td>1</td>\n",
       "      <td>0</td>\n",
       "      <td>-0.430727</td>\n",
       "      <td>-1.335178</td>\n",
       "      <td>1</td>\n",
       "      <td>3</td>\n",
       "      <td>12</td>\n",
       "      <td>False</td>\n",
       "      <td>-3.365809</td>\n",
       "    </tr>\n",
       "    <tr>\n",
       "      <th>1</th>\n",
       "      <td>1</td>\n",
       "      <td>2</td>\n",
       "      <td>0</td>\n",
       "      <td>-0.430727</td>\n",
       "      <td>-1.335178</td>\n",
       "      <td>1</td>\n",
       "      <td>3</td>\n",
       "      <td>12</td>\n",
       "      <td>False</td>\n",
       "      <td>-1.454216</td>\n",
       "    </tr>\n",
       "    <tr>\n",
       "      <th>2</th>\n",
       "      <td>1</td>\n",
       "      <td>3</td>\n",
       "      <td>0</td>\n",
       "      <td>-0.430727</td>\n",
       "      <td>-1.335178</td>\n",
       "      <td>1</td>\n",
       "      <td>3</td>\n",
       "      <td>12</td>\n",
       "      <td>False</td>\n",
       "      <td>-2.237995</td>\n",
       "    </tr>\n",
       "    <tr>\n",
       "      <th>3</th>\n",
       "      <td>1</td>\n",
       "      <td>4</td>\n",
       "      <td>3</td>\n",
       "      <td>-0.430727</td>\n",
       "      <td>-0.348756</td>\n",
       "      <td>2</td>\n",
       "      <td>2</td>\n",
       "      <td>52</td>\n",
       "      <td>True</td>\n",
       "      <td>-0.321821</td>\n",
       "    </tr>\n",
       "    <tr>\n",
       "      <th>4</th>\n",
       "      <td>1</td>\n",
       "      <td>5</td>\n",
       "      <td>3</td>\n",
       "      <td>-0.430727</td>\n",
       "      <td>-0.348756</td>\n",
       "      <td>2</td>\n",
       "      <td>2</td>\n",
       "      <td>52</td>\n",
       "      <td>False</td>\n",
       "      <td>-2.804593</td>\n",
       "    </tr>\n",
       "    <tr>\n",
       "      <th>...</th>\n",
       "      <td>...</td>\n",
       "      <td>...</td>\n",
       "      <td>...</td>\n",
       "      <td>...</td>\n",
       "      <td>...</td>\n",
       "      <td>...</td>\n",
       "      <td>...</td>\n",
       "      <td>...</td>\n",
       "      <td>...</td>\n",
       "      <td>...</td>\n",
       "    </tr>\n",
       "    <tr>\n",
       "      <th>49995</th>\n",
       "      <td>10000</td>\n",
       "      <td>1</td>\n",
       "      <td>4</td>\n",
       "      <td>-0.430727</td>\n",
       "      <td>-0.114185</td>\n",
       "      <td>1</td>\n",
       "      <td>5</td>\n",
       "      <td>78</td>\n",
       "      <td>False</td>\n",
       "      <td>-1.264178</td>\n",
       "    </tr>\n",
       "    <tr>\n",
       "      <th>49996</th>\n",
       "      <td>10000</td>\n",
       "      <td>2</td>\n",
       "      <td>4</td>\n",
       "      <td>-0.430727</td>\n",
       "      <td>-0.114185</td>\n",
       "      <td>1</td>\n",
       "      <td>5</td>\n",
       "      <td>78</td>\n",
       "      <td>False</td>\n",
       "      <td>-0.294214</td>\n",
       "    </tr>\n",
       "    <tr>\n",
       "      <th>49997</th>\n",
       "      <td>10000</td>\n",
       "      <td>3</td>\n",
       "      <td>4</td>\n",
       "      <td>-0.430727</td>\n",
       "      <td>-0.114185</td>\n",
       "      <td>1</td>\n",
       "      <td>5</td>\n",
       "      <td>78</td>\n",
       "      <td>False</td>\n",
       "      <td>-0.178720</td>\n",
       "    </tr>\n",
       "    <tr>\n",
       "      <th>49998</th>\n",
       "      <td>10000</td>\n",
       "      <td>4</td>\n",
       "      <td>4</td>\n",
       "      <td>-0.430727</td>\n",
       "      <td>-0.114185</td>\n",
       "      <td>1</td>\n",
       "      <td>5</td>\n",
       "      <td>78</td>\n",
       "      <td>False</td>\n",
       "      <td>1.191634</td>\n",
       "    </tr>\n",
       "    <tr>\n",
       "      <th>49999</th>\n",
       "      <td>10000</td>\n",
       "      <td>5</td>\n",
       "      <td>4</td>\n",
       "      <td>-0.430727</td>\n",
       "      <td>-0.114185</td>\n",
       "      <td>1</td>\n",
       "      <td>5</td>\n",
       "      <td>78</td>\n",
       "      <td>False</td>\n",
       "      <td>0.318324</td>\n",
       "    </tr>\n",
       "  </tbody>\n",
       "</table>\n",
       "<p>50000 rows × 10 columns</p>\n",
       "</div>"
      ],
      "text/plain": [
       "         wid  year  k     alpha       psi  spell  freq  fid   move      comp\n",
       "0          1     1  0 -0.430727 -1.335178      1     3   12  False -3.365809\n",
       "1          1     2  0 -0.430727 -1.335178      1     3   12  False -1.454216\n",
       "2          1     3  0 -0.430727 -1.335178      1     3   12  False -2.237995\n",
       "3          1     4  3 -0.430727 -0.348756      2     2   52   True -0.321821\n",
       "4          1     5  3 -0.430727 -0.348756      2     2   52  False -2.804593\n",
       "...      ...   ... ..       ...       ...    ...   ...  ...    ...       ...\n",
       "49995  10000     1  4 -0.430727 -0.114185      1     5   78  False -1.264178\n",
       "49996  10000     2  4 -0.430727 -0.114185      1     5   78  False -0.294214\n",
       "49997  10000     3  4 -0.430727 -0.114185      1     5   78  False -0.178720\n",
       "49998  10000     4  4 -0.430727 -0.114185      1     5   78  False  1.191634\n",
       "49999  10000     5  4 -0.430727 -0.114185      1     5   78  False  0.318324\n",
       "\n",
       "[50000 rows x 10 columns]"
      ]
     },
     "metadata": {},
     "output_type": "display_data"
    }
   ],
   "source": [
    "# For the example, we simulate data\n",
    "sim_data = sn().sim_network()\n",
    "display(sim_data)"
   ]
  },
  {
   "cell_type": "markdown",
   "metadata": {},
   "source": [
    "## Second, create a twfe_network object using your data"
   ]
  },
  {
   "cell_type": "code",
   "execution_count": 3,
   "metadata": {
    "ExecuteTime": {
     "end_time": "2020-12-20T22:58:01.481572Z",
     "start_time": "2020-12-20T22:58:01.477953Z"
    }
   },
   "outputs": [],
   "source": [
    "# We need to specify a column dictionary to make sure columns are named correctly. You can also manually update column names yourself\n",
    "col_dict = {'fid': 'fid', 'wid': 'wid', 'year': 'year', 'comp': 'comp'}\n",
    "tw_net = tn(data=sim_data, col_dict=col_dict) # tw_net for two-way network"
   ]
  },
  {
   "cell_type": "markdown",
   "metadata": {},
   "source": [
    "## Third, clean your data"
   ]
  },
  {
   "cell_type": "code",
   "execution_count": 4,
   "metadata": {
    "ExecuteTime": {
     "end_time": "2020-12-20T22:58:01.664919Z",
     "start_time": "2020-12-20T22:58:01.484275Z"
    }
   },
   "outputs": [],
   "source": [
    "tw_net.clean_data()"
   ]
  },
  {
   "cell_type": "markdown",
   "metadata": {
    "ExecuteTime": {
     "end_time": "2020-10-19T22:50:29.782669Z",
     "start_time": "2020-10-19T22:50:29.773749Z"
    }
   },
   "source": [
    "## Fourth, refactor your data into event study format"
   ]
  },
  {
   "cell_type": "code",
   "execution_count": 5,
   "metadata": {
    "ExecuteTime": {
     "end_time": "2020-12-20T22:58:01.757889Z",
     "start_time": "2020-12-20T22:58:01.667057Z"
    }
   },
   "outputs": [],
   "source": [
    "tw_net.refactor_es()"
   ]
  },
  {
   "cell_type": "markdown",
   "metadata": {},
   "source": [
    "## Now we can run AKM"
   ]
  },
  {
   "cell_type": "code",
   "execution_count": 6,
   "metadata": {
    "ExecuteTime": {
     "end_time": "2020-12-20T22:58:02.123486Z",
     "start_time": "2020-12-20T22:58:01.759797Z"
    }
   },
   "outputs": [
    {
     "name": "stderr",
     "output_type": "stream",
     "text": [
      "100%|██████████| 5/5 [00:00<00:00, 23.89it/s]\n"
     ]
    }
   ],
   "source": [
    "# Optional parameters\n",
    "akm_params = {'ncore': 1, 'batch': 1, 'ndraw_pii': 50, 'ndraw_tr': 5, 'check': False, 'hetero': False, 'out': 'res_akm.json', 'con': False, 'logfile': '', 'levfile': '', 'statsonly': False}\n",
    "akm_res = tw_net.run_akm_corrected(user_akm=akm_params)"
   ]
  },
  {
   "cell_type": "markdown",
   "metadata": {},
   "source": [
    "## Fifth, cluster your data for CRE estimates"
   ]
  },
  {
   "cell_type": "code",
   "execution_count": 7,
   "metadata": {
    "ExecuteTime": {
     "end_time": "2020-12-20T22:58:04.280391Z",
     "start_time": "2020-12-20T22:58:02.130868Z"
    }
   },
   "outputs": [],
   "source": [
    "# Optional parameters\n",
    "KMeans_params = {'n_clusters': 10, 'init': 'k-means++', 'n_init': 500, 'max_iter': 300, 'tol': 0.0001, 'precompute_distances': 'deprecated', 'verbose': 0, 'random_state': None, 'copy_x': True, 'n_jobs': 'deprecated', 'algorithm': 'auto'} # These parameters are specifically for the KMeans algorithm\n",
    "cluster_params = {'cdf_resolution': 10, 'grouping': 'quantile_all', 'year': None, 'user_KMeans': KMeans_params}\n",
    "tw_net.cluster()"
   ]
  },
  {
   "cell_type": "markdown",
   "metadata": {},
   "source": [
    "## Now we can run CRE"
   ]
  },
  {
   "cell_type": "code",
   "execution_count": 8,
   "metadata": {
    "ExecuteTime": {
     "end_time": "2020-12-20T22:58:04.715347Z",
     "start_time": "2020-12-20T22:58:04.285460Z"
    }
   },
   "outputs": [],
   "source": [
    "# Optional parameters\n",
    "cre_params = {'ncore': 1, 'ndraw_tr': 5, 'ndp': 50, 'out': 'res_cre.json', 'posterior': False, 'wobtw': False}\n",
    "cre_res = tw_net.run_cre()"
   ]
  },
  {
   "cell_type": "markdown",
   "metadata": {},
   "source": [
    "## Finally, we can investigate the results"
   ]
  },
  {
   "cell_type": "code",
   "execution_count": 9,
   "metadata": {
    "ExecuteTime": {
     "end_time": "2020-12-20T22:58:04.727560Z",
     "start_time": "2020-12-20T22:58:04.718461Z"
    },
    "scrolled": true
   },
   "outputs": [
    {
     "data": {
      "text/plain": [
       "{'cores': '1',\n",
       " 'ndp': '50',\n",
       " 'ndt': '5',\n",
       " 'nm': '19876',\n",
       " 'ns': '641',\n",
       " 'n_firms': '196',\n",
       " 'n_workers': '10000',\n",
       " 'n_movers': '9359',\n",
       " 'mover_quantiles': '[153.0, 183.1142091152815, 191.0, 195.0, 199.0278728606357, 204.0, 207.0, 213.0, 218.0, 227.44847161572054, 242.0]',\n",
       " 'size_quantiles': '[157.0, 187.0, 194.0, 198.0, 203.03783783783783, 207.0, 210.0, 217.0, 221.0, 228.89694323144104, 246.0]',\n",
       " 'between_firm_var': '0.9901993152122719',\n",
       " 'var_y': '1.9748098517073747',\n",
       " 'solver_time': '0.03642719999999988',\n",
       " 'tot_var': '1.9815619279618752',\n",
       " 'eps_var_ho': '0.7791412507632073',\n",
       " 'eps_var_fe': '0.37962713728296194',\n",
       " 'tr_var_ho': '0.01359156599917644',\n",
       " 'tr_cov_ho': '-0.00855030428975486',\n",
       " 'var_fe': '0.565381796754361',\n",
       " 'cov_fe': '0.17785766674093728',\n",
       " 'var_ho': '0.554792047021932',\n",
       " 'cov_ho': '0.1845195615196629',\n",
       " 'total_time': '0.3574190139770508'}"
      ]
     },
     "metadata": {},
     "output_type": "display_data"
    },
    {
     "data": {
      "text/plain": [
       "{'ndt': '5',\n",
       " 'nm': '19876',\n",
       " 'ns': '641',\n",
       " 'n_firms': '196',\n",
       " 'n_workers': '10000',\n",
       " 'var_y': '1.9748098517073747',\n",
       " 'y1s_y1s': '-0.018778670136099976',\n",
       " 'y1s_y1s_count': '623',\n",
       " 'y1s_var': '0.43099499394218876',\n",
       " 'y1s_var_count': '641',\n",
       " 'y1m_var': '0.9818785506383447',\n",
       " 'y1m_var_count': '19876',\n",
       " 'y2m_var': '0.9846774666587136',\n",
       " 'y2m_var_count': '19876',\n",
       " 'y1s_y1m1': '0.0010900910450677528',\n",
       " 'y1s_y1m1_count': '641',\n",
       " 'y1s_y2m1': '0.0011375691227155879',\n",
       " 'y1s_y2m1_count': '641',\n",
       " 'y1m1_y1m1': '-0.003670002633836549',\n",
       " 'y1m1_y1m1_count': '19876',\n",
       " 'y2m1_y1m1': '-0.0013277022473827153',\n",
       " 'y2m1_y1m1_count': '19876',\n",
       " 'y2m1_y2m1': '-0.00132049117105973',\n",
       " 'y2m1_y2m1_count': '19876',\n",
       " 'y1s_y1m2': '3.332738550275785e-06',\n",
       " 'y1s_y1m2_count': '641',\n",
       " 'y1s_y2m2': '0.0019052486391465664',\n",
       " 'y1s_y2m2_count': '641',\n",
       " 'y1m2_y1m2': '0.0003902146143839548',\n",
       " 'y1m2_y1m2_count': '19876',\n",
       " 'y2m2_y1m2': '-0.00023627415237117391',\n",
       " 'y2m2_y1m2_count': '19876',\n",
       " 'y2m2_y2m2': '-0.0011953236874498625',\n",
       " 'y2m2_y2m2_count': '19876',\n",
       " 'dym_dym': '1.5524383735039806',\n",
       " 'dym_dym_count': '16469',\n",
       " 'y1m_y2m': '0.2130824011991643',\n",
       " 'y1m_y2m_count': '16469',\n",
       " 'cov_Am1Am1': '-0.00132049117105973',\n",
       " 'cov_Am1Psi1': '-7.211076322985281e-06',\n",
       " 'var_psi_m1': '-0.0023350893101308483',\n",
       " 'cov_Am2Am2': '0.0003902146143839548',\n",
       " 'cov_Am2Psi2': '-0.0006264887667551287',\n",
       " 'var_psi_m2': '-0.0003325607683235599',\n",
       " 'cov_AsAm1': '0.0011447801990385731',\n",
       " 'cov_AsAm2': '0.0006298215053054045',\n",
       " 'psi_plus_cov1': '-4.74780776478351e-05',\n",
       " 'psi_plus_cov2': '0.0019019159005962906',\n",
       " 'var_psi': '-0.0013338250392272042',\n",
       " 'cov_AsPsi1': '0.0031882628621756597',\n",
       " 'cov_AsAs': '-0.02382137082122409',\n",
       " 'var_eps': '1.555106023582435',\n",
       " 'var_bw': '0.556476854998976',\n",
       " 'cov_bw': '0.183064814696513',\n",
       " 'var_wt': '-0.0013338250392272042',\n",
       " 'cov_wt': '9.262314868932799e-05',\n",
       " 'tot_var': '0.5551430299597488'}"
      ]
     },
     "metadata": {},
     "output_type": "display_data"
    }
   ],
   "source": [
    "display(akm_res)\n",
    "display(cre_res)"
   ]
  }
 ],
 "metadata": {
  "hide_input": false,
  "kernelspec": {
   "display_name": "Python 3",
   "language": "python",
   "name": "python3"
  },
  "language_info": {
   "codemirror_mode": {
    "name": "ipython",
    "version": 3
   },
   "file_extension": ".py",
   "mimetype": "text/x-python",
   "name": "python",
   "nbconvert_exporter": "python",
   "pygments_lexer": "ipython3",
   "version": "3.8.3"
  },
  "latex_envs": {
   "LaTeX_envs_menu_present": true,
   "autoclose": false,
   "autocomplete": true,
   "bibliofile": "biblio.bib",
   "cite_by": "apalike",
   "current_citInitial": 1,
   "eqLabelWithNumbers": true,
   "eqNumInitial": 1,
   "hotkeys": {
    "equation": "Ctrl-E",
    "itemize": "Ctrl-I"
   },
   "labels_anchors": false,
   "latex_user_defs": false,
   "report_style_numbering": false,
   "user_envs_cfg": false
  },
  "toc": {
   "base_numbering": 1,
   "nav_menu": {},
   "number_sections": true,
   "sideBar": true,
   "skip_h1_title": false,
   "title_cell": "Table of Contents",
   "title_sidebar": "Contents",
   "toc_cell": false,
   "toc_position": {},
   "toc_section_display": true,
   "toc_window_display": false
  },
  "varInspector": {
   "cols": {
    "lenName": 16,
    "lenType": 16,
    "lenVar": 40
   },
   "kernels_config": {
    "python": {
     "delete_cmd_postfix": "",
     "delete_cmd_prefix": "del ",
     "library": "var_list.py",
     "varRefreshCmd": "print(var_dic_list())"
    },
    "r": {
     "delete_cmd_postfix": ") ",
     "delete_cmd_prefix": "rm(",
     "library": "var_list.r",
     "varRefreshCmd": "cat(var_dic_list()) "
    }
   },
   "types_to_exclude": [
    "module",
    "function",
    "builtin_function_or_method",
    "instance",
    "_Feature"
   ],
   "window_display": false
  }
 },
 "nbformat": 4,
 "nbformat_minor": 4
}
