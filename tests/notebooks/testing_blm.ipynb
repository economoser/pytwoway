{
 "cells": [
  {
   "cell_type": "code",
   "execution_count": 29,
   "metadata": {
    "ExecuteTime": {
     "end_time": "2021-02-15T16:10:19.655253Z",
     "start_time": "2021-02-15T16:10:19.638006Z"
    }
   },
   "outputs": [
    {
     "name": "stdout",
     "output_type": "stream",
     "text": [
      "The autoreload extension is already loaded. To reload it, use:\n",
      "  %reload_ext autoreload\n"
     ]
    }
   ],
   "source": [
    "import sys\n",
    "import numpy as np\n",
    "sys.path.append(\"../..\")\n",
    "\n",
    "%load_ext autoreload\n",
    "%autoreload 2\n",
    "\n",
    "\n",
    "import pytwoway as pytw"
   ]
  },
  {
   "cell_type": "code",
   "execution_count": 115,
   "metadata": {
    "ExecuteTime": {
     "end_time": "2021-02-15T16:54:37.629171Z",
     "start_time": "2021-02-15T16:54:37.507826Z"
    }
   },
   "outputs": [],
   "source": [
    "##### Test qi matrix #####\n",
    "# Set parameter values\n",
    "nl = 3\n",
    "nk = 4\n",
    "mmult = 100\n",
    "\n",
    "# Initiate BLMEstimator object\n",
    "blm = pytw.BLMEstimator({'nl': nl, 'nk': nk})\n",
    "model = blm._m2_mixt_new(fixb=False, stationary=False)\n",
    "\n",
    "jdata = blm._m2_mixt_simulate_movers(model, model.NNm * mmult)\n",
    "\n",
    "blm.A1 = model.A1\n",
    "blm.A2 = model.A2\n",
    "blm.S1 = model.S1\n",
    "blm.S2 = model.S2\n",
    "blm.pk1 = model.pk1\n",
    "blm.pk0 = model.pk0\n",
    "blm.NNm = model.NNm\n",
    "blm.NNs = model.NNs\n",
    "\n",
    "jdata\n",
    "blm.fit_A(jdata, {\"maxiter\":10})"
   ]
  },
  {
   "cell_type": "code",
   "execution_count": 118,
   "metadata": {
    "ExecuteTime": {
     "end_time": "2021-02-15T16:56:40.192136Z",
     "start_time": "2021-02-15T16:56:40.091286Z"
    }
   },
   "outputs": [
    {
     "data": {
      "image/png": "[encoded data removed]",
      "text/plain": [
       "<Figure size 432x288 with 1 Axes>"
      ]
     },
     "metadata": {
      "needs_background": "light"
     },
     "output_type": "display_data"
    }
   ],
   "source": [
    "import matplotlib.pyplot as plt\n",
    "\n",
    "plt.plot(blm.A1.flatten(), model.A1.flatten(), \".\",color=\"red\",label=\"A1\")\n",
    "plt.plot(blm.A2.flatten(), model.A2.flatten(), \".\",color=\"green\",label=\"A2\")\n",
    "plt.ylabel(\"model\")\n",
    "plt.xlabel(\"estimates\")\n",
    "plt.legend()\n",
    "plt.show()"
   ]
  }
 ],
 "metadata": {
  "kernelspec": {
   "display_name": "Python [conda env:twfe-env]",
   "language": "python",
   "name": "conda-env-twfe-env-py"
  },
  "language_info": {
   "codemirror_mode": {
    "name": "ipython",
    "version": 3
   },
   "file_extension": ".py",
   "mimetype": "text/x-python",
   "name": "python",
   "nbconvert_exporter": "python",
   "pygments_lexer": "ipython3",
   "version": "3.8.5"
  }
 },
 "nbformat": 4,
 "nbformat_minor": 4
}
